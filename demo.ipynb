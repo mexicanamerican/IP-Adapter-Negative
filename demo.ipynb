{
 "cells": [
  {
   "cell_type": "code",
   "execution_count": 8,
   "metadata": {},
   "outputs": [
    {
     "data": {
      "application/vnd.jupyter.widget-view+json": {
       "model_id": "caeae9bcaa1a42e3936c57b982960d59",
       "version_major": 2,
       "version_minor": 0
      },
      "text/plain": [
       "Loading pipeline components...:   0%|          | 0/5 [00:00<?, ?it/s]"
      ]
     },
     "metadata": {},
     "output_type": "display_data"
    }
   ],
   "source": [
    "import torch\n",
    "from diffusers import StableDiffusionPipeline, StableDiffusionImg2ImgPipeline, StableDiffusionInpaintPipelineLegacy, DDIMScheduler, AutoencoderKL\n",
    "from PIL import Image\n",
    "\n",
    "from ip_adapter import IPAdapterPlus, IPAdapter\n",
    "base_model_path = \"SG161222/Realistic_Vision_V4.0_noVAE\"\n",
    "vae_model_path = \"stabilityai/sd-vae-ft-mse\"\n",
    "image_encoder_path = \"models/image_encoder\"\n",
    "ip_ckpt = \"models/ip-adapter-plus_sd15.bin\"\n",
    "device = \"cuda\"\n",
    "noise_scheduler = DDIMScheduler(\n",
    "    num_train_timesteps=1000,\n",
    "    beta_start=0.00085,\n",
    "    beta_end=0.012,\n",
    "    beta_schedule=\"scaled_linear\",\n",
    "    clip_sample=False,\n",
    "    set_alpha_to_one=False,\n",
    "    steps_offset=1,\n",
    ")\n",
    "vae = AutoencoderKL.from_pretrained(vae_model_path).to(dtype=torch.float16)\n",
    "pipe = StableDiffusionPipeline.from_pretrained(\n",
    "    base_model_path,\n",
    "    torch_dtype=torch.float16,\n",
    "    scheduler=noise_scheduler,\n",
    "    vae=vae,\n",
    "    feature_extractor=None,\n",
    "    safety_checker=None\n",
    ")\n",
    "\n",
    "\n",
    "\n",
    "\n"
   ]
  },
  {
   "cell_type": "code",
   "execution_count": 11,
   "metadata": {},
   "outputs": [
    {
     "name": "stdout",
     "output_type": "stream",
     "text": [
      "Running on local URL:  http://0.0.0.0:7860\n",
      "\n",
      "To create a public link, set `share=True` in `launch()`.\n"
     ]
    },
    {
     "data": {
      "application/vnd.jupyter.widget-view+json": {
       "model_id": "da9bbcbb1ace403eae212ed8db965c27",
       "version_major": 2,
       "version_minor": 0
      },
      "text/plain": [
       "  0%|          | 0/25 [00:00<?, ?it/s]"
      ]
     },
     "metadata": {},
     "output_type": "display_data"
    },
    {
     "name": "stdout",
     "output_type": "stream",
     "text": [
      "[<PIL.Image.Image image mode=RGB size=512x512 at 0x1B3D7DBFE80>]\n",
      "use negative image\n"
     ]
    },
    {
     "data": {
      "application/vnd.jupyter.widget-view+json": {
       "model_id": "183f7435fc0049b0a9423e3cdb13ca3e",
       "version_major": 2,
       "version_minor": 0
      },
      "text/plain": [
       "  0%|          | 0/25 [00:00<?, ?it/s]"
      ]
     },
     "metadata": {},
     "output_type": "display_data"
    },
    {
     "name": "stdout",
     "output_type": "stream",
     "text": [
      "[<PIL.Image.Image image mode=RGB size=512x512 at 0x1B3D7FE6380>]\n",
      "use negative image\n"
     ]
    },
    {
     "data": {
      "application/vnd.jupyter.widget-view+json": {
       "model_id": "ed7785c42cd240ff9ea63e0ae1cdb434",
       "version_major": 2,
       "version_minor": 0
      },
      "text/plain": [
       "  0%|          | 0/25 [00:00<?, ?it/s]"
      ]
     },
     "metadata": {},
     "output_type": "display_data"
    },
    {
     "name": "stdout",
     "output_type": "stream",
     "text": [
      "[<PIL.Image.Image image mode=RGB size=512x512 at 0x1B3D7D2F130>, <PIL.Image.Image image mode=RGB size=512x512 at 0x1B3D7D2F2B0>, <PIL.Image.Image image mode=RGB size=512x512 at 0x1B3D7D2D180>, <PIL.Image.Image image mode=RGB size=512x512 at 0x1B3D7D2EC80>]\n",
      "use negative image\n"
     ]
    },
    {
     "data": {
      "application/vnd.jupyter.widget-view+json": {
       "model_id": "7d7a3b7ec42942e086adcf51737b7a41",
       "version_major": 2,
       "version_minor": 0
      },
      "text/plain": [
       "  0%|          | 0/25 [00:00<?, ?it/s]"
      ]
     },
     "metadata": {},
     "output_type": "display_data"
    },
    {
     "name": "stdout",
     "output_type": "stream",
     "text": [
      "[<PIL.Image.Image image mode=RGB size=512x512 at 0x1B3D7D2E1D0>, <PIL.Image.Image image mode=RGB size=512x512 at 0x1B3D7D2F4C0>, <PIL.Image.Image image mode=RGB size=512x512 at 0x1B3D7D2FB80>, <PIL.Image.Image image mode=RGB size=512x512 at 0x1B3D7CAD660>]\n",
      "use negative image\n"
     ]
    },
    {
     "data": {
      "application/vnd.jupyter.widget-view+json": {
       "model_id": "1ce73de312b647b986947656d6aff110",
       "version_major": 2,
       "version_minor": 0
      },
      "text/plain": [
       "  0%|          | 0/25 [00:00<?, ?it/s]"
      ]
     },
     "metadata": {},
     "output_type": "display_data"
    },
    {
     "name": "stdout",
     "output_type": "stream",
     "text": [
      "[<PIL.Image.Image image mode=RGB size=512x512 at 0x1B3D7CADC00>, <PIL.Image.Image image mode=RGB size=512x512 at 0x1B3D7CAE950>, <PIL.Image.Image image mode=RGB size=512x512 at 0x1B3D7CAFE20>, <PIL.Image.Image image mode=RGB size=512x512 at 0x1B3D7CAE830>]\n",
      "use negative image\n"
     ]
    },
    {
     "data": {
      "application/vnd.jupyter.widget-view+json": {
       "model_id": "6c7f8befa7784b52be896e0942b2601b",
       "version_major": 2,
       "version_minor": 0
      },
      "text/plain": [
       "  0%|          | 0/25 [00:00<?, ?it/s]"
      ]
     },
     "metadata": {},
     "output_type": "display_data"
    },
    {
     "name": "stdout",
     "output_type": "stream",
     "text": [
      "[<PIL.Image.Image image mode=RGB size=512x512 at 0x1B3D7CAC940>, <PIL.Image.Image image mode=RGB size=512x512 at 0x1B3D7CAC3A0>, <PIL.Image.Image image mode=RGB size=512x512 at 0x1B3D7CAD300>, <PIL.Image.Image image mode=RGB size=512x512 at 0x1B3D7CAD4B0>]\n",
      "use negative image\n"
     ]
    },
    {
     "data": {
      "application/vnd.jupyter.widget-view+json": {
       "model_id": "35beee3e572a43ae95acb04304b8799f",
       "version_major": 2,
       "version_minor": 0
      },
      "text/plain": [
       "  0%|          | 0/25 [00:00<?, ?it/s]"
      ]
     },
     "metadata": {},
     "output_type": "display_data"
    },
    {
     "name": "stdout",
     "output_type": "stream",
     "text": [
      "[<PIL.Image.Image image mode=RGB size=512x512 at 0x1B3D7D28EE0>, <PIL.Image.Image image mode=RGB size=512x512 at 0x1B3D7D2AAD0>, <PIL.Image.Image image mode=RGB size=512x512 at 0x1B3D7D2A410>, <PIL.Image.Image image mode=RGB size=512x512 at 0x1B3D7D28D60>]\n"
     ]
    },
    {
     "data": {
      "application/vnd.jupyter.widget-view+json": {
       "model_id": "ebcca16df9364b5d8103fd2ce3f16786",
       "version_major": 2,
       "version_minor": 0
      },
      "text/plain": [
       "  0%|          | 0/25 [00:00<?, ?it/s]"
      ]
     },
     "metadata": {},
     "output_type": "display_data"
    },
    {
     "name": "stdout",
     "output_type": "stream",
     "text": [
      "[<PIL.Image.Image image mode=RGB size=512x512 at 0x1B3D7C3E590>, <PIL.Image.Image image mode=RGB size=512x512 at 0x1B3D7C3CE50>, <PIL.Image.Image image mode=RGB size=512x512 at 0x1B3D7C3DA80>, <PIL.Image.Image image mode=RGB size=512x512 at 0x1B3D7C3D510>]\n"
     ]
    },
    {
     "data": {
      "application/vnd.jupyter.widget-view+json": {
       "model_id": "1ea2bae86ec34b73a226316a4e36aa11",
       "version_major": 2,
       "version_minor": 0
      },
      "text/plain": [
       "  0%|          | 0/25 [00:00<?, ?it/s]"
      ]
     },
     "metadata": {},
     "output_type": "display_data"
    },
    {
     "name": "stdout",
     "output_type": "stream",
     "text": [
      "[<PIL.Image.Image image mode=RGB size=512x512 at 0x1B3D7C3EDA0>, <PIL.Image.Image image mode=RGB size=512x512 at 0x1B3D7C3EEF0>, <PIL.Image.Image image mode=RGB size=512x512 at 0x1B3D7C3ECE0>, <PIL.Image.Image image mode=RGB size=512x512 at 0x1B3D7C3F3A0>]\n"
     ]
    },
    {
     "data": {
      "application/vnd.jupyter.widget-view+json": {
       "model_id": "491ff2c3577d46aa993f800141202855",
       "version_major": 2,
       "version_minor": 0
      },
      "text/plain": [
       "  0%|          | 0/25 [00:00<?, ?it/s]"
      ]
     },
     "metadata": {},
     "output_type": "display_data"
    },
    {
     "name": "stdout",
     "output_type": "stream",
     "text": [
      "[<PIL.Image.Image image mode=RGB size=512x512 at 0x1B3D7C20640>, <PIL.Image.Image image mode=RGB size=512x512 at 0x1B3D7C235B0>, <PIL.Image.Image image mode=RGB size=512x512 at 0x1B3D7C22860>, <PIL.Image.Image image mode=RGB size=512x512 at 0x1B3D7C23250>]\n"
     ]
    },
    {
     "data": {
      "application/vnd.jupyter.widget-view+json": {
       "model_id": "a423321df6644eaaa5276261d9a311b6",
       "version_major": 2,
       "version_minor": 0
      },
      "text/plain": [
       "  0%|          | 0/25 [00:00<?, ?it/s]"
      ]
     },
     "metadata": {},
     "output_type": "display_data"
    },
    {
     "name": "stdout",
     "output_type": "stream",
     "text": [
      "[<PIL.Image.Image image mode=RGB size=512x512 at 0x1B3D7C22170>, <PIL.Image.Image image mode=RGB size=512x512 at 0x1B3D7C23610>, <PIL.Image.Image image mode=RGB size=512x512 at 0x1B3D7C23160>, <PIL.Image.Image image mode=RGB size=512x512 at 0x1B3D7C223B0>]\n"
     ]
    },
    {
     "data": {
      "application/vnd.jupyter.widget-view+json": {
       "model_id": "d7cab19be81a45b1a5518e11c13c3511",
       "version_major": 2,
       "version_minor": 0
      },
      "text/plain": [
       "  0%|          | 0/25 [00:00<?, ?it/s]"
      ]
     },
     "metadata": {},
     "output_type": "display_data"
    },
    {
     "name": "stdout",
     "output_type": "stream",
     "text": [
      "[<PIL.Image.Image image mode=RGB size=512x512 at 0x1B3D7C21810>, <PIL.Image.Image image mode=RGB size=512x512 at 0x1B3D7C23F70>, <PIL.Image.Image image mode=RGB size=512x512 at 0x1B3D7C23F10>, <PIL.Image.Image image mode=RGB size=512x512 at 0x1B3D7C23B50>]\n",
      "use negative image\n"
     ]
    },
    {
     "data": {
      "application/vnd.jupyter.widget-view+json": {
       "model_id": "958ef948bb78415cbc221b3f4243a5e8",
       "version_major": 2,
       "version_minor": 0
      },
      "text/plain": [
       "  0%|          | 0/25 [00:00<?, ?it/s]"
      ]
     },
     "metadata": {},
     "output_type": "display_data"
    },
    {
     "name": "stdout",
     "output_type": "stream",
     "text": [
      "[<PIL.Image.Image image mode=RGB size=512x512 at 0x1B3D7C224A0>, <PIL.Image.Image image mode=RGB size=512x512 at 0x1B3D7C213F0>, <PIL.Image.Image image mode=RGB size=512x512 at 0x1B3D7C21660>, <PIL.Image.Image image mode=RGB size=512x512 at 0x1B3D7C22BF0>]\n",
      "use negative image\n"
     ]
    },
    {
     "data": {
      "application/vnd.jupyter.widget-view+json": {
       "model_id": "27eb4b30574a42f69ef7634424b5dfd7",
       "version_major": 2,
       "version_minor": 0
      },
      "text/plain": [
       "  0%|          | 0/25 [00:00<?, ?it/s]"
      ]
     },
     "metadata": {},
     "output_type": "display_data"
    },
    {
     "name": "stdout",
     "output_type": "stream",
     "text": [
      "[<PIL.Image.Image image mode=RGB size=512x512 at 0x1B3D7CAE110>, <PIL.Image.Image image mode=RGB size=512x512 at 0x1B3D7C62C50>, <PIL.Image.Image image mode=RGB size=512x512 at 0x1B3D7C61BA0>, <PIL.Image.Image image mode=RGB size=512x512 at 0x1B3D7C61E70>]\n",
      "use negative image\n"
     ]
    },
    {
     "data": {
      "application/vnd.jupyter.widget-view+json": {
       "model_id": "e0ca2bbf947349fdb1901f7d97b2c1d0",
       "version_major": 2,
       "version_minor": 0
      },
      "text/plain": [
       "  0%|          | 0/25 [00:00<?, ?it/s]"
      ]
     },
     "metadata": {},
     "output_type": "display_data"
    },
    {
     "name": "stdout",
     "output_type": "stream",
     "text": [
      "[<PIL.Image.Image image mode=RGB size=512x512 at 0x1B3D7C62290>, <PIL.Image.Image image mode=RGB size=512x512 at 0x1B3D7C621D0>, <PIL.Image.Image image mode=RGB size=512x512 at 0x1B3D7C61AE0>, <PIL.Image.Image image mode=RGB size=512x512 at 0x1B3D7C62DA0>]\n",
      "use negative image\n"
     ]
    },
    {
     "data": {
      "application/vnd.jupyter.widget-view+json": {
       "model_id": "d11902c5e0d94040aabb1dfb1a595e64",
       "version_major": 2,
       "version_minor": 0
      },
      "text/plain": [
       "  0%|          | 0/25 [00:00<?, ?it/s]"
      ]
     },
     "metadata": {},
     "output_type": "display_data"
    },
    {
     "name": "stdout",
     "output_type": "stream",
     "text": [
      "[<PIL.Image.Image image mode=RGB size=512x512 at 0x1B3D7DA7FA0>, <PIL.Image.Image image mode=RGB size=512x512 at 0x1B3D7DA6680>, <PIL.Image.Image image mode=RGB size=512x512 at 0x1B3D7DA6320>, <PIL.Image.Image image mode=RGB size=512x512 at 0x1B3D7DA7910>]\n",
      "use negative image\n"
     ]
    },
    {
     "data": {
      "application/vnd.jupyter.widget-view+json": {
       "model_id": "aceb3881f8c84f5b8140f7da8f116a5f",
       "version_major": 2,
       "version_minor": 0
      },
      "text/plain": [
       "  0%|          | 0/25 [00:00<?, ?it/s]"
      ]
     },
     "metadata": {},
     "output_type": "display_data"
    },
    {
     "name": "stdout",
     "output_type": "stream",
     "text": [
      "[<PIL.Image.Image image mode=RGB size=512x512 at 0x1B3D7D29510>, <PIL.Image.Image image mode=RGB size=512x512 at 0x1B3D7D297B0>, <PIL.Image.Image image mode=RGB size=512x512 at 0x1B3D7D2ADD0>, <PIL.Image.Image image mode=RGB size=512x512 at 0x1B3D7D28850>]\n",
      "use negative image\n"
     ]
    },
    {
     "data": {
      "application/vnd.jupyter.widget-view+json": {
       "model_id": "cef286adcfc4412ba07627453650c36a",
       "version_major": 2,
       "version_minor": 0
      },
      "text/plain": [
       "  0%|          | 0/25 [00:00<?, ?it/s]"
      ]
     },
     "metadata": {},
     "output_type": "display_data"
    },
    {
     "name": "stdout",
     "output_type": "stream",
     "text": [
      "[<PIL.Image.Image image mode=RGB size=512x512 at 0x1B3D7D2FFA0>, <PIL.Image.Image image mode=RGB size=512x512 at 0x1B3D7D2FA90>, <PIL.Image.Image image mode=RGB size=512x512 at 0x1B3D7D2E470>, <PIL.Image.Image image mode=RGB size=512x512 at 0x1B3D7D2F820>]\n",
      "Keyboard interruption in main thread... closing server.\n"
     ]
    }
   ],
   "source": [
    "import random\n",
    "ip_adapters_list = ['IP Adapter', 'IP Adapter Plus']\n",
    "def generate(ip_adapter, image, \n",
    "             neg_image, \n",
    "             scale,\n",
    "             scale_start,\n",
    "             scale_stop,                          \n",
    "             neg_scale,\n",
    "             scale_neg_start,\n",
    "             scale_neg_stop,                           \n",
    "             prompt, \n",
    "             negative_prompt, \n",
    "             num_samples, \n",
    "             steps, \n",
    "             seed):\n",
    "    if image is None:\n",
    "      scale =0\n",
    "      image = Image.open(\"assets/images/statue.png\")\n",
    "    \n",
    "    if seed == -1:\n",
    "      seed = random.randint(0, 1e12)\n",
    "\n",
    "    if ip_adapter == 'IP Adapter':\n",
    "      # load ip-adapter\n",
    "      ip_ckpt = \"models/ip-adapter_sd15.bin\"\n",
    "      ip_model = IPAdapter(pipe, image_encoder_path, ip_ckpt, device)\n",
    "    elif ip_adapter == 'IP Adapter Plus':\n",
    "      # load ip-adapter\n",
    "      ip_ckpt = \"models/ip-adapter-plus_sd15.bin\"\n",
    "      ip_model = IPAdapterPlus(pipe, image_encoder_path, ip_ckpt, device, num_tokens=16)\n",
    "    else:\n",
    "      raise ValueError('IP adapter %s is undefined.'%ip_adapter)\n",
    "\n",
    "    images = ip_model.generate(pil_image=image, \n",
    "                           negative_pil_image=neg_image,\n",
    "                           prompt = prompt,\n",
    "                           negative_prompt= negative_prompt,\n",
    "                           num_samples=num_samples, \n",
    "                           scale=scale,  # weight for image prompt\n",
    "                           scale_start= scale_start,\n",
    "                           scale_stop= scale_stop,\n",
    "                           scale_neg = neg_scale, # weight for negative image prompt\n",
    "                           scale_neg_start = scale_neg_start,\n",
    "                           scale_neg_stop = scale_neg_stop,                                 \n",
    "                           num_inference_steps=steps, \n",
    "                           seed=seed)\n",
    "    print(images)\n",
    "    return images\n",
    "\n",
    "\n",
    "shortcut_js = \"\"\"\n",
    "<script>\n",
    "function shortcuts(e) {\n",
    "\n",
    "    if ((event.keyCode == 10 || event.keyCode == 13) && event.ctrlKey) {\n",
    "        document.getElementById(\"generate-button\").click();\n",
    "    }\n",
    "}\n",
    "document.addEventListener('keyup', shortcuts, false);\n",
    "</script>\n",
    "\"\"\"\n",
    "\n",
    "import gradio as gr\n",
    "with gr.Blocks(head=shortcut_js) as demo:\n",
    "  resized_image_file = gr.File(visible=False)\n",
    "\n",
    "  gr.Markdown(\"# Stable Diffuson Negative Image Prompt\")\n",
    "  with gr.Row():\n",
    "    with gr.Column():\n",
    "      with gr.Row():\n",
    "        with gr.Column():\n",
    "          prompt = gr.Textbox(label=\"Prompt\", value = \"a man\")\n",
    "          scale = gr.Slider(0, 2, value=1, label=\"Image prompt weight\")\n",
    "          scale_start = gr.Slider(0, 1, value=0, label=\"Starting step\")\n",
    "          scale_stop = gr.Slider(0, 1, value=1, label=\"Ending step\")\n",
    "          imagePrompt = gr.Image(label=\"Image Prompt\", type = \"pil\")\n",
    "        with gr.Column():      \n",
    "          negativePrompt = gr.Textbox(label=\"Negative Prompt\", value = \"nsfw\")\n",
    "          negativeScale = gr.Slider(0, 2, value=1, label=\"Negative Image prompt weight\")\n",
    "          negativeScale_start = gr.Slider(0, 1, value=0, label=\"Starting step\")\n",
    "          negativeScale_stop = gr.Slider(0, 1, value=1, label=\"Ending step\")          \n",
    "          negativeImagePrompt = gr.Image(label=\"Negative Image Prompt\", type = \"pil\")\n",
    "      with gr.Accordion(label=\"Advanced options\", open=False):\n",
    "        ip_adapter = gr.Dropdown(choices = ip_adapters_list, value = ip_adapters_list[0], label = \"IP Adapter\", interactive = True)\n",
    "        numImages = gr.Number(precision=0, label=\"Number of images\", value=1)\n",
    "        steps = gr.Number(precision=0, label=\"Number of steps\", value=25)\n",
    "        seed = gr.Number(precision=0, label=\"Seed\", value=-1)\n",
    "    with gr.Column():\n",
    "      btn = gr.Button(\"Generate\", elem_id=\"generate-button\")\n",
    "      imagesOut = gr.Gallery(object_fit=\"contain\", height=\"auto\", selected_index = 0, preview = True)\n",
    "\n",
    "\n",
    "  inputs = [ip_adapter, imagePrompt, negativeImagePrompt, scale, scale_start, scale_stop, negativeScale, negativeScale_start, negativeScale_stop, prompt, negativePrompt, numImages, steps, seed]\n",
    "  outputs = imagesOut\n",
    "  btn.click(generate, inputs=inputs, outputs=outputs)\n",
    "  demo.queue().launch(debug=True, share=False, inline=False, show_error=True, server_name=\"0.0.0.0\")"
   ]
  }
 ],
 "metadata": {
  "kernelspec": {
   "display_name": "venv",
   "language": "python",
   "name": "python3"
  },
  "language_info": {
   "codemirror_mode": {
    "name": "ipython",
    "version": 3
   },
   "file_extension": ".py",
   "mimetype": "text/x-python",
   "name": "python",
   "nbconvert_exporter": "python",
   "pygments_lexer": "ipython3",
   "version": "3.10.11"
  }
 },
 "nbformat": 4,
 "nbformat_minor": 2
}
