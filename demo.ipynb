{
  "cells": [
    {
      "cell_type": "code",
      "execution_count": 1,
      "metadata": {
        "colab": {
          "base_uri": "https://localhost:8080/"
        },
        "id": "tCkrPrF2O5jC",
        "outputId": "88019e95-5431-4b1d-e245-ad49c5b1d431"
      },
      "outputs": [
        {
          "name": "stdout",
          "output_type": "stream",
          "text": [
            "Collecting diffusers\n",
            "  Downloading diffusers-0.25.0-py3-none-any.whl (1.8 MB)\n",
            "\u001b[2K     \u001b[90m━━━━━━━━━━━━━━━━━━━━━━━━━━━━━━━━━━━━━━━━\u001b[0m \u001b[32m1.8/1.8 MB\u001b[0m \u001b[31m6.1 MB/s\u001b[0m eta \u001b[36m0:00:00\u001b[0m\n",
            "\u001b[?25hCollecting einops\n",
            "  Downloading einops-0.7.0-py3-none-any.whl (44 kB)\n",
            "\u001b[2K     \u001b[90m━━━━━━━━━━━━━━━━━━━━━━━━━━━━━━━━━━━━━━━━\u001b[0m \u001b[32m44.6/44.6 kB\u001b[0m \u001b[31m4.6 MB/s\u001b[0m eta \u001b[36m0:00:00\u001b[0m\n",
            "\u001b[?25hCollecting gradio\n",
            "  Downloading gradio-4.14.0-py3-none-any.whl (16.6 MB)\n",
            "\u001b[2K     \u001b[90m━━━━━━━━━━━━━━━━━━━━━━━━━━━━━━━━━━━━━━━━\u001b[0m \u001b[32m16.6/16.6 MB\u001b[0m \u001b[31m23.4 MB/s\u001b[0m eta \u001b[36m0:00:00\u001b[0m\n",
            "\u001b[?25hRequirement already satisfied: typing_extensions in /usr/local/lib/python3.10/dist-packages (4.5.0)\n",
            "Collecting fastapi==0.100.0\n",
            "  Downloading fastapi-0.100.0-py3-none-any.whl (65 kB)\n",
            "\u001b[2K     \u001b[90m━━━━━━━━━━━━━━━━━━━━━━━━━━━━━━━━━━━━━━━━\u001b[0m \u001b[32m65.7/65.7 kB\u001b[0m \u001b[31m3.4 MB/s\u001b[0m eta \u001b[36m0:00:00\u001b[0m\n",
            "\u001b[?25hRequirement already satisfied: pydantic!=1.8,!=1.8.1,!=2.0.0,!=2.0.1,<3.0.0,>=1.7.4 in /usr/local/lib/python3.10/dist-packages (from fastapi==0.100.0) (1.10.13)\n",
            "Collecting starlette<0.28.0,>=0.27.0 (from fastapi==0.100.0)\n",
            "  Downloading starlette-0.27.0-py3-none-any.whl (66 kB)\n",
            "\u001b[2K     \u001b[90m━━━━━━━━━━━━━━━━━━━━━━━━━━━━━━━━━━━━━━━━\u001b[0m \u001b[32m67.0/67.0 kB\u001b[0m \u001b[31m2.5 MB/s\u001b[0m eta \u001b[36m0:00:00\u001b[0m\n",
            "\u001b[?25hRequirement already satisfied: importlib-metadata in /usr/local/lib/python3.10/dist-packages (from diffusers) (7.0.1)\n",
            "Requirement already satisfied: filelock in /usr/local/lib/python3.10/dist-packages (from diffusers) (3.13.1)\n",
            "Requirement already satisfied: huggingface-hub>=0.19.4 in /usr/local/lib/python3.10/dist-packages (from diffusers) (0.20.2)\n",
            "Requirement already satisfied: numpy in /usr/local/lib/python3.10/dist-packages (from diffusers) (1.23.5)\n",
            "Requirement already satisfied: regex!=2019.12.17 in /usr/local/lib/python3.10/dist-packages (from diffusers) (2023.6.3)\n",
            "Requirement already satisfied: requests in /usr/local/lib/python3.10/dist-packages (from diffusers) (2.31.0)\n",
            "Requirement already satisfied: safetensors>=0.3.1 in /usr/local/lib/python3.10/dist-packages (from diffusers) (0.4.1)\n",
            "Requirement already satisfied: Pillow in /usr/local/lib/python3.10/dist-packages (from diffusers) (9.4.0)\n",
            "Collecting aiofiles<24.0,>=22.0 (from gradio)\n",
            "  Downloading aiofiles-23.2.1-py3-none-any.whl (15 kB)\n",
            "Requirement already satisfied: altair<6.0,>=4.2.0 in /usr/local/lib/python3.10/dist-packages (from gradio) (4.2.2)\n",
            "Collecting ffmpy (from gradio)\n",
            "  Downloading ffmpy-0.3.1.tar.gz (5.5 kB)\n",
            "  Preparing metadata (setup.py) ... \u001b[?25l\u001b[?25hdone\n",
            "Collecting gradio-client==0.8.0 (from gradio)\n",
            "  Downloading gradio_client-0.8.0-py3-none-any.whl (305 kB)\n",
            "\u001b[2K     \u001b[90m━━━━━━━━━━━━━━━━━━━━━━━━━━━━━━━━━━━━━━━━\u001b[0m \u001b[32m305.1/305.1 kB\u001b[0m \u001b[31m25.8 MB/s\u001b[0m eta \u001b[36m0:00:00\u001b[0m\n",
            "\u001b[?25hCollecting httpx (from gradio)\n",
            "  Downloading httpx-0.26.0-py3-none-any.whl (75 kB)\n",
            "\u001b[2K     \u001b[90m━━━━━━━━━━━━━━━━━━━━━━━━━━━━━━━━━━━━━━━━\u001b[0m \u001b[32m75.9/75.9 kB\u001b[0m \u001b[31m1.1 MB/s\u001b[0m eta \u001b[36m0:00:00\u001b[0m\n",
            "\u001b[?25hRequirement already satisfied: importlib-resources<7.0,>=1.3 in /usr/local/lib/python3.10/dist-packages (from gradio) (6.1.1)\n",
            "Requirement already satisfied: jinja2<4.0 in /usr/local/lib/python3.10/dist-packages (from gradio) (3.1.2)\n",
            "Requirement already satisfied: markupsafe~=2.0 in /usr/local/lib/python3.10/dist-packages (from gradio) (2.1.3)\n",
            "Requirement already satisfied: matplotlib~=3.0 in /usr/local/lib/python3.10/dist-packages (from gradio) (3.7.1)\n",
            "Collecting orjson~=3.0 (from gradio)\n",
            "  Downloading orjson-3.9.10-cp310-cp310-manylinux_2_17_x86_64.manylinux2014_x86_64.whl (138 kB)\n",
            "\u001b[2K     \u001b[90m━━━━━━━━━━━━━━━━━━━━━━━━━━━━━━━━━━━━━━━━\u001b[0m \u001b[32m138.7/138.7 kB\u001b[0m \u001b[31m3.1 MB/s\u001b[0m eta \u001b[36m0:00:00\u001b[0m\n",
            "\u001b[?25hRequirement already satisfied: packaging in /usr/local/lib/python3.10/dist-packages (from gradio) (23.2)\n",
            "Requirement already satisfied: pandas<3.0,>=1.0 in /usr/local/lib/python3.10/dist-packages (from gradio) (1.5.3)\n",
            "Collecting pydantic!=1.8,!=1.8.1,!=2.0.0,!=2.0.1,<3.0.0,>=1.7.4 (from fastapi==0.100.0)\n",
            "  Downloading pydantic-2.5.3-py3-none-any.whl (381 kB)\n",
            "\u001b[2K     \u001b[90m━━━━━━━━━━━━━━━━━━━━━━━━━━━━━━━━━━━━━━━━\u001b[0m \u001b[32m381.9/381.9 kB\u001b[0m \u001b[31m5.7 MB/s\u001b[0m eta \u001b[36m0:00:00\u001b[0m\n",
            "\u001b[?25hCollecting pydub (from gradio)\n",
            "  Downloading pydub-0.25.1-py2.py3-none-any.whl (32 kB)\n",
            "Collecting python-multipart (from gradio)\n",
            "  Downloading python_multipart-0.0.6-py3-none-any.whl (45 kB)\n",
            "\u001b[2K     \u001b[90m━━━━━━━━━━━━━━━━━━━━━━━━━━━━━━━━━━━━━━━━\u001b[0m \u001b[32m45.7/45.7 kB\u001b[0m \u001b[31m880.1 kB/s\u001b[0m eta \u001b[36m0:00:00\u001b[0m\n",
            "\u001b[?25hRequirement already satisfied: pyyaml<7.0,>=5.0 in /usr/local/lib/python3.10/dist-packages (from gradio) (6.0.1)\n",
            "Collecting semantic-version~=2.0 (from gradio)\n",
            "  Downloading semantic_version-2.10.0-py2.py3-none-any.whl (15 kB)\n",
            "Collecting tomlkit==0.12.0 (from gradio)\n",
            "  Downloading tomlkit-0.12.0-py3-none-any.whl (37 kB)\n",
            "Requirement already satisfied: typer[all]<1.0,>=0.9 in /usr/local/lib/python3.10/dist-packages (from gradio) (0.9.0)\n",
            "Collecting uvicorn>=0.14.0 (from gradio)\n",
            "  Downloading uvicorn-0.25.0-py3-none-any.whl (60 kB)\n",
            "\u001b[2K     \u001b[90m━━━━━━━━━━━━━━━━━━━━━━━━━━━━━━━━━━━━━━━━\u001b[0m \u001b[32m60.3/60.3 kB\u001b[0m \u001b[31m2.7 MB/s\u001b[0m eta \u001b[36m0:00:00\u001b[0m\n",
            "\u001b[?25hRequirement already satisfied: fsspec in /usr/local/lib/python3.10/dist-packages (from gradio-client==0.8.0->gradio) (2023.6.0)\n",
            "Collecting websockets<12.0,>=10.0 (from gradio-client==0.8.0->gradio)\n",
            "  Downloading websockets-11.0.3-cp310-cp310-manylinux_2_5_x86_64.manylinux1_x86_64.manylinux_2_17_x86_64.manylinux2014_x86_64.whl (129 kB)\n",
            "\u001b[2K     \u001b[90m━━━━━━━━━━━━━━━━━━━━━━━━━━━━━━━━━━━━━━━━\u001b[0m \u001b[32m129.9/129.9 kB\u001b[0m \u001b[31m10.9 MB/s\u001b[0m eta \u001b[36m0:00:00\u001b[0m\n",
            "\u001b[?25hRequirement already satisfied: entrypoints in /usr/local/lib/python3.10/dist-packages (from altair<6.0,>=4.2.0->gradio) (0.4)\n",
            "Requirement already satisfied: jsonschema>=3.0 in /usr/local/lib/python3.10/dist-packages (from altair<6.0,>=4.2.0->gradio) (4.19.2)\n",
            "Requirement already satisfied: toolz in /usr/local/lib/python3.10/dist-packages (from altair<6.0,>=4.2.0->gradio) (0.12.0)\n",
            "Requirement already satisfied: tqdm>=4.42.1 in /usr/local/lib/python3.10/dist-packages (from huggingface-hub>=0.19.4->diffusers) (4.66.1)\n",
            "Requirement already satisfied: contourpy>=1.0.1 in /usr/local/lib/python3.10/dist-packages (from matplotlib~=3.0->gradio) (1.2.0)\n",
            "Requirement already satisfied: cycler>=0.10 in /usr/local/lib/python3.10/dist-packages (from matplotlib~=3.0->gradio) (0.12.1)\n",
            "Requirement already satisfied: fonttools>=4.22.0 in /usr/local/lib/python3.10/dist-packages (from matplotlib~=3.0->gradio) (4.47.0)\n",
            "Requirement already satisfied: kiwisolver>=1.0.1 in /usr/local/lib/python3.10/dist-packages (from matplotlib~=3.0->gradio) (1.4.5)\n",
            "Requirement already satisfied: pyparsing>=2.3.1 in /usr/local/lib/python3.10/dist-packages (from matplotlib~=3.0->gradio) (3.1.1)\n",
            "Requirement already satisfied: python-dateutil>=2.7 in /usr/local/lib/python3.10/dist-packages (from matplotlib~=3.0->gradio) (2.8.2)\n",
            "Requirement already satisfied: pytz>=2020.1 in /usr/local/lib/python3.10/dist-packages (from pandas<3.0,>=1.0->gradio) (2023.3.post1)\n",
            "Collecting annotated-types>=0.4.0 (from pydantic!=1.8,!=1.8.1,!=2.0.0,!=2.0.1,<3.0.0,>=1.7.4->fastapi==0.100.0)\n",
            "  Downloading annotated_types-0.6.0-py3-none-any.whl (12 kB)\n",
            "Collecting pydantic-core==2.14.6 (from pydantic!=1.8,!=1.8.1,!=2.0.0,!=2.0.1,<3.0.0,>=1.7.4->fastapi==0.100.0)\n",
            "  Downloading pydantic_core-2.14.6-cp310-cp310-manylinux_2_17_x86_64.manylinux2014_x86_64.whl (2.1 MB)\n",
            "\u001b[2K     \u001b[90m━━━━━━━━━━━━━━━━━━━━━━━━━━━━━━━━━━━━━━━━\u001b[0m \u001b[32m2.1/2.1 MB\u001b[0m \u001b[31m32.0 MB/s\u001b[0m eta \u001b[36m0:00:00\u001b[0m\n",
            "\u001b[?25hCollecting typing_extensions\n",
            "  Downloading typing_extensions-4.9.0-py3-none-any.whl (32 kB)\n",
            "Requirement already satisfied: anyio<5,>=3.4.0 in /usr/local/lib/python3.10/dist-packages (from starlette<0.28.0,>=0.27.0->fastapi==0.100.0) (3.7.1)\n",
            "Requirement already satisfied: click<9.0.0,>=7.1.1 in /usr/local/lib/python3.10/dist-packages (from typer[all]<1.0,>=0.9->gradio) (8.1.7)\n",
            "Collecting colorama<0.5.0,>=0.4.3 (from typer[all]<1.0,>=0.9->gradio)\n",
            "  Downloading colorama-0.4.6-py2.py3-none-any.whl (25 kB)\n",
            "Collecting shellingham<2.0.0,>=1.3.0 (from typer[all]<1.0,>=0.9->gradio)\n",
            "  Downloading shellingham-1.5.4-py2.py3-none-any.whl (9.8 kB)\n",
            "Requirement already satisfied: rich<14.0.0,>=10.11.0 in /usr/local/lib/python3.10/dist-packages (from typer[all]<1.0,>=0.9->gradio) (13.7.0)\n",
            "Collecting h11>=0.8 (from uvicorn>=0.14.0->gradio)\n",
            "  Downloading h11-0.14.0-py3-none-any.whl (58 kB)\n",
            "\u001b[2K     \u001b[90m━━━━━━━━━━━━━━━━━━━━━━━━━━━━━━━━━━━━━━━━\u001b[0m \u001b[32m58.3/58.3 kB\u001b[0m \u001b[31m5.8 MB/s\u001b[0m eta \u001b[36m0:00:00\u001b[0m\n",
            "\u001b[?25hRequirement already satisfied: certifi in /usr/local/lib/python3.10/dist-packages (from httpx->gradio) (2023.11.17)\n",
            "Collecting httpcore==1.* (from httpx->gradio)\n",
            "  Downloading httpcore-1.0.2-py3-none-any.whl (76 kB)\n",
            "\u001b[2K     \u001b[90m━━━━━━━━━━━━━━━━━━━━━━━━━━━━━━━━━━━━━━━━\u001b[0m \u001b[32m76.9/76.9 kB\u001b[0m \u001b[31m6.0 MB/s\u001b[0m eta \u001b[36m0:00:00\u001b[0m\n",
            "\u001b[?25hRequirement already satisfied: idna in /usr/local/lib/python3.10/dist-packages (from httpx->gradio) (3.6)\n",
            "Requirement already satisfied: sniffio in /usr/local/lib/python3.10/dist-packages (from httpx->gradio) (1.3.0)\n",
            "Requirement already satisfied: zipp>=0.5 in /usr/local/lib/python3.10/dist-packages (from importlib-metadata->diffusers) (3.17.0)\n",
            "Requirement already satisfied: charset-normalizer<4,>=2 in /usr/local/lib/python3.10/dist-packages (from requests->diffusers) (3.3.2)\n",
            "Requirement already satisfied: urllib3<3,>=1.21.1 in /usr/local/lib/python3.10/dist-packages (from requests->diffusers) (2.0.7)\n",
            "Requirement already satisfied: exceptiongroup in /usr/local/lib/python3.10/dist-packages (from anyio<5,>=3.4.0->starlette<0.28.0,>=0.27.0->fastapi==0.100.0) (1.2.0)\n",
            "Requirement already satisfied: attrs>=22.2.0 in /usr/local/lib/python3.10/dist-packages (from jsonschema>=3.0->altair<6.0,>=4.2.0->gradio) (23.2.0)\n",
            "Requirement already satisfied: jsonschema-specifications>=2023.03.6 in /usr/local/lib/python3.10/dist-packages (from jsonschema>=3.0->altair<6.0,>=4.2.0->gradio) (2023.12.1)\n",
            "Requirement already satisfied: referencing>=0.28.4 in /usr/local/lib/python3.10/dist-packages (from jsonschema>=3.0->altair<6.0,>=4.2.0->gradio) (0.32.1)\n",
            "Requirement already satisfied: rpds-py>=0.7.1 in /usr/local/lib/python3.10/dist-packages (from jsonschema>=3.0->altair<6.0,>=4.2.0->gradio) (0.16.2)\n",
            "Requirement already satisfied: six>=1.5 in /usr/local/lib/python3.10/dist-packages (from python-dateutil>=2.7->matplotlib~=3.0->gradio) (1.16.0)\n",
            "Requirement already satisfied: markdown-it-py>=2.2.0 in /usr/local/lib/python3.10/dist-packages (from rich<14.0.0,>=10.11.0->typer[all]<1.0,>=0.9->gradio) (3.0.0)\n",
            "Requirement already satisfied: pygments<3.0.0,>=2.13.0 in /usr/local/lib/python3.10/dist-packages (from rich<14.0.0,>=10.11.0->typer[all]<1.0,>=0.9->gradio) (2.16.1)\n",
            "Requirement already satisfied: mdurl~=0.1 in /usr/local/lib/python3.10/dist-packages (from markdown-it-py>=2.2.0->rich<14.0.0,>=10.11.0->typer[all]<1.0,>=0.9->gradio) (0.1.2)\n",
            "Building wheels for collected packages: ffmpy\n",
            "  Building wheel for ffmpy (setup.py) ... \u001b[?25l\u001b[?25hdone\n",
            "  Created wheel for ffmpy: filename=ffmpy-0.3.1-py3-none-any.whl size=5579 sha256=239557d9b645d3c19cf67c1cb56b67e8519e276efe4136910787541c4d39a8c9\n",
            "  Stored in directory: /root/.cache/pip/wheels/01/a6/d1/1c0828c304a4283b2c1639a09ad86f83d7c487ef34c6b4a1bf\n",
            "Successfully built ffmpy\n",
            "Installing collected packages: pydub, ffmpy, websockets, typing_extensions, tomlkit, shellingham, semantic-version, python-multipart, orjson, h11, einops, colorama, annotated-types, aiofiles, uvicorn, starlette, pydantic-core, httpcore, pydantic, httpx, diffusers, gradio-client, fastapi, gradio\n",
            "  Attempting uninstall: typing_extensions\n",
            "    Found existing installation: typing_extensions 4.5.0\n",
            "    Uninstalling typing_extensions-4.5.0:\n",
            "      Successfully uninstalled typing_extensions-4.5.0\n",
            "  Attempting uninstall: pydantic\n",
            "    Found existing installation: pydantic 1.10.13\n",
            "    Uninstalling pydantic-1.10.13:\n",
            "      Successfully uninstalled pydantic-1.10.13\n",
            "\u001b[31mERROR: pip's dependency resolver does not currently take into account all the packages that are installed. This behaviour is the source of the following dependency conflicts.\n",
            "lida 0.0.10 requires kaleido, which is not installed.\n",
            "llmx 0.0.15a0 requires cohere, which is not installed.\n",
            "llmx 0.0.15a0 requires openai, which is not installed.\n",
            "llmx 0.0.15a0 requires tiktoken, which is not installed.\n",
            "tensorflow-probability 0.22.0 requires typing-extensions<4.6.0, but you have typing-extensions 4.9.0 which is incompatible.\u001b[0m\u001b[31m\n",
            "\u001b[0mSuccessfully installed aiofiles-23.2.1 annotated-types-0.6.0 colorama-0.4.6 diffusers-0.25.0 einops-0.7.0 fastapi-0.100.0 ffmpy-0.3.1 gradio-4.14.0 gradio-client-0.8.0 h11-0.14.0 httpcore-1.0.2 httpx-0.26.0 orjson-3.9.10 pydantic-2.5.3 pydantic-core-2.14.6 pydub-0.25.1 python-multipart-0.0.6 semantic-version-2.10.0 shellingham-1.5.4 starlette-0.27.0 tomlkit-0.12.0 typing_extensions-4.9.0 uvicorn-0.25.0 websockets-11.0.3\n",
            "/content\n",
            "Cloning into 'IP-Adapter-Negative'...\n",
            "remote: Enumerating objects: 430, done.\u001b[K\n",
            "remote: Counting objects: 100% (151/151), done.\u001b[K\n",
            "remote: Compressing objects: 100% (46/46), done.\u001b[K\n",
            "remote: Total 430 (delta 120), reused 121 (delta 105), pack-reused 279\u001b[K\n",
            "Receiving objects: 100% (430/430), 78.04 MiB | 24.75 MiB/s, done.\n",
            "Resolving deltas: 100% (224/224), done.\n",
            "/content/IP-Adapter-Negative\n",
            "/content/IP-Adapter-Negative/models\n",
            "--2024-01-15 23:27:01--  https://huggingface.co/h94/IP-Adapter/resolve/main/models/ip-adapter_sd15.bin\n",
            "Resolving huggingface.co (huggingface.co)... 99.84.108.70, 99.84.108.55, 99.84.108.129, ...\n",
            "Connecting to huggingface.co (huggingface.co)|99.84.108.70|:443... connected.\n",
            "HTTP request sent, awaiting response... 302 Found\n",
            "Location: https://cdn-lfs.huggingface.co/repos/6f/e5/6fe5d8840a1ab462e1b9f52fbeabac6bb30febaf56fb5a439f08cca6d1cf4372/68e1df30d760f280e578c302f1e73b37ea08654eff16a31153588047affe0058?response-content-disposition=attachment%3B+filename*%3DUTF-8%27%27ip-adapter_sd15.bin%3B+filename%3D%22ip-adapter_sd15.bin%22%3B&response-content-type=application%2Foctet-stream&Expires=1705620255&Policy=eyJTdGF0ZW1lbnQiOlt7IkNvbmRpdGlvbiI6eyJEYXRlTGVzc1RoYW4iOnsiQVdTOkVwb2NoVGltZSI6MTcwNTYyMDI1NX19LCJSZXNvdXJjZSI6Imh0dHBzOi8vY2RuLWxmcy5odWdnaW5nZmFjZS5jby9yZXBvcy82Zi9lNS82ZmU1ZDg4NDBhMWFiNDYyZTFiOWY1MmZiZWFiYWM2YmIzMGZlYmFmNTZmYjVhNDM5ZjA4Y2NhNmQxY2Y0MzcyLzY4ZTFkZjMwZDc2MGYyODBlNTc4YzMwMmYxZTczYjM3ZWEwODY1NGVmZjE2YTMxMTUzNTg4MDQ3YWZmZTAwNTg%7EcmVzcG9uc2UtY29udGVudC1kaXNwb3NpdGlvbj0qJnJlc3BvbnNlLWNvbnRlbnQtdHlwZT0qIn1dfQ__&Signature=DIrjN9dHt3AHF5EbCcleidQ5b9imNlGsrx%7EdcSlUut8ZLiTuT0%7E5RnnmranyXhLAjpeEoOggQ67ljjntk-WZ2UWXvrTwqN7g6nPKIdfRzjrYlOoV%7EnaJ1ngof8b4JsWLftscFl7hpPmuo365GEsTuP86Ku4MZkQ8gzWaxNQLRdfcpN7o2hShPUke0nx9tuwSinN7wGUmgNkwdODhZoXTGOHH2zmG-ZIgxYv622mqkAITfjMmDmxcluNciM20kPuStfe6HLyLS3gul0DHO-RUM%7E9RHwgCTyClgSOeSyByAS9wyWsf7IGBhVFfP2qZh%7Eu3gyGnOLK8Z0-jol1qMMoPaQ__&Key-Pair-Id=KVTP0A1DKRTAX [following]\n",
            "--2024-01-15 23:27:01--  https://cdn-lfs.huggingface.co/repos/6f/e5/6fe5d8840a1ab462e1b9f52fbeabac6bb30febaf56fb5a439f08cca6d1cf4372/68e1df30d760f280e578c302f1e73b37ea08654eff16a31153588047affe0058?response-content-disposition=attachment%3B+filename*%3DUTF-8%27%27ip-adapter_sd15.bin%3B+filename%3D%22ip-adapter_sd15.bin%22%3B&response-content-type=application%2Foctet-stream&Expires=1705620255&Policy=eyJTdGF0ZW1lbnQiOlt7IkNvbmRpdGlvbiI6eyJEYXRlTGVzc1RoYW4iOnsiQVdTOkVwb2NoVGltZSI6MTcwNTYyMDI1NX19LCJSZXNvdXJjZSI6Imh0dHBzOi8vY2RuLWxmcy5odWdnaW5nZmFjZS5jby9yZXBvcy82Zi9lNS82ZmU1ZDg4NDBhMWFiNDYyZTFiOWY1MmZiZWFiYWM2YmIzMGZlYmFmNTZmYjVhNDM5ZjA4Y2NhNmQxY2Y0MzcyLzY4ZTFkZjMwZDc2MGYyODBlNTc4YzMwMmYxZTczYjM3ZWEwODY1NGVmZjE2YTMxMTUzNTg4MDQ3YWZmZTAwNTg%7EcmVzcG9uc2UtY29udGVudC1kaXNwb3NpdGlvbj0qJnJlc3BvbnNlLWNvbnRlbnQtdHlwZT0qIn1dfQ__&Signature=DIrjN9dHt3AHF5EbCcleidQ5b9imNlGsrx%7EdcSlUut8ZLiTuT0%7E5RnnmranyXhLAjpeEoOggQ67ljjntk-WZ2UWXvrTwqN7g6nPKIdfRzjrYlOoV%7EnaJ1ngof8b4JsWLftscFl7hpPmuo365GEsTuP86Ku4MZkQ8gzWaxNQLRdfcpN7o2hShPUke0nx9tuwSinN7wGUmgNkwdODhZoXTGOHH2zmG-ZIgxYv622mqkAITfjMmDmxcluNciM20kPuStfe6HLyLS3gul0DHO-RUM%7E9RHwgCTyClgSOeSyByAS9wyWsf7IGBhVFfP2qZh%7Eu3gyGnOLK8Z0-jol1qMMoPaQ__&Key-Pair-Id=KVTP0A1DKRTAX\n",
            "Resolving cdn-lfs.huggingface.co (cdn-lfs.huggingface.co)... 18.244.202.35, 18.244.202.105, 18.244.202.14, ...\n",
            "Connecting to cdn-lfs.huggingface.co (cdn-lfs.huggingface.co)|18.244.202.35|:443... connected.\n",
            "HTTP request sent, awaiting response... 200 OK\n",
            "Length: 44642825 (43M) [application/octet-stream]\n",
            "Saving to: ‘ip-adapter_sd15.bin’\n",
            "\n",
            "ip-adapter_sd15.bin 100%[===================>]  42.57M   112MB/s    in 0.4s    \n",
            "\n",
            "2024-01-15 23:27:02 (112 MB/s) - ‘ip-adapter_sd15.bin’ saved [44642825/44642825]\n",
            "\n",
            "--2024-01-15 23:27:02--  https://huggingface.co/h94/IP-Adapter/resolve/main/models/ip-adapter-plus_sd15.bin\n",
            "Resolving huggingface.co (huggingface.co)... 99.84.108.70, 99.84.108.55, 99.84.108.129, ...\n",
            "Connecting to huggingface.co (huggingface.co)|99.84.108.70|:443... connected.\n",
            "HTTP request sent, awaiting response... 302 Found\n",
            "Location: https://cdn-lfs.huggingface.co/repos/6f/e5/6fe5d8840a1ab462e1b9f52fbeabac6bb30febaf56fb5a439f08cca6d1cf4372/1cb77fc0613369b66be1531cc452b823a4af7d87ee56956000a69fc39e3817ba?response-content-disposition=attachment%3B+filename*%3DUTF-8%27%27ip-adapter-plus_sd15.bin%3B+filename%3D%22ip-adapter-plus_sd15.bin%22%3B&response-content-type=application%2Foctet-stream&Expires=1705620422&Policy=eyJTdGF0ZW1lbnQiOlt7IkNvbmRpdGlvbiI6eyJEYXRlTGVzc1RoYW4iOnsiQVdTOkVwb2NoVGltZSI6MTcwNTYyMDQyMn19LCJSZXNvdXJjZSI6Imh0dHBzOi8vY2RuLWxmcy5odWdnaW5nZmFjZS5jby9yZXBvcy82Zi9lNS82ZmU1ZDg4NDBhMWFiNDYyZTFiOWY1MmZiZWFiYWM2YmIzMGZlYmFmNTZmYjVhNDM5ZjA4Y2NhNmQxY2Y0MzcyLzFjYjc3ZmMwNjEzMzY5YjY2YmUxNTMxY2M0NTJiODIzYTRhZjdkODdlZTU2OTU2MDAwYTY5ZmMzOWUzODE3YmE%7EcmVzcG9uc2UtY29udGVudC1kaXNwb3NpdGlvbj0qJnJlc3BvbnNlLWNvbnRlbnQtdHlwZT0qIn1dfQ__&Signature=CW9EZx9H6nlsbyr7CIqv10%7EYAEOALftv4DKsTELY-9EXspPehFH9HmNqQ6mc4JbvhEHCowY%7EbO06jgZDgbFopclxp58WN9-kYrpCbPOOp-yBF06MRm866to78psc-3MyOrQoJRN09mpskzvZGEmTwO%7E2mA9%7Eb6nKmgSfyRZ%7EpE4V6Ja8ijyDtzDooxuj30DfOAQxT19ehKcPJsTlpTXKjOrHMtZA1Zbl4Poq2SaxqJqMRonUVSZ68KXfWTCa5OdyFcpjkrRr7-0T2oEPN1xleSj0Nbdjfmjtiq2XHshxaoX2eNhaUW2lOYOhfuSVNUYiJsbii-zmmCIzUVLR8PH9rg__&Key-Pair-Id=KVTP0A1DKRTAX [following]\n",
            "--2024-01-15 23:27:02--  https://cdn-lfs.huggingface.co/repos/6f/e5/6fe5d8840a1ab462e1b9f52fbeabac6bb30febaf56fb5a439f08cca6d1cf4372/1cb77fc0613369b66be1531cc452b823a4af7d87ee56956000a69fc39e3817ba?response-content-disposition=attachment%3B+filename*%3DUTF-8%27%27ip-adapter-plus_sd15.bin%3B+filename%3D%22ip-adapter-plus_sd15.bin%22%3B&response-content-type=application%2Foctet-stream&Expires=1705620422&Policy=eyJTdGF0ZW1lbnQiOlt7IkNvbmRpdGlvbiI6eyJEYXRlTGVzc1RoYW4iOnsiQVdTOkVwb2NoVGltZSI6MTcwNTYyMDQyMn19LCJSZXNvdXJjZSI6Imh0dHBzOi8vY2RuLWxmcy5odWdnaW5nZmFjZS5jby9yZXBvcy82Zi9lNS82ZmU1ZDg4NDBhMWFiNDYyZTFiOWY1MmZiZWFiYWM2YmIzMGZlYmFmNTZmYjVhNDM5ZjA4Y2NhNmQxY2Y0MzcyLzFjYjc3ZmMwNjEzMzY5YjY2YmUxNTMxY2M0NTJiODIzYTRhZjdkODdlZTU2OTU2MDAwYTY5ZmMzOWUzODE3YmE%7EcmVzcG9uc2UtY29udGVudC1kaXNwb3NpdGlvbj0qJnJlc3BvbnNlLWNvbnRlbnQtdHlwZT0qIn1dfQ__&Signature=CW9EZx9H6nlsbyr7CIqv10%7EYAEOALftv4DKsTELY-9EXspPehFH9HmNqQ6mc4JbvhEHCowY%7EbO06jgZDgbFopclxp58WN9-kYrpCbPOOp-yBF06MRm866to78psc-3MyOrQoJRN09mpskzvZGEmTwO%7E2mA9%7Eb6nKmgSfyRZ%7EpE4V6Ja8ijyDtzDooxuj30DfOAQxT19ehKcPJsTlpTXKjOrHMtZA1Zbl4Poq2SaxqJqMRonUVSZ68KXfWTCa5OdyFcpjkrRr7-0T2oEPN1xleSj0Nbdjfmjtiq2XHshxaoX2eNhaUW2lOYOhfuSVNUYiJsbii-zmmCIzUVLR8PH9rg__&Key-Pair-Id=KVTP0A1DKRTAX\n",
            "Resolving cdn-lfs.huggingface.co (cdn-lfs.huggingface.co)... 18.244.202.35, 18.244.202.105, 18.244.202.14, ...\n",
            "Connecting to cdn-lfs.huggingface.co (cdn-lfs.huggingface.co)|18.244.202.35|:443... connected.\n",
            "HTTP request sent, awaiting response... 200 OK\n",
            "Length: 158033179 (151M) [application/octet-stream]\n",
            "Saving to: ‘ip-adapter-plus_sd15.bin’\n",
            "\n",
            "ip-adapter-plus_sd1 100%[===================>] 150.71M  59.3MB/s    in 2.5s    \n",
            "\n",
            "2024-01-15 23:27:05 (59.3 MB/s) - ‘ip-adapter-plus_sd15.bin’ saved [158033179/158033179]\n",
            "\n",
            "/content/IP-Adapter-Negative/models/image_encoder\n",
            "--2024-01-15 23:27:05--  https://huggingface.co/h94/IP-Adapter/resolve/main/models/image_encoder/pytorch_model.bin\n",
            "Resolving huggingface.co (huggingface.co)... 99.84.108.70, 99.84.108.55, 99.84.108.129, ...\n",
            "Connecting to huggingface.co (huggingface.co)|99.84.108.70|:443... connected.\n",
            "HTTP request sent, awaiting response... 302 Found\n",
            "Location: https://cdn-lfs.huggingface.co/repos/6f/e5/6fe5d8840a1ab462e1b9f52fbeabac6bb30febaf56fb5a439f08cca6d1cf4372/3d3ec1e66737f77a4f3bc2df3c52eacefc69ce7825e2784183b1d4e9877d9193?response-content-disposition=attachment%3B+filename*%3DUTF-8%27%27pytorch_model.bin%3B+filename%3D%22pytorch_model.bin%22%3B&response-content-type=application%2Foctet-stream&Expires=1705619617&Policy=eyJTdGF0ZW1lbnQiOlt7IkNvbmRpdGlvbiI6eyJEYXRlTGVzc1RoYW4iOnsiQVdTOkVwb2NoVGltZSI6MTcwNTYxOTYxN319LCJSZXNvdXJjZSI6Imh0dHBzOi8vY2RuLWxmcy5odWdnaW5nZmFjZS5jby9yZXBvcy82Zi9lNS82ZmU1ZDg4NDBhMWFiNDYyZTFiOWY1MmZiZWFiYWM2YmIzMGZlYmFmNTZmYjVhNDM5ZjA4Y2NhNmQxY2Y0MzcyLzNkM2VjMWU2NjczN2Y3N2E0ZjNiYzJkZjNjNTJlYWNlZmM2OWNlNzgyNWUyNzg0MTgzYjFkNGU5ODc3ZDkxOTM%7EcmVzcG9uc2UtY29udGVudC1kaXNwb3NpdGlvbj0qJnJlc3BvbnNlLWNvbnRlbnQtdHlwZT0qIn1dfQ__&Signature=jA-KsUvof%7EyQFlKBFRzqPcDT6Pix6WHammq6VEe03luRahIMAya3L2bnh35fbUDybdh%7EvpBjBoOkCExiOPXFWckAveE7TH5snatpTy2UxvMwAl2j1maZGwWAVj38LWRt4HnFUT2aPmSZvFe1NPju2OleRMHMYAv6%7EVsHKFcg03fE3418skjBdwA6TQNb4QNQ7ciAPH-6-kgsIY5z0EUEEA8bwXlEVdIQSe7F-LvQjHSxQajO0VLOaK%7EO36Vx05w3AhI4yyOVjB3ZrCNANQSXCBPfw41ZzPXqEyh%7E49sDE3lY8FeMAEXoYqRfIyCxtwIIAtGBz15m9DC%7EhA99rCD1XA__&Key-Pair-Id=KVTP0A1DKRTAX [following]\n",
            "--2024-01-15 23:27:05--  https://cdn-lfs.huggingface.co/repos/6f/e5/6fe5d8840a1ab462e1b9f52fbeabac6bb30febaf56fb5a439f08cca6d1cf4372/3d3ec1e66737f77a4f3bc2df3c52eacefc69ce7825e2784183b1d4e9877d9193?response-content-disposition=attachment%3B+filename*%3DUTF-8%27%27pytorch_model.bin%3B+filename%3D%22pytorch_model.bin%22%3B&response-content-type=application%2Foctet-stream&Expires=1705619617&Policy=eyJTdGF0ZW1lbnQiOlt7IkNvbmRpdGlvbiI6eyJEYXRlTGVzc1RoYW4iOnsiQVdTOkVwb2NoVGltZSI6MTcwNTYxOTYxN319LCJSZXNvdXJjZSI6Imh0dHBzOi8vY2RuLWxmcy5odWdnaW5nZmFjZS5jby9yZXBvcy82Zi9lNS82ZmU1ZDg4NDBhMWFiNDYyZTFiOWY1MmZiZWFiYWM2YmIzMGZlYmFmNTZmYjVhNDM5ZjA4Y2NhNmQxY2Y0MzcyLzNkM2VjMWU2NjczN2Y3N2E0ZjNiYzJkZjNjNTJlYWNlZmM2OWNlNzgyNWUyNzg0MTgzYjFkNGU5ODc3ZDkxOTM%7EcmVzcG9uc2UtY29udGVudC1kaXNwb3NpdGlvbj0qJnJlc3BvbnNlLWNvbnRlbnQtdHlwZT0qIn1dfQ__&Signature=jA-KsUvof%7EyQFlKBFRzqPcDT6Pix6WHammq6VEe03luRahIMAya3L2bnh35fbUDybdh%7EvpBjBoOkCExiOPXFWckAveE7TH5snatpTy2UxvMwAl2j1maZGwWAVj38LWRt4HnFUT2aPmSZvFe1NPju2OleRMHMYAv6%7EVsHKFcg03fE3418skjBdwA6TQNb4QNQ7ciAPH-6-kgsIY5z0EUEEA8bwXlEVdIQSe7F-LvQjHSxQajO0VLOaK%7EO36Vx05w3AhI4yyOVjB3ZrCNANQSXCBPfw41ZzPXqEyh%7E49sDE3lY8FeMAEXoYqRfIyCxtwIIAtGBz15m9DC%7EhA99rCD1XA__&Key-Pair-Id=KVTP0A1DKRTAX\n",
            "Resolving cdn-lfs.huggingface.co (cdn-lfs.huggingface.co)... 18.244.202.35, 18.244.202.105, 18.244.202.14, ...\n",
            "Connecting to cdn-lfs.huggingface.co (cdn-lfs.huggingface.co)|18.244.202.35|:443... connected.\n",
            "HTTP request sent, awaiting response... 200 OK\n",
            "Length: 2528481905 (2.4G) [application/octet-stream]\n",
            "Saving to: ‘pytorch_model.bin’\n",
            "\n",
            "pytorch_model.bin   100%[===================>]   2.35G   253MB/s    in 15s     \n",
            "\n",
            "2024-01-15 23:27:20 (161 MB/s) - ‘pytorch_model.bin’ saved [2528481905/2528481905]\n",
            "\n",
            "--2024-01-15 23:27:20--  https://huggingface.co/h94/IP-Adapter/resolve/main/models/image_encoder/config.json\n",
            "Resolving huggingface.co (huggingface.co)... 99.84.108.70, 99.84.108.55, 99.84.108.129, ...\n",
            "Connecting to huggingface.co (huggingface.co)|99.84.108.70|:443... connected.\n",
            "HTTP request sent, awaiting response... 200 OK\n",
            "Length: 560 [text/plain]\n",
            "Saving to: ‘config.json’\n",
            "\n",
            "config.json         100%[===================>]     560  --.-KB/s    in 0s      \n",
            "\n",
            "2024-01-15 23:27:20 (289 MB/s) - ‘config.json’ saved [560/560]\n",
            "\n",
            "/content/IP-Adapter-Negative\n"
          ]
        }
      ],
      "source": [
        "# install requirements\n",
        "!pip install diffusers einops gradio typing_extensions  fastapi==0.100.0\n",
        "\n",
        "# install ip-adapter\n",
        "%cd /content\n",
        "!git clone https://github.com/sagiodev/IP-Adapter-Negative.git\n",
        "\n",
        "# download the models\n",
        "%cd IP-Adapter-Negative\n",
        "%mkdir models\n",
        "%cd models\n",
        "!wget -nc https://huggingface.co/h94/IP-Adapter/resolve/main/models/ip-adapter_sd15.bin\n",
        "!wget -nc https://huggingface.co/h94/IP-Adapter/resolve/main/models/ip-adapter-plus_sd15.bin\n",
        "%mkdir image_encoder\n",
        "%cd image_encoder\n",
        "!wget -nc https://huggingface.co/h94/IP-Adapter/resolve/main/models/image_encoder/pytorch_model.bin\n",
        "!wget -nc https://huggingface.co/h94/IP-Adapter/resolve/main/models/image_encoder/config.json\n",
        "%cd /content/IP-Adapter-Negative"
      ]
    },
    {
      "cell_type": "code",
      "execution_count": 1,
      "metadata": {
        "colab": {
          "base_uri": "https://localhost:8080/",
          "height": 966,
          "referenced_widgets": [
            "6219ef12aa1f4a088124b3db2728b863",
            "ddbdfbbb73bc4687885ccd47073191f8",
            "d1d5d269f8fa4002b4878b1d4f71e11c",
            "0c141a9da8fa494986942246790d71e6",
            "a8b6b10507244e848c717c5d5c55c820",
            "c9bcb1c5e0e14e34b9596db65e1c197c",
            "8061dbde2dcc457285b716a91ceeb3bd",
            "6e199b5e069b4b0aaea36cfbb3e6639e",
            "4ab53fa030ff4d619b9698865718e49b",
            "7b116eb091ba47359c590a108314eca6",
            "6bfd3429d5184273a550033b120ab3d6",
            "8f037537f6654dc2a6976e68041a137a",
            "b3cab574c01f4c789adc7c213664477a",
            "a21d06d115204d5cbd7861a9f6ea1db0",
            "5bab233a2a0648b6a0bf8240e817e9d6",
            "f7d27624ba3b4051a78d34f08bfc49ac",
            "ba69686476144b49ba459fef1f70e14c",
            "2faa9ba78f00461fb62af13c80eda1b9",
            "5fdf1461ce004b339b873cb09d216a6e",
            "9928f2684da64c7e810ad883dd3603e3",
            "3c287dd2b21b455e989c9696773cb7fa",
            "9450e92d36074f9f964b5a42d4c03d4c",
            "0b50e3b984914370933dbaec3a177ad2",
            "7b32f086392b461abfb1dbeb9afe7173",
            "ddaaf40f76ec48e2924286fc6dc0e64b",
            "96806e0fe7424adf817d23b45a3eb6f1",
            "bcdcb4ec7dde45b38bcc4db3d187165e",
            "bb7a1d152fa44375a3afe518cb1e52a2",
            "69f739ec416b440f969e65cabbe3b5ef",
            "18b3f32138e343c48df108a5455df12f",
            "063b024d78fa44febe8235d1c3d9980a",
            "1e910d8730434de4b3dad763dcf7f9c4",
            "3b8f77e9fc484d15ac473f59af19f43c",
            "8714be4216ae4be5ac2aa64284bc199c",
            "b43d25eecfe4425595f7faf4405c17b6",
            "8e2dd3ae24794b898554ee75120739e8",
            "6b4a283d0307426b81ebf20268d507a0",
            "72e85f84f9404337aaf28ae197ecbb4a",
            "14d13a309a0f417ea4fee1668e2d9c00",
            "f10c44afd8464045a5c5971ce00cd380",
            "bff8698146f847019a2b73b1b09e6984",
            "6ae3242e0c6a4daf8590592d3b2b6d8c",
            "825b3ae6d9514b3693e2f77ce5e5e2f7",
            "9fa4428d749942818d3b9eadf1720a03",
            "0609f245838a418cb9283085aac8eebe",
            "63efc16b0a3c4c78959e0c8c2da696c9",
            "76e108e5f2024a66bfab6fff44a948ed",
            "529e873acefb41068f3f4bf8068b6171",
            "1b04067143cb4ffaa44b43e0bbd76ce7",
            "e2aec6218cdb4a1384ca571b9d9622c4",
            "96b1591a943d41f1b1325c41a5bdb7c6",
            "5890fa32deef47dd95a6557a7e08e0a2",
            "d712115b9f624772aefb333e611e8e23",
            "9fb8131b41dd44ee911beb5a5a4ecd8f",
            "9ae6b0a270224bc29b545b15aa604e7b",
            "4bd709e410594e6591837a7e3cf30f31",
            "17e126ff993f4f62a96dee5b6a944a40",
            "01269815ca48493b9163aa7211b10318",
            "5cc01c9fd4494e7eace2b7af5b9017dd",
            "575200bb9bee431ca0d3adfd850f045f",
            "2eec2b21a8474f779eed4704b8ef935b",
            "c9f3b71f7e7a48e5ae01c4bc1b9690d4",
            "065cdfb4e1b54885bd17198cccc860cf",
            "a239eea13cdb48b1a265ef6d3948c118",
            "98e91b6e308a47cdaedd083b2d8d5f54",
            "a0374725dad34790914f3235b51dad56",
            "9c513a6baa294ec89a88ad2556f94e84",
            "37c171a263cd451c865b9c13e8cecde5",
            "38e54069dbe649a9a49541b1ca9d98b5",
            "e1da3159e29e4a6f856604aad845c9b6",
            "d6e4adb7635441928885eb75fe554a68",
            "4428599141be4b2ea3e79158d63bc387",
            "f1238eb212e049f3be2c76305c626331",
            "1b1ca8e4181e497da208960844bea0b7",
            "57340893622d4d3db1985acc6fef1194",
            "d7324dcc0afc4f19beda8856bd2dcdb7",
            "8e9062b719834fe08615be929db45982",
            "9234aab1582b4da68843c30957492eb5",
            "9edba8b3b0674deaac7f0647cb16ec9d",
            "fdf61524bf7d45b987cf99c9ff9277f0",
            "fb1a77ab806245bfaa12a5a26c1eae05",
            "47841ad0821148418dcb3a115d449600",
            "6e5d03c7b3694c55b0739b9fac5b84d1",
            "574b5e3a2a69449d8fac3906d5b48410",
            "e5e1d383baad4e43aa72818501021d85",
            "f68c8b906cff4b72b247074068f84e66",
            "1a8afc7540af4204bb308d8a1598e882",
            "42da2fab949441db969932874aa4e0bf",
            "44f9c56ad8714ead83949953942b8ed3",
            "60aea3dee244427bab5dcbc87108b733",
            "4d85a2bc32444b059686cfc7d496a8f8",
            "0989ae47c43841509c6079adc4889c47",
            "c4c3a14b283f49808f0758c8f5c0a13e",
            "2fc72f11d31742b79a64ddd2ae62ae10",
            "358238c56d5046fbb3dfbba194ba175a",
            "22deb87494be483584bf164acb35644d",
            "4a4fb5a0c87146f5be009065e72d69d2",
            "c06f8e3591e74fb488b53c7d2a52a483",
            "27d24e2226ab48689e45a4424700d9d8",
            "2ce5adcbf44a4215beaca1c77ebb98b9",
            "2ead8518955f46d6bc1ec3c24cb28e1c",
            "6a7041d4d14a43a9b8befaeb482e8373",
            "3cccf12bbb55469f992fda4d3d51baf9",
            "e386fa1a33af4c13a9558d1da6cdacc2",
            "82e2a033a74441af955b4eee6df5bc33",
            "ea885ad227224fd68d8473d2574faaa2",
            "70aec9356538499e809db88e366b5de6",
            "f361558c1561413ca07746c5a2598c82",
            "c48de290a58547aeb6bf2be2e4d8b083",
            "676629231e184af3803278397ab1bd17",
            "ac368a91c00145499fa77cb2b29ddc0e",
            "a9c2feaedabd40608a0ce368491d3fb2",
            "6329a2ee79674508952e20bdd3a2e812",
            "0f48f929c6b4470aad4a53339c5c3c35",
            "362d5eeac61f4855aa2a77405196955f",
            "41ff173b4440400e83152c188be69121",
            "8d0bec8528194eeebec23ab56a4ff167",
            "bec75b2467204221886d67da6312c1d7",
            "a713d06996384b78a4ce30b98766d77e",
            "b006a09273354938893352027c9c69a5",
            "0f0d4439fd1848efb830b09754e8f7b8",
            "6309bad3f5ee45958a55d08b0cb1af75",
            "3091135f6c38435ab06145a1475e8fc7",
            "7a07dd0751994095b90394ae4dd4fdd4",
            "f7d25a8f497d44ab81e2980029a2d498",
            "963e680ae8fd4d7293f53bd20b64c13f",
            "32f62a029a2d44988c0df4bc38f46c26",
            "d55e5e8873b640f0895863f2960cc4d0",
            "9f935b02288d4b39bd51bf06001e894b",
            "623b31678ddf46b4bd50082eddb0f0d4",
            "4f88e7cb315b45c2a22361472f36e26b",
            "09864ebc049d4dec8c819d33654375fe",
            "02546a9d407547a88f1fab051d1ad1e4",
            "d15e51e15adb414faefdb16b23e74c2d",
            "b8aa72c700bb4345a92d88218ced8372",
            "689455123bc241bebc3e48ce9384e3c6",
            "a991d8509f7f4b0da0e068015de441f9",
            "08fa9b845db54eefa8400ba2d4e54a5e",
            "c9b34f19d3b0429e8a6edbe845120bc1",
            "94185762c8a9480897cec682d832f891",
            "76e8adf9331d46a7b56a92f2865f875c",
            "52d95cb5d43644c9a124d8aacbb8af52",
            "041b84519d8f4aef9257357133167548",
            "96fdf0b9604c48eeb5aa5e9d1d3e5917",
            "2fba8ccf24a2477482897ae9fa9d7ebc",
            "0d5abe669ca34e6ba62a5d3574e6d98d",
            "422d8388971b4cbe9ad778f0e4e798e2",
            "6cb7a1d768c64429b49c9c40705bcb9d",
            "b8e6ddf0343a4b9cb9ee33495cc61426",
            "08465e2db37c413ab87a583344d4cb28",
            "9f6572d23c9e41ce8eaa1633623352cc",
            "d56ff824b64e4d5d97f53a42e79fb5f1",
            "a6221fff23e846a4aa5df8023aabcf0a",
            "d659d15b50e940ce876893c5c755d730",
            "315e36bb14534470901f009e6a7c9172",
            "29cfb7b4169241c3a42b36023f2e22e1",
            "d8681e2eb1d24113a6417195abd2f453",
            "846ec4b714eb4e7483dc572be359b205",
            "cbb02f8e0a13445ead70937797e81ddd",
            "5f4b7d4f8a3a438db14523c2f24ce2b6",
            "bac78dd903364b4b97861f33552fb22b",
            "2b6cd195101d4bf8aef15eaa36b4bac7",
            "b2db9078efd34b708be19f41cfad8a7f",
            "931ffe3d1eb14725a69e3c54bf12b96b",
            "76ca5bf64ddf441da0e7b2caddd68324",
            "4caff1771944455380a254123a5c6558",
            "0f80aec5713f4572bc42c4798d212881",
            "c8a9539434f24361863b644c2880b60f",
            "d5ad24b6eb104d898deec0e1f309af8e",
            "a8cb16781556461ca2e6dabbe8c26896",
            "3be44790f7654aed801102d70945e0c7",
            "56d2ce27d3fc45e389ef97af2e096925",
            "e76bd0bc877e4326a2d45fdc2b91d41e",
            "4eef2003c7d045eda2e9f33c1102d75d",
            "180acd9eb4714019aef4ac7737764f57",
            "3ad77624cf4240949180c36cd0723ca1"
          ]
        },
        "id": "XK0uQLYROeQD",
        "outputId": "1a37d145-5490-497b-e977-92c48a7cc10a"
      },
      "outputs": [
        {
          "data": {
            "application/vnd.jupyter.widget-view+json": {
              "model_id": "196215b20a39433c83aefd7e950f7a2a",
              "version_major": 2,
              "version_minor": 0
            },
            "text/plain": [
              "Loading pipeline components...:   0%|          | 0/5 [00:00<?, ?it/s]"
            ]
          },
          "metadata": {},
          "output_type": "display_data"
        },
        {
          "name": "stdout",
          "output_type": "stream",
          "text": [
            "Running on local URL:  http://127.0.0.1:7860\n",
            "\n",
            "To create a public link, set `share=True` in `launch()`.\n",
            "negative image\n"
          ]
        },
        {
          "data": {
            "application/vnd.jupyter.widget-view+json": {
              "model_id": "b14bdd54491e46a4aa6db025f8823a16",
              "version_major": 2,
              "version_minor": 0
            },
            "text/plain": [
              "  0%|          | 0/25 [00:00<?, ?it/s]"
            ]
          },
          "metadata": {},
          "output_type": "display_data"
        },
        {
          "name": "stdout",
          "output_type": "stream",
          "text": [
            "[<PIL.Image.Image image mode=RGB size=512x512 at 0x268F55BA6E0>, <PIL.Image.Image image mode=RGB size=512x512 at 0x268F55BA530>, <PIL.Image.Image image mode=RGB size=512x512 at 0x268F55B9030>, <PIL.Image.Image image mode=RGB size=512x512 at 0x268F55BA620>]\n",
            "negative image\n"
          ]
        },
        {
          "data": {
            "application/vnd.jupyter.widget-view+json": {
              "model_id": "a3410b42bb814757afb06414cbaafe4c",
              "version_major": 2,
              "version_minor": 0
            },
            "text/plain": [
              "  0%|          | 0/25 [00:00<?, ?it/s]"
            ]
          },
          "metadata": {},
          "output_type": "display_data"
        },
        {
          "name": "stdout",
          "output_type": "stream",
          "text": [
            "[<PIL.Image.Image image mode=RGB size=512x512 at 0x268F55BBDC0>, <PIL.Image.Image image mode=RGB size=512x512 at 0x268F55BBD30>, <PIL.Image.Image image mode=RGB size=512x512 at 0x268F55BB8E0>, <PIL.Image.Image image mode=RGB size=512x512 at 0x268F55BBA60>]\n",
            "negative image\n"
          ]
        },
        {
          "data": {
            "application/vnd.jupyter.widget-view+json": {
              "model_id": "8ab1390cd8aa4a49b35f5455e72edf86",
              "version_major": 2,
              "version_minor": 0
            },
            "text/plain": [
              "  0%|          | 0/25 [00:00<?, ?it/s]"
            ]
          },
          "metadata": {},
          "output_type": "display_data"
        },
        {
          "name": "stdout",
          "output_type": "stream",
          "text": [
            "[<PIL.Image.Image image mode=RGB size=512x512 at 0x268F55A6B00>, <PIL.Image.Image image mode=RGB size=512x512 at 0x268F55A6B90>, <PIL.Image.Image image mode=RGB size=512x512 at 0x268F55A6AD0>, <PIL.Image.Image image mode=RGB size=512x512 at 0x268F55A6980>]\n",
            "negative image\n"
          ]
        },
        {
          "data": {
            "application/vnd.jupyter.widget-view+json": {
              "model_id": "fb011521309b4ea69622fdb3d47696ac",
              "version_major": 2,
              "version_minor": 0
            },
            "text/plain": [
              "  0%|          | 0/25 [00:00<?, ?it/s]"
            ]
          },
          "metadata": {},
          "output_type": "display_data"
        },
        {
          "name": "stdout",
          "output_type": "stream",
          "text": [
            "[<PIL.Image.Image image mode=RGB size=512x512 at 0x268F55AC490>, <PIL.Image.Image image mode=RGB size=512x512 at 0x268F55AC2E0>, <PIL.Image.Image image mode=RGB size=512x512 at 0x268F55AC190>, <PIL.Image.Image image mode=RGB size=512x512 at 0x268F55AC4C0>]\n",
            "negative image\n"
          ]
        },
        {
          "data": {
            "application/vnd.jupyter.widget-view+json": {
              "model_id": "44e7efcb9e55450e9a9aa50fde4b0819",
              "version_major": 2,
              "version_minor": 0
            },
            "text/plain": [
              "  0%|          | 0/25 [00:00<?, ?it/s]"
            ]
          },
          "metadata": {},
          "output_type": "display_data"
        },
        {
          "name": "stdout",
          "output_type": "stream",
          "text": [
            "[<PIL.Image.Image image mode=RGB size=512x512 at 0x268F55AD0F0>, <PIL.Image.Image image mode=RGB size=512x512 at 0x268F55AD7B0>, <PIL.Image.Image image mode=RGB size=512x512 at 0x268F55AD3F0>, <PIL.Image.Image image mode=RGB size=512x512 at 0x268F55AD2D0>]\n",
            "negative image\n"
          ]
        },
        {
          "data": {
            "application/vnd.jupyter.widget-view+json": {
              "model_id": "601ce27c875d4a49b94f4c97ddd93228",
              "version_major": 2,
              "version_minor": 0
            },
            "text/plain": [
              "  0%|          | 0/25 [00:00<?, ?it/s]"
            ]
          },
          "metadata": {},
          "output_type": "display_data"
        },
        {
          "name": "stdout",
          "output_type": "stream",
          "text": [
            "[<PIL.Image.Image image mode=RGB size=512x512 at 0x268F55AF880>, <PIL.Image.Image image mode=RGB size=512x512 at 0x268F55AF6A0>, <PIL.Image.Image image mode=RGB size=512x512 at 0x268F55AEF80>, <PIL.Image.Image image mode=RGB size=512x512 at 0x268F55AF010>]\n",
            "negative image\n"
          ]
        },
        {
          "data": {
            "application/vnd.jupyter.widget-view+json": {
              "model_id": "2a2371fd176d42bf81139c93fec9a671",
              "version_major": 2,
              "version_minor": 0
            },
            "text/plain": [
              "  0%|          | 0/25 [00:00<?, ?it/s]"
            ]
          },
          "metadata": {},
          "output_type": "display_data"
        },
        {
          "name": "stdout",
          "output_type": "stream",
          "text": [
            "[<PIL.Image.Image image mode=RGB size=512x512 at 0x26998BF4880>, <PIL.Image.Image image mode=RGB size=512x512 at 0x26998BF47C0>, <PIL.Image.Image image mode=RGB size=512x512 at 0x26998BF4250>, <PIL.Image.Image image mode=RGB size=512x512 at 0x26998BF42E0>]\n",
            "negative image\n"
          ]
        },
        {
          "data": {
            "application/vnd.jupyter.widget-view+json": {
              "model_id": "9f9f082b1c324a3aa796e412347e9816",
              "version_major": 2,
              "version_minor": 0
            },
            "text/plain": [
              "  0%|          | 0/25 [00:00<?, ?it/s]"
            ]
          },
          "metadata": {},
          "output_type": "display_data"
        },
        {
          "name": "stdout",
          "output_type": "stream",
          "text": [
            "[<PIL.Image.Image image mode=RGB size=512x512 at 0x26998BF6C80>, <PIL.Image.Image image mode=RGB size=512x512 at 0x26998BF6650>, <PIL.Image.Image image mode=RGB size=512x512 at 0x26998BF63B0>, <PIL.Image.Image image mode=RGB size=512x512 at 0x26998BF6B90>]\n",
            "negative image\n"
          ]
        },
        {
          "data": {
            "application/vnd.jupyter.widget-view+json": {
              "model_id": "684603c776984a289601bea446d09c37",
              "version_major": 2,
              "version_minor": 0
            },
            "text/plain": [
              "  0%|          | 0/25 [00:00<?, ?it/s]"
            ]
          },
          "metadata": {},
          "output_type": "display_data"
        },
        {
          "name": "stdout",
          "output_type": "stream",
          "text": [
            "[<PIL.Image.Image image mode=RGB size=512x512 at 0x268F55A5480>, <PIL.Image.Image image mode=RGB size=512x512 at 0x268F55A4460>, <PIL.Image.Image image mode=RGB size=512x512 at 0x268F55A6950>, <PIL.Image.Image image mode=RGB size=512x512 at 0x268F55A6B90>]\n",
            "negative image\n"
          ]
        },
        {
          "data": {
            "application/vnd.jupyter.widget-view+json": {
              "model_id": "08ede64463bd49c9b6a0f45ad4710bd6",
              "version_major": 2,
              "version_minor": 0
            },
            "text/plain": [
              "  0%|          | 0/25 [00:00<?, ?it/s]"
            ]
          },
          "metadata": {},
          "output_type": "display_data"
        },
        {
          "name": "stdout",
          "output_type": "stream",
          "text": [
            "[<PIL.Image.Image image mode=RGB size=512x512 at 0x268F5567790>, <PIL.Image.Image image mode=RGB size=512x512 at 0x268F5566410>, <PIL.Image.Image image mode=RGB size=512x512 at 0x268F5566230>, <PIL.Image.Image image mode=RGB size=512x512 at 0x268F5564640>]\n",
            "negative image\n"
          ]
        },
        {
          "data": {
            "application/vnd.jupyter.widget-view+json": {
              "model_id": "76295e708375468d8fad93e920d8c388",
              "version_major": 2,
              "version_minor": 0
            },
            "text/plain": [
              "  0%|          | 0/25 [00:00<?, ?it/s]"
            ]
          },
          "metadata": {},
          "output_type": "display_data"
        },
        {
          "name": "stdout",
          "output_type": "stream",
          "text": [
            "[<PIL.Image.Image image mode=RGB size=512x512 at 0x268F5565930>, <PIL.Image.Image image mode=RGB size=512x512 at 0x268F5567BE0>, <PIL.Image.Image image mode=RGB size=512x512 at 0x268F5564FD0>, <PIL.Image.Image image mode=RGB size=512x512 at 0x268F55676D0>]\n",
            "negative image\n"
          ]
        },
        {
          "data": {
            "application/vnd.jupyter.widget-view+json": {
              "model_id": "ba1653a0e7114eebba41ced9794f85ef",
              "version_major": 2,
              "version_minor": 0
            },
            "text/plain": [
              "  0%|          | 0/25 [00:00<?, ?it/s]"
            ]
          },
          "metadata": {},
          "output_type": "display_data"
        },
        {
          "name": "stdout",
          "output_type": "stream",
          "text": [
            "[<PIL.Image.Image image mode=RGB size=512x512 at 0x268F53FC850>, <PIL.Image.Image image mode=RGB size=512x512 at 0x268F53FD510>, <PIL.Image.Image image mode=RGB size=512x512 at 0x268F53FC1C0>, <PIL.Image.Image image mode=RGB size=512x512 at 0x268F53FD3C0>]\n",
            "negative image\n"
          ]
        },
        {
          "data": {
            "application/vnd.jupyter.widget-view+json": {
              "model_id": "12537882e1e44c1b9037a33cc6c58c24",
              "version_major": 2,
              "version_minor": 0
            },
            "text/plain": [
              "  0%|          | 0/25 [00:00<?, ?it/s]"
            ]
          },
          "metadata": {},
          "output_type": "display_data"
        },
        {
          "name": "stdout",
          "output_type": "stream",
          "text": [
            "[<PIL.Image.Image image mode=RGB size=512x512 at 0x268F53FCB80>, <PIL.Image.Image image mode=RGB size=512x512 at 0x268F53FCBE0>, <PIL.Image.Image image mode=RGB size=512x512 at 0x268F53FFF10>, <PIL.Image.Image image mode=RGB size=512x512 at 0x268F53FE140>]\n",
            "negative image\n"
          ]
        },
        {
          "data": {
            "application/vnd.jupyter.widget-view+json": {
              "model_id": "fae88058b1894be9a7a82e0f67988b51",
              "version_major": 2,
              "version_minor": 0
            },
            "text/plain": [
              "  0%|          | 0/25 [00:00<?, ?it/s]"
            ]
          },
          "metadata": {},
          "output_type": "display_data"
        },
        {
          "name": "stdout",
          "output_type": "stream",
          "text": [
            "[<PIL.Image.Image image mode=RGB size=512x512 at 0x268F5428DC0>, <PIL.Image.Image image mode=RGB size=512x512 at 0x268F5428760>, <PIL.Image.Image image mode=RGB size=512x512 at 0x268F54285E0>, <PIL.Image.Image image mode=RGB size=512x512 at 0x268F5428C40>]\n",
            "negative image\n"
          ]
        },
        {
          "data": {
            "application/vnd.jupyter.widget-view+json": {
              "model_id": "90b3e285b7914e40b2fbaa7509cec100",
              "version_major": 2,
              "version_minor": 0
            },
            "text/plain": [
              "  0%|          | 0/25 [00:00<?, ?it/s]"
            ]
          },
          "metadata": {},
          "output_type": "display_data"
        },
        {
          "name": "stdout",
          "output_type": "stream",
          "text": [
            "[<PIL.Image.Image image mode=RGB size=512x512 at 0x268F542B010>, <PIL.Image.Image image mode=RGB size=512x512 at 0x268F542A8F0>, <PIL.Image.Image image mode=RGB size=512x512 at 0x268F542A9B0>, <PIL.Image.Image image mode=RGB size=512x512 at 0x268F542AB30>]\n",
            "negative image\n"
          ]
        },
        {
          "data": {
            "application/vnd.jupyter.widget-view+json": {
              "model_id": "c7286899cae24570b4bd93c0d237bd45",
              "version_major": 2,
              "version_minor": 0
            },
            "text/plain": [
              "  0%|          | 0/25 [00:00<?, ?it/s]"
            ]
          },
          "metadata": {},
          "output_type": "display_data"
        },
        {
          "name": "stdout",
          "output_type": "stream",
          "text": [
            "[<PIL.Image.Image image mode=RGB size=512x512 at 0x268F541C6A0>, <PIL.Image.Image image mode=RGB size=512x512 at 0x268F541C100>, <PIL.Image.Image image mode=RGB size=512x512 at 0x268F541C190>, <PIL.Image.Image image mode=RGB size=512x512 at 0x268F541CF40>]\n",
            "positive image\n"
          ]
        },
        {
          "data": {
            "application/vnd.jupyter.widget-view+json": {
              "model_id": "0d900f382f0643048db3ec7df16e0d83",
              "version_major": 2,
              "version_minor": 0
            },
            "text/plain": [
              "  0%|          | 0/25 [00:00<?, ?it/s]"
            ]
          },
          "metadata": {},
          "output_type": "display_data"
        },
        {
          "name": "stdout",
          "output_type": "stream",
          "text": [
            "[<PIL.Image.Image image mode=RGB size=512x512 at 0x268F541EB90>, <PIL.Image.Image image mode=RGB size=512x512 at 0x268F541E500>, <PIL.Image.Image image mode=RGB size=512x512 at 0x268F541F430>, <PIL.Image.Image image mode=RGB size=512x512 at 0x268F541F670>]\n",
            "positive image\n"
          ]
        },
        {
          "data": {
            "application/vnd.jupyter.widget-view+json": {
              "model_id": "c5c697140033434fadb0e8ea0365eaf9",
              "version_major": 2,
              "version_minor": 0
            },
            "text/plain": [
              "  0%|          | 0/25 [00:00<?, ?it/s]"
            ]
          },
          "metadata": {},
          "output_type": "display_data"
        },
        {
          "name": "stdout",
          "output_type": "stream",
          "text": [
            "[<PIL.Image.Image image mode=RGB size=512x512 at 0x268F541FC70>, <PIL.Image.Image image mode=RGB size=512x512 at 0x268F541E7D0>, <PIL.Image.Image image mode=RGB size=512x512 at 0x268F541FCA0>, <PIL.Image.Image image mode=RGB size=512x512 at 0x268F541EEC0>]\n",
            "negative image\n"
          ]
        },
        {
          "data": {
            "application/vnd.jupyter.widget-view+json": {
              "model_id": "a2bb860696bb4a93ae13e4df75832e3c",
              "version_major": 2,
              "version_minor": 0
            },
            "text/plain": [
              "  0%|          | 0/25 [00:00<?, ?it/s]"
            ]
          },
          "metadata": {},
          "output_type": "display_data"
        },
        {
          "name": "stdout",
          "output_type": "stream",
          "text": [
            "[<PIL.Image.Image image mode=RGB size=512x512 at 0x268F53802E0>, <PIL.Image.Image image mode=RGB size=512x512 at 0x268F5383850>, <PIL.Image.Image image mode=RGB size=512x512 at 0x268F5380D00>, <PIL.Image.Image image mode=RGB size=512x512 at 0x268F5380460>]\n",
            "negative image\n"
          ]
        },
        {
          "data": {
            "application/vnd.jupyter.widget-view+json": {
              "model_id": "96fb0e249fb5484a930800545afad659",
              "version_major": 2,
              "version_minor": 0
            },
            "text/plain": [
              "  0%|          | 0/25 [00:00<?, ?it/s]"
            ]
          },
          "metadata": {},
          "output_type": "display_data"
        },
        {
          "name": "stdout",
          "output_type": "stream",
          "text": [
            "[<PIL.Image.Image image mode=RGB size=512x512 at 0x268F5382B90>, <PIL.Image.Image image mode=RGB size=512x512 at 0x268F53837F0>, <PIL.Image.Image image mode=RGB size=512x512 at 0x268F53825F0>, <PIL.Image.Image image mode=RGB size=512x512 at 0x268F5382140>]\n",
            "negative image\n"
          ]
        },
        {
          "data": {
            "application/vnd.jupyter.widget-view+json": {
              "model_id": "93d5e3b7aa0b461b97214e2935c11f91",
              "version_major": 2,
              "version_minor": 0
            },
            "text/plain": [
              "  0%|          | 0/25 [00:00<?, ?it/s]"
            ]
          },
          "metadata": {},
          "output_type": "display_data"
        },
        {
          "name": "stdout",
          "output_type": "stream",
          "text": [
            "[<PIL.Image.Image image mode=RGB size=512x512 at 0x268F53FD780>, <PIL.Image.Image image mode=RGB size=512x512 at 0x268F53FD3C0>, <PIL.Image.Image image mode=RGB size=512x512 at 0x268F53FD690>, <PIL.Image.Image image mode=RGB size=512x512 at 0x268F53FC9D0>]\n",
            "negative image\n"
          ]
        },
        {
          "data": {
            "application/vnd.jupyter.widget-view+json": {
              "model_id": "4d982dbd777e447b913af632ff5347f8",
              "version_major": 2,
              "version_minor": 0
            },
            "text/plain": [
              "  0%|          | 0/25 [00:00<?, ?it/s]"
            ]
          },
          "metadata": {},
          "output_type": "display_data"
        },
        {
          "name": "stdout",
          "output_type": "stream",
          "text": [
            "[<PIL.Image.Image image mode=RGB size=512x512 at 0x268F55640A0>, <PIL.Image.Image image mode=RGB size=512x512 at 0x268F55642E0>, <PIL.Image.Image image mode=RGB size=512x512 at 0x268F5567910>, <PIL.Image.Image image mode=RGB size=512x512 at 0x268F5565A20>]\n",
            "negative image\n"
          ]
        },
        {
          "data": {
            "application/vnd.jupyter.widget-view+json": {
              "model_id": "2534e048a13841f0b06dfc815802a2f9",
              "version_major": 2,
              "version_minor": 0
            },
            "text/plain": [
              "  0%|          | 0/25 [00:00<?, ?it/s]"
            ]
          },
          "metadata": {},
          "output_type": "display_data"
        },
        {
          "name": "stdout",
          "output_type": "stream",
          "text": [
            "[<PIL.Image.Image image mode=RGB size=512x512 at 0x268F541D510>, <PIL.Image.Image image mode=RGB size=512x512 at 0x268F541CDC0>, <PIL.Image.Image image mode=RGB size=512x512 at 0x268F541E890>, <PIL.Image.Image image mode=RGB size=512x512 at 0x268F541C190>]\n",
            "negative image\n"
          ]
        },
        {
          "data": {
            "application/vnd.jupyter.widget-view+json": {
              "model_id": "3d05949428ef466696d4146365a192fd",
              "version_major": 2,
              "version_minor": 0
            },
            "text/plain": [
              "  0%|          | 0/25 [00:00<?, ?it/s]"
            ]
          },
          "metadata": {},
          "output_type": "display_data"
        },
        {
          "name": "stdout",
          "output_type": "stream",
          "text": [
            "[<PIL.Image.Image image mode=RGB size=512x512 at 0x268F55AD570>, <PIL.Image.Image image mode=RGB size=512x512 at 0x268F55AD480>, <PIL.Image.Image image mode=RGB size=512x512 at 0x268F55AF5B0>, <PIL.Image.Image image mode=RGB size=512x512 at 0x268F55AC1F0>]\n",
            "negative image\n"
          ]
        },
        {
          "data": {
            "application/vnd.jupyter.widget-view+json": {
              "model_id": "3406531d834f4f3ebe06f6fd466972da",
              "version_major": 2,
              "version_minor": 0
            },
            "text/plain": [
              "  0%|          | 0/25 [00:00<?, ?it/s]"
            ]
          },
          "metadata": {},
          "output_type": "display_data"
        },
        {
          "name": "stdout",
          "output_type": "stream",
          "text": [
            "[<PIL.Image.Image image mode=RGB size=512x512 at 0x268F55AC880>, <PIL.Image.Image image mode=RGB size=512x512 at 0x268F55ADAB0>, <PIL.Image.Image image mode=RGB size=512x512 at 0x268F55AF370>, <PIL.Image.Image image mode=RGB size=512x512 at 0x268F55ACAF0>]\n",
            "negative image\n"
          ]
        },
        {
          "data": {
            "application/vnd.jupyter.widget-view+json": {
              "model_id": "39196d02b1a045dfaa55c8e8198b7dad",
              "version_major": 2,
              "version_minor": 0
            },
            "text/plain": [
              "  0%|          | 0/25 [00:00<?, ?it/s]"
            ]
          },
          "metadata": {},
          "output_type": "display_data"
        },
        {
          "name": "stdout",
          "output_type": "stream",
          "text": [
            "[<PIL.Image.Image image mode=RGB size=512x512 at 0x268F554BAC0>, <PIL.Image.Image image mode=RGB size=512x512 at 0x268F554BA60>, <PIL.Image.Image image mode=RGB size=512x512 at 0x268F5548490>, <PIL.Image.Image image mode=RGB size=512x512 at 0x268F554B340>]\n",
            "negative image\n"
          ]
        },
        {
          "data": {
            "application/vnd.jupyter.widget-view+json": {
              "model_id": "af534d90fabf4781bb0d0cd635338f29",
              "version_major": 2,
              "version_minor": 0
            },
            "text/plain": [
              "  0%|          | 0/25 [00:00<?, ?it/s]"
            ]
          },
          "metadata": {},
          "output_type": "display_data"
        },
        {
          "name": "stdout",
          "output_type": "stream",
          "text": [
            "[<PIL.Image.Image image mode=RGB size=512x512 at 0x268F55A5060>, <PIL.Image.Image image mode=RGB size=512x512 at 0x268F55A46A0>, <PIL.Image.Image image mode=RGB size=512x512 at 0x268F55A4790>, <PIL.Image.Image image mode=RGB size=512x512 at 0x268F55A5A50>]\n",
            "negative image\n"
          ]
        },
        {
          "data": {
            "application/vnd.jupyter.widget-view+json": {
              "model_id": "f68bc2f215534277be8743a5e695a43c",
              "version_major": 2,
              "version_minor": 0
            },
            "text/plain": [
              "  0%|          | 0/25 [00:00<?, ?it/s]"
            ]
          },
          "metadata": {},
          "output_type": "display_data"
        },
        {
          "name": "stdout",
          "output_type": "stream",
          "text": [
            "[<PIL.Image.Image image mode=RGB size=512x512 at 0x268F55A7040>, <PIL.Image.Image image mode=RGB size=512x512 at 0x268F55A4340>, <PIL.Image.Image image mode=RGB size=512x512 at 0x268F55A47C0>, <PIL.Image.Image image mode=RGB size=512x512 at 0x268F55A6A70>]\n",
            "negative image\n"
          ]
        },
        {
          "data": {
            "application/vnd.jupyter.widget-view+json": {
              "model_id": "fd769b8aeaa84356b955e257452b78a1",
              "version_major": 2,
              "version_minor": 0
            },
            "text/plain": [
              "  0%|          | 0/25 [00:00<?, ?it/s]"
            ]
          },
          "metadata": {},
          "output_type": "display_data"
        },
        {
          "name": "stdout",
          "output_type": "stream",
          "text": [
            "[<PIL.Image.Image image mode=RGB size=512x512 at 0x268F5380640>, <PIL.Image.Image image mode=RGB size=512x512 at 0x268F5380220>, <PIL.Image.Image image mode=RGB size=512x512 at 0x268F53802B0>, <PIL.Image.Image image mode=RGB size=512x512 at 0x268F53807F0>]\n",
            "negative image\n"
          ]
        },
        {
          "data": {
            "application/vnd.jupyter.widget-view+json": {
              "model_id": "f27aea02cc1548df9f2f008ea3c19093",
              "version_major": 2,
              "version_minor": 0
            },
            "text/plain": [
              "  0%|          | 0/25 [00:00<?, ?it/s]"
            ]
          },
          "metadata": {},
          "output_type": "display_data"
        },
        {
          "name": "stdout",
          "output_type": "stream",
          "text": [
            "[<PIL.Image.Image image mode=RGB size=512x512 at 0x268F5383100>, <PIL.Image.Image image mode=RGB size=512x512 at 0x268F5382260>, <PIL.Image.Image image mode=RGB size=512x512 at 0x268F5381150>, <PIL.Image.Image image mode=RGB size=512x512 at 0x268F5383160>]\n",
            "negative image\n"
          ]
        },
        {
          "data": {
            "application/vnd.jupyter.widget-view+json": {
              "model_id": "38364b8b75a743848d460fff7c81499f",
              "version_major": 2,
              "version_minor": 0
            },
            "text/plain": [
              "  0%|          | 0/25 [00:00<?, ?it/s]"
            ]
          },
          "metadata": {},
          "output_type": "display_data"
        },
        {
          "name": "stdout",
          "output_type": "stream",
          "text": [
            "[<PIL.Image.Image image mode=RGB size=512x512 at 0x268F53B64D0>, <PIL.Image.Image image mode=RGB size=512x512 at 0x268F53B4340>, <PIL.Image.Image image mode=RGB size=512x512 at 0x268F53B52D0>, <PIL.Image.Image image mode=RGB size=512x512 at 0x268F53B6EF0>]\n",
            "negative image\n"
          ]
        },
        {
          "data": {
            "application/vnd.jupyter.widget-view+json": {
              "model_id": "846e8ec9ffc545b782257076d6b1f149",
              "version_major": 2,
              "version_minor": 0
            },
            "text/plain": [
              "  0%|          | 0/25 [00:00<?, ?it/s]"
            ]
          },
          "metadata": {},
          "output_type": "display_data"
        },
        {
          "name": "stdout",
          "output_type": "stream",
          "text": [
            "[<PIL.Image.Image image mode=RGB size=512x512 at 0x268F53B7040>, <PIL.Image.Image image mode=RGB size=512x512 at 0x268F53B5FC0>, <PIL.Image.Image image mode=RGB size=512x512 at 0x268F53B7070>, <PIL.Image.Image image mode=RGB size=512x512 at 0x268F53B5D20>]\n",
            "negative image\n"
          ]
        },
        {
          "data": {
            "application/vnd.jupyter.widget-view+json": {
              "model_id": "b0a97fb185674ca4a5a9196c6cdf3a17",
              "version_major": 2,
              "version_minor": 0
            },
            "text/plain": [
              "  0%|          | 0/25 [00:00<?, ?it/s]"
            ]
          },
          "metadata": {},
          "output_type": "display_data"
        },
        {
          "name": "stdout",
          "output_type": "stream",
          "text": [
            "[<PIL.Image.Image image mode=RGB size=512x512 at 0x268F53B69B0>, <PIL.Image.Image image mode=RGB size=512x512 at 0x268F53B7BB0>, <PIL.Image.Image image mode=RGB size=512x512 at 0x268F53B7CA0>, <PIL.Image.Image image mode=RGB size=512x512 at 0x268F53B7190>]\n",
            "negative image\n"
          ]
        },
        {
          "data": {
            "application/vnd.jupyter.widget-view+json": {
              "model_id": "bdf2f8d982b5404fa102f2768bc1fd70",
              "version_major": 2,
              "version_minor": 0
            },
            "text/plain": [
              "  0%|          | 0/25 [00:00<?, ?it/s]"
            ]
          },
          "metadata": {},
          "output_type": "display_data"
        },
        {
          "name": "stdout",
          "output_type": "stream",
          "text": [
            "[<PIL.Image.Image image mode=RGB size=512x512 at 0x268F55ACDC0>, <PIL.Image.Image image mode=RGB size=512x512 at 0x268F55AD360>, <PIL.Image.Image image mode=RGB size=512x512 at 0x268F55AC580>, <PIL.Image.Image image mode=RGB size=512x512 at 0x268F55AC340>]\n",
            "negative image\n"
          ]
        },
        {
          "data": {
            "application/vnd.jupyter.widget-view+json": {
              "model_id": "227b211c1ebc44c8b84b7abe34fdd971",
              "version_major": 2,
              "version_minor": 0
            },
            "text/plain": [
              "  0%|          | 0/25 [00:00<?, ?it/s]"
            ]
          },
          "metadata": {},
          "output_type": "display_data"
        },
        {
          "name": "stdout",
          "output_type": "stream",
          "text": [
            "[<PIL.Image.Image image mode=RGB size=512x512 at 0x268F5429600>, <PIL.Image.Image image mode=RGB size=512x512 at 0x268F54286D0>, <PIL.Image.Image image mode=RGB size=512x512 at 0x268F54286A0>, <PIL.Image.Image image mode=RGB size=512x512 at 0x268F542B880>]\n",
            "negative image\n"
          ]
        },
        {
          "data": {
            "application/vnd.jupyter.widget-view+json": {
              "model_id": "11f3286af6ac492e924f334268ff50ed",
              "version_major": 2,
              "version_minor": 0
            },
            "text/plain": [
              "  0%|          | 0/25 [00:00<?, ?it/s]"
            ]
          },
          "metadata": {},
          "output_type": "display_data"
        },
        {
          "name": "stdout",
          "output_type": "stream",
          "text": [
            "[<PIL.Image.Image image mode=RGB size=512x512 at 0x268F5428F10>, <PIL.Image.Image image mode=RGB size=512x512 at 0x268F5428E80>, <PIL.Image.Image image mode=RGB size=512x512 at 0x268F542A9E0>, <PIL.Image.Image image mode=RGB size=512x512 at 0x268F542B2E0>]\n",
            "negative image\n"
          ]
        },
        {
          "data": {
            "application/vnd.jupyter.widget-view+json": {
              "model_id": "3e95609b6ee94c69969eb4e8cca6daa4",
              "version_major": 2,
              "version_minor": 0
            },
            "text/plain": [
              "  0%|          | 0/25 [00:00<?, ?it/s]"
            ]
          },
          "metadata": {},
          "output_type": "display_data"
        },
        {
          "name": "stdout",
          "output_type": "stream",
          "text": [
            "[<PIL.Image.Image image mode=RGB size=512x512 at 0x268F5500D00>, <PIL.Image.Image image mode=RGB size=512x512 at 0x268F5500790>, <PIL.Image.Image image mode=RGB size=512x512 at 0x268F5501180>, <PIL.Image.Image image mode=RGB size=512x512 at 0x268F5501510>]\n",
            "negative image\n"
          ]
        },
        {
          "data": {
            "application/vnd.jupyter.widget-view+json": {
              "model_id": "3f56a82b4c324756813dace7aca1e7f4",
              "version_major": 2,
              "version_minor": 0
            },
            "text/plain": [
              "  0%|          | 0/25 [00:00<?, ?it/s]"
            ]
          },
          "metadata": {},
          "output_type": "display_data"
        },
        {
          "name": "stdout",
          "output_type": "stream",
          "text": [
            "[<PIL.Image.Image image mode=RGB size=512x512 at 0x268F541F340>, <PIL.Image.Image image mode=RGB size=512x512 at 0x268F541C1C0>, <PIL.Image.Image image mode=RGB size=512x512 at 0x268F541E080>, <PIL.Image.Image image mode=RGB size=512x512 at 0x268F541F0A0>]\n"
          ]
        },
        {
          "name": "stderr",
          "output_type": "stream",
          "text": [
            "ERROR:    Exception in ASGI application\n",
            "Traceback (most recent call last):\n",
            "  File \"c:\\Users\\users_uyemc1z\\git\\ip-adapters\\venv\\lib\\site-packages\\uvicorn\\protocols\\http\\h11_impl.py\", line 408, in run_asgi\n",
            "    result = await app(  # type: ignore[func-returns-value]\n",
            "  File \"c:\\Users\\users_uyemc1z\\git\\ip-adapters\\venv\\lib\\site-packages\\uvicorn\\middleware\\proxy_headers.py\", line 84, in __call__\n",
            "    return await self.app(scope, receive, send)\n",
            "  File \"c:\\Users\\users_uyemc1z\\git\\ip-adapters\\venv\\lib\\site-packages\\fastapi\\applications.py\", line 1054, in __call__\n",
            "    await super().__call__(scope, receive, send)\n",
            "  File \"c:\\Users\\users_uyemc1z\\git\\ip-adapters\\venv\\lib\\site-packages\\starlette\\applications.py\", line 123, in __call__\n",
            "    await self.middleware_stack(scope, receive, send)\n",
            "  File \"c:\\Users\\users_uyemc1z\\git\\ip-adapters\\venv\\lib\\site-packages\\starlette\\middleware\\errors.py\", line 186, in __call__\n",
            "    raise exc\n",
            "  File \"c:\\Users\\users_uyemc1z\\git\\ip-adapters\\venv\\lib\\site-packages\\starlette\\middleware\\errors.py\", line 164, in __call__\n",
            "    await self.app(scope, receive, _send)\n",
            "  File \"c:\\Users\\users_uyemc1z\\git\\ip-adapters\\venv\\lib\\site-packages\\starlette\\middleware\\cors.py\", line 83, in __call__\n",
            "    await self.app(scope, receive, send)\n",
            "  File \"c:\\Users\\users_uyemc1z\\git\\ip-adapters\\venv\\lib\\site-packages\\starlette\\middleware\\exceptions.py\", line 62, in __call__\n",
            "    await wrap_app_handling_exceptions(self.app, conn)(scope, receive, send)\n",
            "  File \"c:\\Users\\users_uyemc1z\\git\\ip-adapters\\venv\\lib\\site-packages\\starlette\\_exception_handler.py\", line 64, in wrapped_app\n",
            "    raise exc\n",
            "  File \"c:\\Users\\users_uyemc1z\\git\\ip-adapters\\venv\\lib\\site-packages\\starlette\\_exception_handler.py\", line 53, in wrapped_app\n",
            "    await app(scope, receive, sender)\n",
            "  File \"c:\\Users\\users_uyemc1z\\git\\ip-adapters\\venv\\lib\\site-packages\\starlette\\routing.py\", line 762, in __call__\n",
            "    await self.middleware_stack(scope, receive, send)\n",
            "  File \"c:\\Users\\users_uyemc1z\\git\\ip-adapters\\venv\\lib\\site-packages\\starlette\\routing.py\", line 782, in app\n",
            "    await route.handle(scope, receive, send)\n",
            "  File \"c:\\Users\\users_uyemc1z\\git\\ip-adapters\\venv\\lib\\site-packages\\starlette\\routing.py\", line 297, in handle\n",
            "    await self.app(scope, receive, send)\n",
            "  File \"c:\\Users\\users_uyemc1z\\git\\ip-adapters\\venv\\lib\\site-packages\\starlette\\routing.py\", line 77, in app\n",
            "    await wrap_app_handling_exceptions(app, request)(scope, receive, send)\n",
            "  File \"c:\\Users\\users_uyemc1z\\git\\ip-adapters\\venv\\lib\\site-packages\\starlette\\_exception_handler.py\", line 64, in wrapped_app\n",
            "    raise exc\n",
            "  File \"c:\\Users\\users_uyemc1z\\git\\ip-adapters\\venv\\lib\\site-packages\\starlette\\_exception_handler.py\", line 53, in wrapped_app\n",
            "    await app(scope, receive, sender)\n",
            "  File \"c:\\Users\\users_uyemc1z\\git\\ip-adapters\\venv\\lib\\site-packages\\starlette\\routing.py\", line 75, in app\n",
            "    await response(scope, receive, send)\n",
            "  File \"c:\\Users\\users_uyemc1z\\git\\ip-adapters\\venv\\lib\\site-packages\\starlette\\responses.py\", line 346, in __call__\n",
            "    await send(\n",
            "  File \"c:\\Users\\users_uyemc1z\\git\\ip-adapters\\venv\\lib\\site-packages\\starlette\\_exception_handler.py\", line 50, in sender\n",
            "    await send(message)\n",
            "  File \"c:\\Users\\users_uyemc1z\\git\\ip-adapters\\venv\\lib\\site-packages\\starlette\\_exception_handler.py\", line 50, in sender\n",
            "    await send(message)\n",
            "  File \"c:\\Users\\users_uyemc1z\\git\\ip-adapters\\venv\\lib\\site-packages\\starlette\\middleware\\errors.py\", line 161, in _send\n",
            "    await send(message)\n",
            "  File \"c:\\Users\\users_uyemc1z\\git\\ip-adapters\\venv\\lib\\site-packages\\uvicorn\\protocols\\http\\h11_impl.py\", line 512, in send\n",
            "    output = self.conn.send(event=h11.EndOfMessage())\n",
            "  File \"c:\\Users\\users_uyemc1z\\git\\ip-adapters\\venv\\lib\\site-packages\\h11\\_connection.py\", line 512, in send\n",
            "    data_list = self.send_with_data_passthrough(event)\n",
            "  File \"c:\\Users\\users_uyemc1z\\git\\ip-adapters\\venv\\lib\\site-packages\\h11\\_connection.py\", line 545, in send_with_data_passthrough\n",
            "    writer(event, data_list.append)\n",
            "  File \"c:\\Users\\users_uyemc1z\\git\\ip-adapters\\venv\\lib\\site-packages\\h11\\_writers.py\", line 67, in __call__\n",
            "    self.send_eom(event.headers, write)\n",
            "  File \"c:\\Users\\users_uyemc1z\\git\\ip-adapters\\venv\\lib\\site-packages\\h11\\_writers.py\", line 96, in send_eom\n",
            "    raise LocalProtocolError(\"Too little data for declared Content-Length\")\n",
            "h11._util.LocalProtocolError: Too little data for declared Content-Length\n",
            "ERROR:    Exception in ASGI application\n",
            "Traceback (most recent call last):\n",
            "  File \"c:\\Users\\users_uyemc1z\\git\\ip-adapters\\venv\\lib\\site-packages\\uvicorn\\protocols\\http\\h11_impl.py\", line 408, in run_asgi\n",
            "    result = await app(  # type: ignore[func-returns-value]\n",
            "  File \"c:\\Users\\users_uyemc1z\\git\\ip-adapters\\venv\\lib\\site-packages\\uvicorn\\middleware\\proxy_headers.py\", line 84, in __call__\n",
            "    return await self.app(scope, receive, send)\n",
            "  File \"c:\\Users\\users_uyemc1z\\git\\ip-adapters\\venv\\lib\\site-packages\\fastapi\\applications.py\", line 1054, in __call__\n",
            "    await super().__call__(scope, receive, send)\n",
            "  File \"c:\\Users\\users_uyemc1z\\git\\ip-adapters\\venv\\lib\\site-packages\\starlette\\applications.py\", line 123, in __call__\n",
            "    await self.middleware_stack(scope, receive, send)\n",
            "  File \"c:\\Users\\users_uyemc1z\\git\\ip-adapters\\venv\\lib\\site-packages\\starlette\\middleware\\errors.py\", line 186, in __call__\n",
            "    raise exc\n",
            "  File \"c:\\Users\\users_uyemc1z\\git\\ip-adapters\\venv\\lib\\site-packages\\starlette\\middleware\\errors.py\", line 164, in __call__\n",
            "    await self.app(scope, receive, _send)\n",
            "  File \"c:\\Users\\users_uyemc1z\\git\\ip-adapters\\venv\\lib\\site-packages\\starlette\\middleware\\cors.py\", line 83, in __call__\n",
            "    await self.app(scope, receive, send)\n",
            "  File \"c:\\Users\\users_uyemc1z\\git\\ip-adapters\\venv\\lib\\site-packages\\starlette\\middleware\\exceptions.py\", line 62, in __call__\n",
            "    await wrap_app_handling_exceptions(self.app, conn)(scope, receive, send)\n",
            "  File \"c:\\Users\\users_uyemc1z\\git\\ip-adapters\\venv\\lib\\site-packages\\starlette\\_exception_handler.py\", line 64, in wrapped_app\n",
            "    raise exc\n",
            "  File \"c:\\Users\\users_uyemc1z\\git\\ip-adapters\\venv\\lib\\site-packages\\starlette\\_exception_handler.py\", line 53, in wrapped_app\n",
            "    await app(scope, receive, sender)\n",
            "  File \"c:\\Users\\users_uyemc1z\\git\\ip-adapters\\venv\\lib\\site-packages\\starlette\\routing.py\", line 762, in __call__\n",
            "    await self.middleware_stack(scope, receive, send)\n",
            "  File \"c:\\Users\\users_uyemc1z\\git\\ip-adapters\\venv\\lib\\site-packages\\starlette\\routing.py\", line 782, in app\n",
            "    await route.handle(scope, receive, send)\n",
            "  File \"c:\\Users\\users_uyemc1z\\git\\ip-adapters\\venv\\lib\\site-packages\\starlette\\routing.py\", line 297, in handle\n",
            "    await self.app(scope, receive, send)\n",
            "  File \"c:\\Users\\users_uyemc1z\\git\\ip-adapters\\venv\\lib\\site-packages\\starlette\\routing.py\", line 77, in app\n",
            "    await wrap_app_handling_exceptions(app, request)(scope, receive, send)\n",
            "  File \"c:\\Users\\users_uyemc1z\\git\\ip-adapters\\venv\\lib\\site-packages\\starlette\\_exception_handler.py\", line 64, in wrapped_app\n",
            "    raise exc\n",
            "  File \"c:\\Users\\users_uyemc1z\\git\\ip-adapters\\venv\\lib\\site-packages\\starlette\\_exception_handler.py\", line 53, in wrapped_app\n",
            "    await app(scope, receive, sender)\n",
            "  File \"c:\\Users\\users_uyemc1z\\git\\ip-adapters\\venv\\lib\\site-packages\\starlette\\routing.py\", line 75, in app\n",
            "    await response(scope, receive, send)\n",
            "  File \"c:\\Users\\users_uyemc1z\\git\\ip-adapters\\venv\\lib\\site-packages\\starlette\\responses.py\", line 346, in __call__\n",
            "    await send(\n",
            "  File \"c:\\Users\\users_uyemc1z\\git\\ip-adapters\\venv\\lib\\site-packages\\starlette\\_exception_handler.py\", line 50, in sender\n",
            "    await send(message)\n",
            "  File \"c:\\Users\\users_uyemc1z\\git\\ip-adapters\\venv\\lib\\site-packages\\starlette\\_exception_handler.py\", line 50, in sender\n",
            "    await send(message)\n",
            "  File \"c:\\Users\\users_uyemc1z\\git\\ip-adapters\\venv\\lib\\site-packages\\starlette\\middleware\\errors.py\", line 161, in _send\n",
            "    await send(message)\n",
            "  File \"c:\\Users\\users_uyemc1z\\git\\ip-adapters\\venv\\lib\\site-packages\\uvicorn\\protocols\\http\\h11_impl.py\", line 512, in send\n",
            "    output = self.conn.send(event=h11.EndOfMessage())\n",
            "  File \"c:\\Users\\users_uyemc1z\\git\\ip-adapters\\venv\\lib\\site-packages\\h11\\_connection.py\", line 512, in send\n",
            "    data_list = self.send_with_data_passthrough(event)\n",
            "  File \"c:\\Users\\users_uyemc1z\\git\\ip-adapters\\venv\\lib\\site-packages\\h11\\_connection.py\", line 545, in send_with_data_passthrough\n",
            "    writer(event, data_list.append)\n",
            "  File \"c:\\Users\\users_uyemc1z\\git\\ip-adapters\\venv\\lib\\site-packages\\h11\\_writers.py\", line 67, in __call__\n",
            "    self.send_eom(event.headers, write)\n",
            "  File \"c:\\Users\\users_uyemc1z\\git\\ip-adapters\\venv\\lib\\site-packages\\h11\\_writers.py\", line 96, in send_eom\n",
            "    raise LocalProtocolError(\"Too little data for declared Content-Length\")\n",
            "h11._util.LocalProtocolError: Too little data for declared Content-Length\n"
          ]
        },
        {
          "name": "stdout",
          "output_type": "stream",
          "text": [
            "positive image\n"
          ]
        },
        {
          "data": {
            "application/vnd.jupyter.widget-view+json": {
              "model_id": "44b916059b774fb58760cc81a32adaa8",
              "version_major": 2,
              "version_minor": 0
            },
            "text/plain": [
              "  0%|          | 0/25 [00:00<?, ?it/s]"
            ]
          },
          "metadata": {},
          "output_type": "display_data"
        },
        {
          "name": "stdout",
          "output_type": "stream",
          "text": [
            "[<PIL.Image.Image image mode=RGB size=512x512 at 0x268F541EF80>, <PIL.Image.Image image mode=RGB size=512x512 at 0x268F541F430>, <PIL.Image.Image image mode=RGB size=512x512 at 0x268F5383310>, <PIL.Image.Image image mode=RGB size=512x512 at 0x268F5382C80>]\n"
          ]
        },
        {
          "name": "stderr",
          "output_type": "stream",
          "text": [
            "ERROR:    Exception in ASGI application\n",
            "Traceback (most recent call last):\n",
            "  File \"c:\\Users\\users_uyemc1z\\git\\ip-adapters\\venv\\lib\\site-packages\\uvicorn\\protocols\\http\\h11_impl.py\", line 408, in run_asgi\n",
            "    result = await app(  # type: ignore[func-returns-value]\n",
            "  File \"c:\\Users\\users_uyemc1z\\git\\ip-adapters\\venv\\lib\\site-packages\\uvicorn\\middleware\\proxy_headers.py\", line 84, in __call__\n",
            "    return await self.app(scope, receive, send)\n",
            "  File \"c:\\Users\\users_uyemc1z\\git\\ip-adapters\\venv\\lib\\site-packages\\fastapi\\applications.py\", line 1054, in __call__\n",
            "    await super().__call__(scope, receive, send)\n",
            "  File \"c:\\Users\\users_uyemc1z\\git\\ip-adapters\\venv\\lib\\site-packages\\starlette\\applications.py\", line 123, in __call__\n",
            "    await self.middleware_stack(scope, receive, send)\n",
            "  File \"c:\\Users\\users_uyemc1z\\git\\ip-adapters\\venv\\lib\\site-packages\\starlette\\middleware\\errors.py\", line 186, in __call__\n",
            "    raise exc\n",
            "  File \"c:\\Users\\users_uyemc1z\\git\\ip-adapters\\venv\\lib\\site-packages\\starlette\\middleware\\errors.py\", line 164, in __call__\n",
            "    await self.app(scope, receive, _send)\n",
            "  File \"c:\\Users\\users_uyemc1z\\git\\ip-adapters\\venv\\lib\\site-packages\\starlette\\middleware\\cors.py\", line 83, in __call__\n",
            "    await self.app(scope, receive, send)\n",
            "  File \"c:\\Users\\users_uyemc1z\\git\\ip-adapters\\venv\\lib\\site-packages\\starlette\\middleware\\exceptions.py\", line 62, in __call__\n",
            "    await wrap_app_handling_exceptions(self.app, conn)(scope, receive, send)\n",
            "  File \"c:\\Users\\users_uyemc1z\\git\\ip-adapters\\venv\\lib\\site-packages\\starlette\\_exception_handler.py\", line 64, in wrapped_app\n",
            "    raise exc\n",
            "  File \"c:\\Users\\users_uyemc1z\\git\\ip-adapters\\venv\\lib\\site-packages\\starlette\\_exception_handler.py\", line 53, in wrapped_app\n",
            "    await app(scope, receive, sender)\n",
            "  File \"c:\\Users\\users_uyemc1z\\git\\ip-adapters\\venv\\lib\\site-packages\\starlette\\routing.py\", line 762, in __call__\n",
            "    await self.middleware_stack(scope, receive, send)\n",
            "  File \"c:\\Users\\users_uyemc1z\\git\\ip-adapters\\venv\\lib\\site-packages\\starlette\\routing.py\", line 782, in app\n",
            "    await route.handle(scope, receive, send)\n",
            "  File \"c:\\Users\\users_uyemc1z\\git\\ip-adapters\\venv\\lib\\site-packages\\starlette\\routing.py\", line 297, in handle\n",
            "    await self.app(scope, receive, send)\n",
            "  File \"c:\\Users\\users_uyemc1z\\git\\ip-adapters\\venv\\lib\\site-packages\\starlette\\routing.py\", line 77, in app\n",
            "    await wrap_app_handling_exceptions(app, request)(scope, receive, send)\n",
            "  File \"c:\\Users\\users_uyemc1z\\git\\ip-adapters\\venv\\lib\\site-packages\\starlette\\_exception_handler.py\", line 64, in wrapped_app\n",
            "    raise exc\n",
            "  File \"c:\\Users\\users_uyemc1z\\git\\ip-adapters\\venv\\lib\\site-packages\\starlette\\_exception_handler.py\", line 53, in wrapped_app\n",
            "    await app(scope, receive, sender)\n",
            "  File \"c:\\Users\\users_uyemc1z\\git\\ip-adapters\\venv\\lib\\site-packages\\starlette\\routing.py\", line 75, in app\n",
            "    await response(scope, receive, send)\n",
            "  File \"c:\\Users\\users_uyemc1z\\git\\ip-adapters\\venv\\lib\\site-packages\\starlette\\responses.py\", line 346, in __call__\n",
            "    await send(\n",
            "  File \"c:\\Users\\users_uyemc1z\\git\\ip-adapters\\venv\\lib\\site-packages\\starlette\\_exception_handler.py\", line 50, in sender\n",
            "    await send(message)\n",
            "  File \"c:\\Users\\users_uyemc1z\\git\\ip-adapters\\venv\\lib\\site-packages\\starlette\\_exception_handler.py\", line 50, in sender\n",
            "    await send(message)\n",
            "  File \"c:\\Users\\users_uyemc1z\\git\\ip-adapters\\venv\\lib\\site-packages\\starlette\\middleware\\errors.py\", line 161, in _send\n",
            "    await send(message)\n",
            "  File \"c:\\Users\\users_uyemc1z\\git\\ip-adapters\\venv\\lib\\site-packages\\uvicorn\\protocols\\http\\h11_impl.py\", line 512, in send\n",
            "    output = self.conn.send(event=h11.EndOfMessage())\n",
            "  File \"c:\\Users\\users_uyemc1z\\git\\ip-adapters\\venv\\lib\\site-packages\\h11\\_connection.py\", line 512, in send\n",
            "    data_list = self.send_with_data_passthrough(event)\n",
            "  File \"c:\\Users\\users_uyemc1z\\git\\ip-adapters\\venv\\lib\\site-packages\\h11\\_connection.py\", line 545, in send_with_data_passthrough\n",
            "    writer(event, data_list.append)\n",
            "  File \"c:\\Users\\users_uyemc1z\\git\\ip-adapters\\venv\\lib\\site-packages\\h11\\_writers.py\", line 67, in __call__\n",
            "    self.send_eom(event.headers, write)\n",
            "  File \"c:\\Users\\users_uyemc1z\\git\\ip-adapters\\venv\\lib\\site-packages\\h11\\_writers.py\", line 96, in send_eom\n",
            "    raise LocalProtocolError(\"Too little data for declared Content-Length\")\n",
            "h11._util.LocalProtocolError: Too little data for declared Content-Length\n"
          ]
        },
        {
          "name": "stdout",
          "output_type": "stream",
          "text": [
            "positive and negative image\n"
          ]
        },
        {
          "data": {
            "application/vnd.jupyter.widget-view+json": {
              "model_id": "026502db92ad4dd8a0dc471d9203cd49",
              "version_major": 2,
              "version_minor": 0
            },
            "text/plain": [
              "  0%|          | 0/25 [00:00<?, ?it/s]"
            ]
          },
          "metadata": {},
          "output_type": "display_data"
        },
        {
          "name": "stdout",
          "output_type": "stream",
          "text": [
            "[<PIL.Image.Image image mode=RGB size=512x512 at 0x268F5380940>, <PIL.Image.Image image mode=RGB size=512x512 at 0x268F5380CA0>, <PIL.Image.Image image mode=RGB size=512x512 at 0x268F5381870>, <PIL.Image.Image image mode=RGB size=512x512 at 0x268F53820E0>]\n",
            "positive and negative image\n"
          ]
        },
        {
          "data": {
            "application/vnd.jupyter.widget-view+json": {
              "model_id": "6eb6a30d34784cc28b47b6a9a2944bc9",
              "version_major": 2,
              "version_minor": 0
            },
            "text/plain": [
              "  0%|          | 0/25 [00:00<?, ?it/s]"
            ]
          },
          "metadata": {},
          "output_type": "display_data"
        },
        {
          "name": "stdout",
          "output_type": "stream",
          "text": [
            "[<PIL.Image.Image image mode=RGB size=512x512 at 0x268F5381990>, <PIL.Image.Image image mode=RGB size=512x512 at 0x268F5381270>, <PIL.Image.Image image mode=RGB size=512x512 at 0x268F5382920>, <PIL.Image.Image image mode=RGB size=512x512 at 0x268F5382620>]\n",
            "positive image\n"
          ]
        },
        {
          "data": {
            "application/vnd.jupyter.widget-view+json": {
              "model_id": "27db937e72e648fc886f6ea88448560a",
              "version_major": 2,
              "version_minor": 0
            },
            "text/plain": [
              "  0%|          | 0/25 [00:00<?, ?it/s]"
            ]
          },
          "metadata": {},
          "output_type": "display_data"
        },
        {
          "name": "stdout",
          "output_type": "stream",
          "text": [
            "[<PIL.Image.Image image mode=RGB size=512x512 at 0x268F53A4520>, <PIL.Image.Image image mode=RGB size=512x512 at 0x268F53A4460>, <PIL.Image.Image image mode=RGB size=512x512 at 0x268F53A7580>, <PIL.Image.Image image mode=RGB size=512x512 at 0x268F53A7640>]\n"
          ]
        },
        {
          "name": "stderr",
          "output_type": "stream",
          "text": [
            "ERROR:    Exception in ASGI application\n",
            "Traceback (most recent call last):\n",
            "  File \"c:\\Users\\users_uyemc1z\\git\\ip-adapters\\venv\\lib\\site-packages\\uvicorn\\protocols\\http\\h11_impl.py\", line 408, in run_asgi\n",
            "    result = await app(  # type: ignore[func-returns-value]\n",
            "  File \"c:\\Users\\users_uyemc1z\\git\\ip-adapters\\venv\\lib\\site-packages\\uvicorn\\middleware\\proxy_headers.py\", line 84, in __call__\n",
            "    return await self.app(scope, receive, send)\n",
            "  File \"c:\\Users\\users_uyemc1z\\git\\ip-adapters\\venv\\lib\\site-packages\\fastapi\\applications.py\", line 1054, in __call__\n",
            "    await super().__call__(scope, receive, send)\n",
            "  File \"c:\\Users\\users_uyemc1z\\git\\ip-adapters\\venv\\lib\\site-packages\\starlette\\applications.py\", line 123, in __call__\n",
            "    await self.middleware_stack(scope, receive, send)\n",
            "  File \"c:\\Users\\users_uyemc1z\\git\\ip-adapters\\venv\\lib\\site-packages\\starlette\\middleware\\errors.py\", line 186, in __call__\n",
            "    raise exc\n",
            "  File \"c:\\Users\\users_uyemc1z\\git\\ip-adapters\\venv\\lib\\site-packages\\starlette\\middleware\\errors.py\", line 164, in __call__\n",
            "    await self.app(scope, receive, _send)\n",
            "  File \"c:\\Users\\users_uyemc1z\\git\\ip-adapters\\venv\\lib\\site-packages\\starlette\\middleware\\cors.py\", line 83, in __call__\n",
            "    await self.app(scope, receive, send)\n",
            "  File \"c:\\Users\\users_uyemc1z\\git\\ip-adapters\\venv\\lib\\site-packages\\starlette\\middleware\\exceptions.py\", line 62, in __call__\n",
            "    await wrap_app_handling_exceptions(self.app, conn)(scope, receive, send)\n",
            "  File \"c:\\Users\\users_uyemc1z\\git\\ip-adapters\\venv\\lib\\site-packages\\starlette\\_exception_handler.py\", line 64, in wrapped_app\n",
            "    raise exc\n",
            "  File \"c:\\Users\\users_uyemc1z\\git\\ip-adapters\\venv\\lib\\site-packages\\starlette\\_exception_handler.py\", line 53, in wrapped_app\n",
            "    await app(scope, receive, sender)\n",
            "  File \"c:\\Users\\users_uyemc1z\\git\\ip-adapters\\venv\\lib\\site-packages\\starlette\\routing.py\", line 762, in __call__\n",
            "    await self.middleware_stack(scope, receive, send)\n",
            "  File \"c:\\Users\\users_uyemc1z\\git\\ip-adapters\\venv\\lib\\site-packages\\starlette\\routing.py\", line 782, in app\n",
            "    await route.handle(scope, receive, send)\n",
            "  File \"c:\\Users\\users_uyemc1z\\git\\ip-adapters\\venv\\lib\\site-packages\\starlette\\routing.py\", line 297, in handle\n",
            "    await self.app(scope, receive, send)\n",
            "  File \"c:\\Users\\users_uyemc1z\\git\\ip-adapters\\venv\\lib\\site-packages\\starlette\\routing.py\", line 77, in app\n",
            "    await wrap_app_handling_exceptions(app, request)(scope, receive, send)\n",
            "  File \"c:\\Users\\users_uyemc1z\\git\\ip-adapters\\venv\\lib\\site-packages\\starlette\\_exception_handler.py\", line 64, in wrapped_app\n",
            "    raise exc\n",
            "  File \"c:\\Users\\users_uyemc1z\\git\\ip-adapters\\venv\\lib\\site-packages\\starlette\\_exception_handler.py\", line 53, in wrapped_app\n",
            "    await app(scope, receive, sender)\n",
            "  File \"c:\\Users\\users_uyemc1z\\git\\ip-adapters\\venv\\lib\\site-packages\\starlette\\routing.py\", line 75, in app\n",
            "    await response(scope, receive, send)\n",
            "  File \"c:\\Users\\users_uyemc1z\\git\\ip-adapters\\venv\\lib\\site-packages\\starlette\\responses.py\", line 346, in __call__\n",
            "    await send(\n",
            "  File \"c:\\Users\\users_uyemc1z\\git\\ip-adapters\\venv\\lib\\site-packages\\starlette\\_exception_handler.py\", line 50, in sender\n",
            "    await send(message)\n",
            "  File \"c:\\Users\\users_uyemc1z\\git\\ip-adapters\\venv\\lib\\site-packages\\starlette\\_exception_handler.py\", line 50, in sender\n",
            "    await send(message)\n",
            "  File \"c:\\Users\\users_uyemc1z\\git\\ip-adapters\\venv\\lib\\site-packages\\starlette\\middleware\\errors.py\", line 161, in _send\n",
            "    await send(message)\n",
            "  File \"c:\\Users\\users_uyemc1z\\git\\ip-adapters\\venv\\lib\\site-packages\\uvicorn\\protocols\\http\\h11_impl.py\", line 512, in send\n",
            "    output = self.conn.send(event=h11.EndOfMessage())\n",
            "  File \"c:\\Users\\users_uyemc1z\\git\\ip-adapters\\venv\\lib\\site-packages\\h11\\_connection.py\", line 512, in send\n",
            "    data_list = self.send_with_data_passthrough(event)\n",
            "  File \"c:\\Users\\users_uyemc1z\\git\\ip-adapters\\venv\\lib\\site-packages\\h11\\_connection.py\", line 545, in send_with_data_passthrough\n",
            "    writer(event, data_list.append)\n",
            "  File \"c:\\Users\\users_uyemc1z\\git\\ip-adapters\\venv\\lib\\site-packages\\h11\\_writers.py\", line 67, in __call__\n",
            "    self.send_eom(event.headers, write)\n",
            "  File \"c:\\Users\\users_uyemc1z\\git\\ip-adapters\\venv\\lib\\site-packages\\h11\\_writers.py\", line 96, in send_eom\n",
            "    raise LocalProtocolError(\"Too little data for declared Content-Length\")\n",
            "h11._util.LocalProtocolError: Too little data for declared Content-Length\n"
          ]
        },
        {
          "name": "stdout",
          "output_type": "stream",
          "text": [
            "positive and negative image\n"
          ]
        },
        {
          "data": {
            "application/vnd.jupyter.widget-view+json": {
              "model_id": "87fe1b41694c43f88422563830ad3b61",
              "version_major": 2,
              "version_minor": 0
            },
            "text/plain": [
              "  0%|          | 0/25 [00:00<?, ?it/s]"
            ]
          },
          "metadata": {},
          "output_type": "display_data"
        },
        {
          "name": "stdout",
          "output_type": "stream",
          "text": [
            "[<PIL.Image.Image image mode=RGB size=512x512 at 0x268F53B5A50>, <PIL.Image.Image image mode=RGB size=512x512 at 0x268F53B5E70>, <PIL.Image.Image image mode=RGB size=512x512 at 0x268F53B4280>, <PIL.Image.Image image mode=RGB size=512x512 at 0x268F53B7430>]\n",
            "positive image\n"
          ]
        },
        {
          "data": {
            "application/vnd.jupyter.widget-view+json": {
              "model_id": "22aa6d0e36934e79a368a6c1c3627e8e",
              "version_major": 2,
              "version_minor": 0
            },
            "text/plain": [
              "  0%|          | 0/25 [00:00<?, ?it/s]"
            ]
          },
          "metadata": {},
          "output_type": "display_data"
        },
        {
          "name": "stdout",
          "output_type": "stream",
          "text": [
            "[<PIL.Image.Image image mode=RGB size=512x512 at 0x268F53A47C0>, <PIL.Image.Image image mode=RGB size=512x512 at 0x268F53A4A30>, <PIL.Image.Image image mode=RGB size=512x512 at 0x268F53A45E0>, <PIL.Image.Image image mode=RGB size=512x512 at 0x268F53A5870>]\n"
          ]
        },
        {
          "name": "stderr",
          "output_type": "stream",
          "text": [
            "ERROR:    Exception in ASGI application\n",
            "Traceback (most recent call last):\n",
            "  File \"c:\\Users\\users_uyemc1z\\git\\ip-adapters\\venv\\lib\\site-packages\\uvicorn\\protocols\\http\\h11_impl.py\", line 408, in run_asgi\n",
            "    result = await app(  # type: ignore[func-returns-value]\n",
            "  File \"c:\\Users\\users_uyemc1z\\git\\ip-adapters\\venv\\lib\\site-packages\\uvicorn\\middleware\\proxy_headers.py\", line 84, in __call__\n",
            "    return await self.app(scope, receive, send)\n",
            "  File \"c:\\Users\\users_uyemc1z\\git\\ip-adapters\\venv\\lib\\site-packages\\fastapi\\applications.py\", line 1054, in __call__\n",
            "    await super().__call__(scope, receive, send)\n",
            "  File \"c:\\Users\\users_uyemc1z\\git\\ip-adapters\\venv\\lib\\site-packages\\starlette\\applications.py\", line 123, in __call__\n",
            "    await self.middleware_stack(scope, receive, send)\n",
            "  File \"c:\\Users\\users_uyemc1z\\git\\ip-adapters\\venv\\lib\\site-packages\\starlette\\middleware\\errors.py\", line 186, in __call__\n",
            "    raise exc\n",
            "  File \"c:\\Users\\users_uyemc1z\\git\\ip-adapters\\venv\\lib\\site-packages\\starlette\\middleware\\errors.py\", line 164, in __call__\n",
            "    await self.app(scope, receive, _send)\n",
            "  File \"c:\\Users\\users_uyemc1z\\git\\ip-adapters\\venv\\lib\\site-packages\\starlette\\middleware\\cors.py\", line 83, in __call__\n",
            "    await self.app(scope, receive, send)\n",
            "  File \"c:\\Users\\users_uyemc1z\\git\\ip-adapters\\venv\\lib\\site-packages\\starlette\\middleware\\exceptions.py\", line 62, in __call__\n",
            "    await wrap_app_handling_exceptions(self.app, conn)(scope, receive, send)\n",
            "  File \"c:\\Users\\users_uyemc1z\\git\\ip-adapters\\venv\\lib\\site-packages\\starlette\\_exception_handler.py\", line 64, in wrapped_app\n",
            "    raise exc\n",
            "  File \"c:\\Users\\users_uyemc1z\\git\\ip-adapters\\venv\\lib\\site-packages\\starlette\\_exception_handler.py\", line 53, in wrapped_app\n",
            "    await app(scope, receive, sender)\n",
            "  File \"c:\\Users\\users_uyemc1z\\git\\ip-adapters\\venv\\lib\\site-packages\\starlette\\routing.py\", line 762, in __call__\n",
            "    await self.middleware_stack(scope, receive, send)\n",
            "  File \"c:\\Users\\users_uyemc1z\\git\\ip-adapters\\venv\\lib\\site-packages\\starlette\\routing.py\", line 782, in app\n",
            "    await route.handle(scope, receive, send)\n",
            "  File \"c:\\Users\\users_uyemc1z\\git\\ip-adapters\\venv\\lib\\site-packages\\starlette\\routing.py\", line 297, in handle\n",
            "    await self.app(scope, receive, send)\n",
            "  File \"c:\\Users\\users_uyemc1z\\git\\ip-adapters\\venv\\lib\\site-packages\\starlette\\routing.py\", line 77, in app\n",
            "    await wrap_app_handling_exceptions(app, request)(scope, receive, send)\n",
            "  File \"c:\\Users\\users_uyemc1z\\git\\ip-adapters\\venv\\lib\\site-packages\\starlette\\_exception_handler.py\", line 64, in wrapped_app\n",
            "    raise exc\n",
            "  File \"c:\\Users\\users_uyemc1z\\git\\ip-adapters\\venv\\lib\\site-packages\\starlette\\_exception_handler.py\", line 53, in wrapped_app\n",
            "    await app(scope, receive, sender)\n",
            "  File \"c:\\Users\\users_uyemc1z\\git\\ip-adapters\\venv\\lib\\site-packages\\starlette\\routing.py\", line 75, in app\n",
            "    await response(scope, receive, send)\n",
            "  File \"c:\\Users\\users_uyemc1z\\git\\ip-adapters\\venv\\lib\\site-packages\\starlette\\responses.py\", line 346, in __call__\n",
            "    await send(\n",
            "  File \"c:\\Users\\users_uyemc1z\\git\\ip-adapters\\venv\\lib\\site-packages\\starlette\\_exception_handler.py\", line 50, in sender\n",
            "    await send(message)\n",
            "  File \"c:\\Users\\users_uyemc1z\\git\\ip-adapters\\venv\\lib\\site-packages\\starlette\\_exception_handler.py\", line 50, in sender\n",
            "    await send(message)\n",
            "  File \"c:\\Users\\users_uyemc1z\\git\\ip-adapters\\venv\\lib\\site-packages\\starlette\\middleware\\errors.py\", line 161, in _send\n",
            "    await send(message)\n",
            "  File \"c:\\Users\\users_uyemc1z\\git\\ip-adapters\\venv\\lib\\site-packages\\uvicorn\\protocols\\http\\h11_impl.py\", line 512, in send\n",
            "    output = self.conn.send(event=h11.EndOfMessage())\n",
            "  File \"c:\\Users\\users_uyemc1z\\git\\ip-adapters\\venv\\lib\\site-packages\\h11\\_connection.py\", line 512, in send\n",
            "    data_list = self.send_with_data_passthrough(event)\n",
            "  File \"c:\\Users\\users_uyemc1z\\git\\ip-adapters\\venv\\lib\\site-packages\\h11\\_connection.py\", line 545, in send_with_data_passthrough\n",
            "    writer(event, data_list.append)\n",
            "  File \"c:\\Users\\users_uyemc1z\\git\\ip-adapters\\venv\\lib\\site-packages\\h11\\_writers.py\", line 67, in __call__\n",
            "    self.send_eom(event.headers, write)\n",
            "  File \"c:\\Users\\users_uyemc1z\\git\\ip-adapters\\venv\\lib\\site-packages\\h11\\_writers.py\", line 96, in send_eom\n",
            "    raise LocalProtocolError(\"Too little data for declared Content-Length\")\n",
            "h11._util.LocalProtocolError: Too little data for declared Content-Length\n"
          ]
        },
        {
          "name": "stdout",
          "output_type": "stream",
          "text": [
            "positive image\n"
          ]
        },
        {
          "data": {
            "application/vnd.jupyter.widget-view+json": {
              "model_id": "809ef8da1e5a42daaa5baf49e3dd9fca",
              "version_major": 2,
              "version_minor": 0
            },
            "text/plain": [
              "  0%|          | 0/25 [00:00<?, ?it/s]"
            ]
          },
          "metadata": {},
          "output_type": "display_data"
        },
        {
          "name": "stdout",
          "output_type": "stream",
          "text": [
            "[<PIL.Image.Image image mode=RGB size=512x512 at 0x268F52C0D60>, <PIL.Image.Image image mode=RGB size=512x512 at 0x268F52C28C0>, <PIL.Image.Image image mode=RGB size=512x512 at 0x268F52C2500>, <PIL.Image.Image image mode=RGB size=512x512 at 0x268F52C0BB0>]\n",
            "positive and negative image\n"
          ]
        },
        {
          "data": {
            "application/vnd.jupyter.widget-view+json": {
              "model_id": "2244102c29794e6a9a3a34b861dcc516",
              "version_major": 2,
              "version_minor": 0
            },
            "text/plain": [
              "  0%|          | 0/25 [00:00<?, ?it/s]"
            ]
          },
          "metadata": {},
          "output_type": "display_data"
        },
        {
          "name": "stdout",
          "output_type": "stream",
          "text": [
            "[<PIL.Image.Image image mode=RGB size=512x512 at 0x268F53A5AB0>, <PIL.Image.Image image mode=RGB size=512x512 at 0x268F53A6BC0>, <PIL.Image.Image image mode=RGB size=512x512 at 0x268F53A73A0>, <PIL.Image.Image image mode=RGB size=512x512 at 0x268F53A69E0>]\n",
            "positive image\n"
          ]
        },
        {
          "data": {
            "application/vnd.jupyter.widget-view+json": {
              "model_id": "56541ef526624837ab54deda083a9710",
              "version_major": 2,
              "version_minor": 0
            },
            "text/plain": [
              "  0%|          | 0/25 [00:00<?, ?it/s]"
            ]
          },
          "metadata": {},
          "output_type": "display_data"
        },
        {
          "name": "stdout",
          "output_type": "stream",
          "text": [
            "[<PIL.Image.Image image mode=RGB size=512x512 at 0x268F55005B0>, <PIL.Image.Image image mode=RGB size=512x512 at 0x268F5500370>, <PIL.Image.Image image mode=RGB size=512x512 at 0x268F5501E10>, <PIL.Image.Image image mode=RGB size=512x512 at 0x268F5502530>]\n",
            "positive image\n"
          ]
        },
        {
          "data": {
            "application/vnd.jupyter.widget-view+json": {
              "model_id": "443ea023e6cf4314b5b4f13f16c9ffb9",
              "version_major": 2,
              "version_minor": 0
            },
            "text/plain": [
              "  0%|          | 0/25 [00:00<?, ?it/s]"
            ]
          },
          "metadata": {},
          "output_type": "display_data"
        },
        {
          "name": "stdout",
          "output_type": "stream",
          "text": [
            "[<PIL.Image.Image image mode=RGB size=512x512 at 0x268F55AE830>, <PIL.Image.Image image mode=RGB size=512x512 at 0x268F55AC4F0>, <PIL.Image.Image image mode=RGB size=512x512 at 0x268F55AF460>, <PIL.Image.Image image mode=RGB size=512x512 at 0x268F55AD5A0>]\n",
            "negative image\n"
          ]
        },
        {
          "data": {
            "application/vnd.jupyter.widget-view+json": {
              "model_id": "59080a9e10fd4caebcc2266c699301c2",
              "version_major": 2,
              "version_minor": 0
            },
            "text/plain": [
              "  0%|          | 0/25 [00:00<?, ?it/s]"
            ]
          },
          "metadata": {},
          "output_type": "display_data"
        },
        {
          "name": "stdout",
          "output_type": "stream",
          "text": [
            "[<PIL.Image.Image image mode=RGB size=512x512 at 0x268F55A4160>, <PIL.Image.Image image mode=RGB size=512x512 at 0x268F55A71C0>, <PIL.Image.Image image mode=RGB size=512x512 at 0x268F55A5090>, <PIL.Image.Image image mode=RGB size=512x512 at 0x268F55A69E0>]\n",
            "negative image\n"
          ]
        },
        {
          "data": {
            "application/vnd.jupyter.widget-view+json": {
              "model_id": "384cf4cac6234f158df20db81fd922b0",
              "version_major": 2,
              "version_minor": 0
            },
            "text/plain": [
              "  0%|          | 0/25 [00:00<?, ?it/s]"
            ]
          },
          "metadata": {},
          "output_type": "display_data"
        },
        {
          "name": "stdout",
          "output_type": "stream",
          "text": [
            "[<PIL.Image.Image image mode=RGB size=512x512 at 0x268F5566EF0>, <PIL.Image.Image image mode=RGB size=512x512 at 0x268F5567850>, <PIL.Image.Image image mode=RGB size=512x512 at 0x268F5566E30>, <PIL.Image.Image image mode=RGB size=512x512 at 0x268F55679D0>]\n",
            "negative image\n"
          ]
        },
        {
          "data": {
            "application/vnd.jupyter.widget-view+json": {
              "model_id": "a0e07020417a40c987a4a6c123de234e",
              "version_major": 2,
              "version_minor": 0
            },
            "text/plain": [
              "  0%|          | 0/25 [00:00<?, ?it/s]"
            ]
          },
          "metadata": {},
          "output_type": "display_data"
        },
        {
          "name": "stdout",
          "output_type": "stream",
          "text": [
            "[<PIL.Image.Image image mode=RGB size=512x512 at 0x268F53B5150>, <PIL.Image.Image image mode=RGB size=512x512 at 0x268F53B5BA0>, <PIL.Image.Image image mode=RGB size=512x512 at 0x268F53B7160>, <PIL.Image.Image image mode=RGB size=512x512 at 0x268F53B5FC0>]\n",
            "negative image\n"
          ]
        },
        {
          "data": {
            "application/vnd.jupyter.widget-view+json": {
              "model_id": "76be98fc9c454b60b0666d7e7ef51d58",
              "version_major": 2,
              "version_minor": 0
            },
            "text/plain": [
              "  0%|          | 0/25 [00:00<?, ?it/s]"
            ]
          },
          "metadata": {},
          "output_type": "display_data"
        },
        {
          "name": "stdout",
          "output_type": "stream",
          "text": [
            "[<PIL.Image.Image image mode=RGB size=512x512 at 0x268F52C0070>, <PIL.Image.Image image mode=RGB size=512x512 at 0x268F52C2FB0>, <PIL.Image.Image image mode=RGB size=512x512 at 0x268F52C0610>, <PIL.Image.Image image mode=RGB size=512x512 at 0x268F52C2DD0>]\n"
          ]
        },
        {
          "name": "stderr",
          "output_type": "stream",
          "text": [
            "ERROR:    Exception in ASGI application\n",
            "Traceback (most recent call last):\n",
            "  File \"c:\\Users\\users_uyemc1z\\git\\ip-adapters\\venv\\lib\\site-packages\\uvicorn\\protocols\\http\\h11_impl.py\", line 408, in run_asgi\n",
            "    result = await app(  # type: ignore[func-returns-value]\n",
            "  File \"c:\\Users\\users_uyemc1z\\git\\ip-adapters\\venv\\lib\\site-packages\\uvicorn\\middleware\\proxy_headers.py\", line 84, in __call__\n",
            "    return await self.app(scope, receive, send)\n",
            "  File \"c:\\Users\\users_uyemc1z\\git\\ip-adapters\\venv\\lib\\site-packages\\fastapi\\applications.py\", line 1054, in __call__\n",
            "    await super().__call__(scope, receive, send)\n",
            "  File \"c:\\Users\\users_uyemc1z\\git\\ip-adapters\\venv\\lib\\site-packages\\starlette\\applications.py\", line 123, in __call__\n",
            "    await self.middleware_stack(scope, receive, send)\n",
            "  File \"c:\\Users\\users_uyemc1z\\git\\ip-adapters\\venv\\lib\\site-packages\\starlette\\middleware\\errors.py\", line 186, in __call__\n",
            "    raise exc\n",
            "  File \"c:\\Users\\users_uyemc1z\\git\\ip-adapters\\venv\\lib\\site-packages\\starlette\\middleware\\errors.py\", line 164, in __call__\n",
            "    await self.app(scope, receive, _send)\n",
            "  File \"c:\\Users\\users_uyemc1z\\git\\ip-adapters\\venv\\lib\\site-packages\\starlette\\middleware\\cors.py\", line 83, in __call__\n",
            "    await self.app(scope, receive, send)\n",
            "  File \"c:\\Users\\users_uyemc1z\\git\\ip-adapters\\venv\\lib\\site-packages\\starlette\\middleware\\exceptions.py\", line 62, in __call__\n",
            "    await wrap_app_handling_exceptions(self.app, conn)(scope, receive, send)\n",
            "  File \"c:\\Users\\users_uyemc1z\\git\\ip-adapters\\venv\\lib\\site-packages\\starlette\\_exception_handler.py\", line 64, in wrapped_app\n",
            "    raise exc\n",
            "  File \"c:\\Users\\users_uyemc1z\\git\\ip-adapters\\venv\\lib\\site-packages\\starlette\\_exception_handler.py\", line 53, in wrapped_app\n",
            "    await app(scope, receive, sender)\n",
            "  File \"c:\\Users\\users_uyemc1z\\git\\ip-adapters\\venv\\lib\\site-packages\\starlette\\routing.py\", line 762, in __call__\n",
            "    await self.middleware_stack(scope, receive, send)\n",
            "  File \"c:\\Users\\users_uyemc1z\\git\\ip-adapters\\venv\\lib\\site-packages\\starlette\\routing.py\", line 782, in app\n",
            "    await route.handle(scope, receive, send)\n",
            "  File \"c:\\Users\\users_uyemc1z\\git\\ip-adapters\\venv\\lib\\site-packages\\starlette\\routing.py\", line 297, in handle\n",
            "    await self.app(scope, receive, send)\n",
            "  File \"c:\\Users\\users_uyemc1z\\git\\ip-adapters\\venv\\lib\\site-packages\\starlette\\routing.py\", line 77, in app\n",
            "    await wrap_app_handling_exceptions(app, request)(scope, receive, send)\n",
            "  File \"c:\\Users\\users_uyemc1z\\git\\ip-adapters\\venv\\lib\\site-packages\\starlette\\_exception_handler.py\", line 64, in wrapped_app\n",
            "    raise exc\n",
            "  File \"c:\\Users\\users_uyemc1z\\git\\ip-adapters\\venv\\lib\\site-packages\\starlette\\_exception_handler.py\", line 53, in wrapped_app\n",
            "    await app(scope, receive, sender)\n",
            "  File \"c:\\Users\\users_uyemc1z\\git\\ip-adapters\\venv\\lib\\site-packages\\starlette\\routing.py\", line 75, in app\n",
            "    await response(scope, receive, send)\n",
            "  File \"c:\\Users\\users_uyemc1z\\git\\ip-adapters\\venv\\lib\\site-packages\\starlette\\responses.py\", line 346, in __call__\n",
            "    await send(\n",
            "  File \"c:\\Users\\users_uyemc1z\\git\\ip-adapters\\venv\\lib\\site-packages\\starlette\\_exception_handler.py\", line 50, in sender\n",
            "    await send(message)\n",
            "  File \"c:\\Users\\users_uyemc1z\\git\\ip-adapters\\venv\\lib\\site-packages\\starlette\\_exception_handler.py\", line 50, in sender\n",
            "    await send(message)\n",
            "  File \"c:\\Users\\users_uyemc1z\\git\\ip-adapters\\venv\\lib\\site-packages\\starlette\\middleware\\errors.py\", line 161, in _send\n",
            "    await send(message)\n",
            "  File \"c:\\Users\\users_uyemc1z\\git\\ip-adapters\\venv\\lib\\site-packages\\uvicorn\\protocols\\http\\h11_impl.py\", line 512, in send\n",
            "    output = self.conn.send(event=h11.EndOfMessage())\n",
            "  File \"c:\\Users\\users_uyemc1z\\git\\ip-adapters\\venv\\lib\\site-packages\\h11\\_connection.py\", line 512, in send\n",
            "    data_list = self.send_with_data_passthrough(event)\n",
            "  File \"c:\\Users\\users_uyemc1z\\git\\ip-adapters\\venv\\lib\\site-packages\\h11\\_connection.py\", line 545, in send_with_data_passthrough\n",
            "    writer(event, data_list.append)\n",
            "  File \"c:\\Users\\users_uyemc1z\\git\\ip-adapters\\venv\\lib\\site-packages\\h11\\_writers.py\", line 67, in __call__\n",
            "    self.send_eom(event.headers, write)\n",
            "  File \"c:\\Users\\users_uyemc1z\\git\\ip-adapters\\venv\\lib\\site-packages\\h11\\_writers.py\", line 96, in send_eom\n",
            "    raise LocalProtocolError(\"Too little data for declared Content-Length\")\n",
            "h11._util.LocalProtocolError: Too little data for declared Content-Length\n"
          ]
        },
        {
          "name": "stdout",
          "output_type": "stream",
          "text": [
            "negative image\n"
          ]
        },
        {
          "data": {
            "application/vnd.jupyter.widget-view+json": {
              "model_id": "21c200f0cc324026b6ce67c0dd53b354",
              "version_major": 2,
              "version_minor": 0
            },
            "text/plain": [
              "  0%|          | 0/25 [00:00<?, ?it/s]"
            ]
          },
          "metadata": {},
          "output_type": "display_data"
        },
        {
          "name": "stdout",
          "output_type": "stream",
          "text": [
            "[<PIL.Image.Image image mode=RGB size=512x512 at 0x268F52C30D0>, <PIL.Image.Image image mode=RGB size=512x512 at 0x268F52C29E0>, <PIL.Image.Image image mode=RGB size=512x512 at 0x268F52C19C0>, <PIL.Image.Image image mode=RGB size=512x512 at 0x268F52C0490>]\n",
            "negative image\n"
          ]
        },
        {
          "data": {
            "application/vnd.jupyter.widget-view+json": {
              "model_id": "56d57d4b24c74172a01709c8a2332f70",
              "version_major": 2,
              "version_minor": 0
            },
            "text/plain": [
              "  0%|          | 0/25 [00:00<?, ?it/s]"
            ]
          },
          "metadata": {},
          "output_type": "display_data"
        },
        {
          "name": "stdout",
          "output_type": "stream",
          "text": [
            "[<PIL.Image.Image image mode=RGB size=512x512 at 0x268F531E680>, <PIL.Image.Image image mode=RGB size=512x512 at 0x268F531C130>, <PIL.Image.Image image mode=RGB size=512x512 at 0x268F531DC00>, <PIL.Image.Image image mode=RGB size=512x512 at 0x268F531E2C0>]\n",
            "negative image\n"
          ]
        },
        {
          "data": {
            "application/vnd.jupyter.widget-view+json": {
              "model_id": "1f85bae83382463081dbb24bc168703b",
              "version_major": 2,
              "version_minor": 0
            },
            "text/plain": [
              "  0%|          | 0/25 [00:00<?, ?it/s]"
            ]
          },
          "metadata": {},
          "output_type": "display_data"
        },
        {
          "name": "stdout",
          "output_type": "stream",
          "text": [
            "[<PIL.Image.Image image mode=RGB size=512x512 at 0x268F531F040>, <PIL.Image.Image image mode=RGB size=512x512 at 0x268F531F160>, <PIL.Image.Image image mode=RGB size=512x512 at 0x268F531DA20>, <PIL.Image.Image image mode=RGB size=512x512 at 0x268F531C9D0>]\n",
            "negative image\n"
          ]
        },
        {
          "data": {
            "application/vnd.jupyter.widget-view+json": {
              "model_id": "5db660b9af474f6db863410d56f0a67e",
              "version_major": 2,
              "version_minor": 0
            },
            "text/plain": [
              "  0%|          | 0/25 [00:00<?, ?it/s]"
            ]
          },
          "metadata": {},
          "output_type": "display_data"
        },
        {
          "name": "stdout",
          "output_type": "stream",
          "text": [
            "[<PIL.Image.Image image mode=RGB size=512x512 at 0x268F5300160>, <PIL.Image.Image image mode=RGB size=512x512 at 0x268F53011E0>, <PIL.Image.Image image mode=RGB size=512x512 at 0x268F5302170>, <PIL.Image.Image image mode=RGB size=512x512 at 0x268F5301B10>]\n",
            "negative image\n"
          ]
        },
        {
          "data": {
            "application/vnd.jupyter.widget-view+json": {
              "model_id": "1d9a1191c3cd44f3af45b97d6b1b8167",
              "version_major": 2,
              "version_minor": 0
            },
            "text/plain": [
              "  0%|          | 0/25 [00:00<?, ?it/s]"
            ]
          },
          "metadata": {},
          "output_type": "display_data"
        },
        {
          "name": "stdout",
          "output_type": "stream",
          "text": [
            "[<PIL.Image.Image image mode=RGB size=512x512 at 0x268F5302650>, <PIL.Image.Image image mode=RGB size=512x512 at 0x268F5302F20>, <PIL.Image.Image image mode=RGB size=512x512 at 0x268F5302F80>, <PIL.Image.Image image mode=RGB size=512x512 at 0x268F5302EC0>]\n",
            "negative image\n"
          ]
        },
        {
          "data": {
            "application/vnd.jupyter.widget-view+json": {
              "model_id": "53cd18eaa0ee49dc8cdfd30326ab02ce",
              "version_major": 2,
              "version_minor": 0
            },
            "text/plain": [
              "  0%|          | 0/25 [00:00<?, ?it/s]"
            ]
          },
          "metadata": {},
          "output_type": "display_data"
        },
        {
          "name": "stdout",
          "output_type": "stream",
          "text": [
            "[<PIL.Image.Image image mode=RGB size=512x512 at 0x268F5300850>, <PIL.Image.Image image mode=RGB size=512x512 at 0x268F53001C0>, <PIL.Image.Image image mode=RGB size=512x512 at 0x268F5300580>, <PIL.Image.Image image mode=RGB size=512x512 at 0x268F5300610>]\n",
            "negative image\n"
          ]
        },
        {
          "data": {
            "application/vnd.jupyter.widget-view+json": {
              "model_id": "4b2004b8b07e4f0faf52b19531b9fa3c",
              "version_major": 2,
              "version_minor": 0
            },
            "text/plain": [
              "  0%|          | 0/25 [00:00<?, ?it/s]"
            ]
          },
          "metadata": {},
          "output_type": "display_data"
        },
        {
          "name": "stdout",
          "output_type": "stream",
          "text": [
            "[<PIL.Image.Image image mode=RGB size=512x512 at 0x268F5566230>, <PIL.Image.Image image mode=RGB size=512x512 at 0x268F5566B60>, <PIL.Image.Image image mode=RGB size=512x512 at 0x268F55662F0>, <PIL.Image.Image image mode=RGB size=512x512 at 0x268F55671F0>]\n",
            "negative image\n"
          ]
        },
        {
          "data": {
            "application/vnd.jupyter.widget-view+json": {
              "model_id": "cc7a832fbc3a4da8b200ddcc3eaa3090",
              "version_major": 2,
              "version_minor": 0
            },
            "text/plain": [
              "  0%|          | 0/25 [00:00<?, ?it/s]"
            ]
          },
          "metadata": {},
          "output_type": "display_data"
        },
        {
          "name": "stdout",
          "output_type": "stream",
          "text": [
            "[<PIL.Image.Image image mode=RGB size=512x512 at 0x268F52C3E50>, <PIL.Image.Image image mode=RGB size=512x512 at 0x268F52C1840>, <PIL.Image.Image image mode=RGB size=512x512 at 0x268F52C2620>, <PIL.Image.Image image mode=RGB size=512x512 at 0x268F52C2E60>]\n",
            "negative image\n"
          ]
        },
        {
          "data": {
            "application/vnd.jupyter.widget-view+json": {
              "model_id": "bd35ac4de6034530b3af2cb4ef12888b",
              "version_major": 2,
              "version_minor": 0
            },
            "text/plain": [
              "  0%|          | 0/25 [00:00<?, ?it/s]"
            ]
          },
          "metadata": {},
          "output_type": "display_data"
        },
        {
          "name": "stdout",
          "output_type": "stream",
          "text": [
            "[<PIL.Image.Image image mode=RGB size=512x512 at 0x268F53B7070>, <PIL.Image.Image image mode=RGB size=512x512 at 0x268F53B4640>, <PIL.Image.Image image mode=RGB size=512x512 at 0x268F53B6FE0>, <PIL.Image.Image image mode=RGB size=512x512 at 0x268F53B4EE0>]\n",
            "negative image\n"
          ]
        },
        {
          "data": {
            "application/vnd.jupyter.widget-view+json": {
              "model_id": "8e39942a38464c12b43f0023d79a81e0",
              "version_major": 2,
              "version_minor": 0
            },
            "text/plain": [
              "  0%|          | 0/25 [00:00<?, ?it/s]"
            ]
          },
          "metadata": {},
          "output_type": "display_data"
        },
        {
          "name": "stdout",
          "output_type": "stream",
          "text": [
            "[<PIL.Image.Image image mode=RGB size=512x512 at 0x268F542A770>, <PIL.Image.Image image mode=RGB size=512x512 at 0x268F5428040>, <PIL.Image.Image image mode=RGB size=512x512 at 0x268F542A590>, <PIL.Image.Image image mode=RGB size=512x512 at 0x268F542A7A0>]\n",
            "negative image\n"
          ]
        },
        {
          "data": {
            "application/vnd.jupyter.widget-view+json": {
              "model_id": "af6e188e05074e2c87170663db29fe38",
              "version_major": 2,
              "version_minor": 0
            },
            "text/plain": [
              "  0%|          | 0/25 [00:00<?, ?it/s]"
            ]
          },
          "metadata": {},
          "output_type": "display_data"
        },
        {
          "name": "stdout",
          "output_type": "stream",
          "text": [
            "[<PIL.Image.Image image mode=RGB size=512x512 at 0x268F53E2020>, <PIL.Image.Image image mode=RGB size=512x512 at 0x268F53E1E40>, <PIL.Image.Image image mode=RGB size=512x512 at 0x268F53E1990>, <PIL.Image.Image image mode=RGB size=512x512 at 0x268F53E1750>]\n",
            "negative image\n"
          ]
        },
        {
          "data": {
            "application/vnd.jupyter.widget-view+json": {
              "model_id": "fa1c3558f25d4966905e04de37b497a5",
              "version_major": 2,
              "version_minor": 0
            },
            "text/plain": [
              "  0%|          | 0/25 [00:00<?, ?it/s]"
            ]
          },
          "metadata": {},
          "output_type": "display_data"
        },
        {
          "name": "stdout",
          "output_type": "stream",
          "text": [
            "[<PIL.Image.Image image mode=RGB size=512x512 at 0x268F53A6830>, <PIL.Image.Image image mode=RGB size=512x512 at 0x268F53A6170>, <PIL.Image.Image image mode=RGB size=512x512 at 0x268F53A61D0>, <PIL.Image.Image image mode=RGB size=512x512 at 0x268F53A4580>]\n",
            "negative image\n"
          ]
        },
        {
          "data": {
            "application/vnd.jupyter.widget-view+json": {
              "model_id": "897ecde44fa343d594f1c5c96449c192",
              "version_major": 2,
              "version_minor": 0
            },
            "text/plain": [
              "  0%|          | 0/25 [00:00<?, ?it/s]"
            ]
          },
          "metadata": {},
          "output_type": "display_data"
        },
        {
          "name": "stdout",
          "output_type": "stream",
          "text": [
            "[<PIL.Image.Image image mode=RGB size=512x512 at 0x268F531F5B0>, <PIL.Image.Image image mode=RGB size=512x512 at 0x268F531FD90>, <PIL.Image.Image image mode=RGB size=512x512 at 0x268F531E0B0>, <PIL.Image.Image image mode=RGB size=512x512 at 0x268F531EEC0>]\n",
            "negative image\n"
          ]
        },
        {
          "data": {
            "application/vnd.jupyter.widget-view+json": {
              "model_id": "5130cb1ec25449b38466882ee452d3fe",
              "version_major": 2,
              "version_minor": 0
            },
            "text/plain": [
              "  0%|          | 0/25 [00:00<?, ?it/s]"
            ]
          },
          "metadata": {},
          "output_type": "display_data"
        },
        {
          "name": "stdout",
          "output_type": "stream",
          "text": [
            "[<PIL.Image.Image image mode=RGB size=512x512 at 0x268F55AF4C0>, <PIL.Image.Image image mode=RGB size=512x512 at 0x268F55ADEA0>, <PIL.Image.Image image mode=RGB size=512x512 at 0x268F55AC1F0>, <PIL.Image.Image image mode=RGB size=512x512 at 0x268F55AF760>]\n",
            "negative image\n"
          ]
        },
        {
          "data": {
            "application/vnd.jupyter.widget-view+json": {
              "model_id": "13be7e8e07cc4c4a9f746d2f777689a7",
              "version_major": 2,
              "version_minor": 0
            },
            "text/plain": [
              "  0%|          | 0/25 [00:00<?, ?it/s]"
            ]
          },
          "metadata": {},
          "output_type": "display_data"
        },
        {
          "name": "stdout",
          "output_type": "stream",
          "text": [
            "[<PIL.Image.Image image mode=RGB size=512x512 at 0x268F53014B0>, <PIL.Image.Image image mode=RGB size=512x512 at 0x268F53013C0>, <PIL.Image.Image image mode=RGB size=512x512 at 0x268F5300340>, <PIL.Image.Image image mode=RGB size=512x512 at 0x268F5300B20>]\n",
            "negative image\n"
          ]
        },
        {
          "data": {
            "application/vnd.jupyter.widget-view+json": {
              "model_id": "9b441232680f42b8b814dd05970ed668",
              "version_major": 2,
              "version_minor": 0
            },
            "text/plain": [
              "  0%|          | 0/25 [00:00<?, ?it/s]"
            ]
          },
          "metadata": {},
          "output_type": "display_data"
        },
        {
          "name": "stdout",
          "output_type": "stream",
          "text": [
            "[<PIL.Image.Image image mode=RGB size=512x512 at 0x268F5301660>, <PIL.Image.Image image mode=RGB size=512x512 at 0x268F5300D60>, <PIL.Image.Image image mode=RGB size=512x512 at 0x268F5300EB0>, <PIL.Image.Image image mode=RGB size=512x512 at 0x268F5301000>]\n",
            "negative image\n"
          ]
        },
        {
          "data": {
            "application/vnd.jupyter.widget-view+json": {
              "model_id": "5fc967f4b3df449e8c19ca1edba5ff5f",
              "version_major": 2,
              "version_minor": 0
            },
            "text/plain": [
              "  0%|          | 0/25 [00:00<?, ?it/s]"
            ]
          },
          "metadata": {},
          "output_type": "display_data"
        },
        {
          "name": "stdout",
          "output_type": "stream",
          "text": [
            "[<PIL.Image.Image image mode=RGB size=512x512 at 0x268F5340F40>, <PIL.Image.Image image mode=RGB size=512x512 at 0x268F5341270>, <PIL.Image.Image image mode=RGB size=512x512 at 0x268F5341090>, <PIL.Image.Image image mode=RGB size=512x512 at 0x268F5342710>]\n",
            "negative image\n"
          ]
        },
        {
          "data": {
            "application/vnd.jupyter.widget-view+json": {
              "model_id": "3bce5ddc269344628bdabb175d70ca64",
              "version_major": 2,
              "version_minor": 0
            },
            "text/plain": [
              "  0%|          | 0/25 [00:00<?, ?it/s]"
            ]
          },
          "metadata": {},
          "output_type": "display_data"
        },
        {
          "name": "stdout",
          "output_type": "stream",
          "text": [
            "[<PIL.Image.Image image mode=RGB size=512x512 at 0x268F53FC9D0>, <PIL.Image.Image image mode=RGB size=512x512 at 0x268F53FEFE0>, <PIL.Image.Image image mode=RGB size=512x512 at 0x268F53FC7C0>, <PIL.Image.Image image mode=RGB size=512x512 at 0x268F53FD360>]\n",
            "negative image\n"
          ]
        },
        {
          "data": {
            "application/vnd.jupyter.widget-view+json": {
              "model_id": "9d596355491d4d8dbc4a38f424ad9c2a",
              "version_major": 2,
              "version_minor": 0
            },
            "text/plain": [
              "  0%|          | 0/25 [00:00<?, ?it/s]"
            ]
          },
          "metadata": {},
          "output_type": "display_data"
        },
        {
          "name": "stdout",
          "output_type": "stream",
          "text": [
            "[<PIL.Image.Image image mode=RGB size=512x512 at 0x268F55A6A40>, <PIL.Image.Image image mode=RGB size=512x512 at 0x268F55A6E90>, <PIL.Image.Image image mode=RGB size=512x512 at 0x268F55A4250>, <PIL.Image.Image image mode=RGB size=512x512 at 0x268F55A6E60>]\n",
            "negative image\n"
          ]
        },
        {
          "data": {
            "application/vnd.jupyter.widget-view+json": {
              "model_id": "fa11f620af084c139f6f74a7e373650a",
              "version_major": 2,
              "version_minor": 0
            },
            "text/plain": [
              "  0%|          | 0/25 [00:00<?, ?it/s]"
            ]
          },
          "metadata": {},
          "output_type": "display_data"
        },
        {
          "name": "stdout",
          "output_type": "stream",
          "text": [
            "[<PIL.Image.Image image mode=RGB size=512x512 at 0x268F55647F0>, <PIL.Image.Image image mode=RGB size=512x512 at 0x268F5564C10>, <PIL.Image.Image image mode=RGB size=512x512 at 0x268F55640D0>, <PIL.Image.Image image mode=RGB size=512x512 at 0x268F5566BC0>]\n",
            "negative image\n"
          ]
        },
        {
          "data": {
            "application/vnd.jupyter.widget-view+json": {
              "model_id": "d3d9bf4ae9eb4b249e129577234d51ed",
              "version_major": 2,
              "version_minor": 0
            },
            "text/plain": [
              "  0%|          | 0/25 [00:00<?, ?it/s]"
            ]
          },
          "metadata": {},
          "output_type": "display_data"
        },
        {
          "name": "stdout",
          "output_type": "stream",
          "text": [
            "[<PIL.Image.Image image mode=RGB size=512x512 at 0x268F55B9F00>, <PIL.Image.Image image mode=RGB size=512x512 at 0x268F55BBD00>, <PIL.Image.Image image mode=RGB size=512x512 at 0x268F55B9C30>, <PIL.Image.Image image mode=RGB size=512x512 at 0x268F55BA200>]\n",
            "negative image\n"
          ]
        },
        {
          "data": {
            "application/vnd.jupyter.widget-view+json": {
              "model_id": "5a59f145996b4727a1f633a7158e4a13",
              "version_major": 2,
              "version_minor": 0
            },
            "text/plain": [
              "  0%|          | 0/25 [00:00<?, ?it/s]"
            ]
          },
          "metadata": {},
          "output_type": "display_data"
        },
        {
          "name": "stdout",
          "output_type": "stream",
          "text": [
            "[<PIL.Image.Image image mode=RGB size=512x512 at 0x268F554BDF0>, <PIL.Image.Image image mode=RGB size=512x512 at 0x268F554B0A0>, <PIL.Image.Image image mode=RGB size=512x512 at 0x268F554A890>, <PIL.Image.Image image mode=RGB size=512x512 at 0x268F554BBB0>]\n",
            "negative image\n"
          ]
        },
        {
          "data": {
            "application/vnd.jupyter.widget-view+json": {
              "model_id": "96d7108184fa402eb599ddc9917554a3",
              "version_major": 2,
              "version_minor": 0
            },
            "text/plain": [
              "  0%|          | 0/25 [00:00<?, ?it/s]"
            ]
          },
          "metadata": {},
          "output_type": "display_data"
        },
        {
          "name": "stdout",
          "output_type": "stream",
          "text": [
            "[<PIL.Image.Image image mode=RGB size=512x512 at 0x268F541E500>, <PIL.Image.Image image mode=RGB size=512x512 at 0x268F541F2E0>, <PIL.Image.Image image mode=RGB size=512x512 at 0x268F541C6D0>, <PIL.Image.Image image mode=RGB size=512x512 at 0x268F541E890>]\n",
            "negative image\n"
          ]
        },
        {
          "data": {
            "application/vnd.jupyter.widget-view+json": {
              "model_id": "d0e28cf4a4854a3f9c0f28e0093aace1",
              "version_major": 2,
              "version_minor": 0
            },
            "text/plain": [
              "  0%|          | 0/25 [00:00<?, ?it/s]"
            ]
          },
          "metadata": {},
          "output_type": "display_data"
        },
        {
          "name": "stdout",
          "output_type": "stream",
          "text": [
            "[<PIL.Image.Image image mode=RGB size=512x512 at 0x268F5301660>, <PIL.Image.Image image mode=RGB size=512x512 at 0x268F5302A70>, <PIL.Image.Image image mode=RGB size=512x512 at 0x268F5303D90>, <PIL.Image.Image image mode=RGB size=512x512 at 0x268F5302680>]\n",
            "negative image\n"
          ]
        },
        {
          "data": {
            "application/vnd.jupyter.widget-view+json": {
              "model_id": "e118c02302bb486092b9ac8192f9b173",
              "version_major": 2,
              "version_minor": 0
            },
            "text/plain": [
              "  0%|          | 0/25 [00:00<?, ?it/s]"
            ]
          },
          "metadata": {},
          "output_type": "display_data"
        },
        {
          "name": "stdout",
          "output_type": "stream",
          "text": [
            "[<PIL.Image.Image image mode=RGB size=512x512 at 0x268F5301810>, <PIL.Image.Image image mode=RGB size=512x512 at 0x268F5300C70>, <PIL.Image.Image image mode=RGB size=512x512 at 0x268F5300610>, <PIL.Image.Image image mode=RGB size=512x512 at 0x268F53039D0>]\n",
            "positive image\n"
          ]
        },
        {
          "data": {
            "application/vnd.jupyter.widget-view+json": {
              "model_id": "cbeac58c3ea04d71a14e2d35a7329011",
              "version_major": 2,
              "version_minor": 0
            },
            "text/plain": [
              "  0%|          | 0/25 [00:00<?, ?it/s]"
            ]
          },
          "metadata": {},
          "output_type": "display_data"
        },
        {
          "name": "stdout",
          "output_type": "stream",
          "text": [
            "[<PIL.Image.Image image mode=RGB size=512x512 at 0x268F5340040>]\n",
            "positive image\n"
          ]
        },
        {
          "data": {
            "application/vnd.jupyter.widget-view+json": {
              "model_id": "93baea1f0046466eaa92241e9b7c5285",
              "version_major": 2,
              "version_minor": 0
            },
            "text/plain": [
              "  0%|          | 0/25 [00:00<?, ?it/s]"
            ]
          },
          "metadata": {},
          "output_type": "display_data"
        },
        {
          "name": "stdout",
          "output_type": "stream",
          "text": [
            "[<PIL.Image.Image image mode=RGB size=512x512 at 0x268F52AE6B0>, <PIL.Image.Image image mode=RGB size=512x512 at 0x268F52AD0C0>, <PIL.Image.Image image mode=RGB size=512x512 at 0x268F52AFF70>, <PIL.Image.Image image mode=RGB size=512x512 at 0x268F52AF070>]\n",
            "negative image\n"
          ]
        },
        {
          "data": {
            "application/vnd.jupyter.widget-view+json": {
              "model_id": "389b8e5e2a8b439197f9cbe1f12b03ba",
              "version_major": 2,
              "version_minor": 0
            },
            "text/plain": [
              "  0%|          | 0/25 [00:00<?, ?it/s]"
            ]
          },
          "metadata": {},
          "output_type": "display_data"
        },
        {
          "name": "stdout",
          "output_type": "stream",
          "text": [
            "[<PIL.Image.Image image mode=RGB size=512x512 at 0x268F52AD8A0>, <PIL.Image.Image image mode=RGB size=512x512 at 0x268F52AFFA0>, <PIL.Image.Image image mode=RGB size=512x512 at 0x268F52ADC00>, <PIL.Image.Image image mode=RGB size=512x512 at 0x268F52AE590>]\n",
            "negative image\n"
          ]
        },
        {
          "data": {
            "application/vnd.jupyter.widget-view+json": {
              "model_id": "e1f784c0af90472baa92a7b6fa18555b",
              "version_major": 2,
              "version_minor": 0
            },
            "text/plain": [
              "  0%|          | 0/25 [00:00<?, ?it/s]"
            ]
          },
          "metadata": {},
          "output_type": "display_data"
        },
        {
          "name": "stdout",
          "output_type": "stream",
          "text": [
            "[<PIL.Image.Image image mode=RGB size=512x512 at 0x268F52AFBE0>, <PIL.Image.Image image mode=RGB size=512x512 at 0x268F52AC610>, <PIL.Image.Image image mode=RGB size=512x512 at 0x268F52AFCA0>, <PIL.Image.Image image mode=RGB size=512x512 at 0x268F52AEE00>]\n",
            "positive image\n"
          ]
        },
        {
          "data": {
            "application/vnd.jupyter.widget-view+json": {
              "model_id": "d7b4d67538034b9fa1f6119ab7e7f2a2",
              "version_major": 2,
              "version_minor": 0
            },
            "text/plain": [
              "  0%|          | 0/25 [00:00<?, ?it/s]"
            ]
          },
          "metadata": {},
          "output_type": "display_data"
        },
        {
          "name": "stdout",
          "output_type": "stream",
          "text": [
            "[<PIL.Image.Image image mode=RGB size=512x512 at 0x268F53E1960>]\n",
            "positive image\n"
          ]
        },
        {
          "data": {
            "application/vnd.jupyter.widget-view+json": {
              "model_id": "9497eaa8aed6468a9c433d8368c7bb86",
              "version_major": 2,
              "version_minor": 0
            },
            "text/plain": [
              "  0%|          | 0/25 [00:00<?, ?it/s]"
            ]
          },
          "metadata": {},
          "output_type": "display_data"
        },
        {
          "name": "stdout",
          "output_type": "stream",
          "text": [
            "[<PIL.Image.Image image mode=RGB size=512x512 at 0x268F5303BE0>, <PIL.Image.Image image mode=RGB size=512x512 at 0x268F5303AC0>, <PIL.Image.Image image mode=RGB size=512x512 at 0x268F5301090>, <PIL.Image.Image image mode=RGB size=512x512 at 0x268F53001C0>]\n",
            "negative image\n"
          ]
        },
        {
          "data": {
            "application/vnd.jupyter.widget-view+json": {
              "model_id": "9608a5d71bf04545973993a23ee91c20",
              "version_major": 2,
              "version_minor": 0
            },
            "text/plain": [
              "  0%|          | 0/25 [00:00<?, ?it/s]"
            ]
          },
          "metadata": {},
          "output_type": "display_data"
        },
        {
          "name": "stdout",
          "output_type": "stream",
          "text": [
            "[<PIL.Image.Image image mode=RGB size=512x512 at 0x268F5340FD0>, <PIL.Image.Image image mode=RGB size=512x512 at 0x268F5342770>, <PIL.Image.Image image mode=RGB size=512x512 at 0x268F5342CE0>, <PIL.Image.Image image mode=RGB size=512x512 at 0x268F541C250>]\n",
            "negative image\n"
          ]
        },
        {
          "data": {
            "application/vnd.jupyter.widget-view+json": {
              "model_id": "c9908dc4d2e141bea227338c8760204c",
              "version_major": 2,
              "version_minor": 0
            },
            "text/plain": [
              "  0%|          | 0/25 [00:00<?, ?it/s]"
            ]
          },
          "metadata": {},
          "output_type": "display_data"
        },
        {
          "name": "stdout",
          "output_type": "stream",
          "text": [
            "[<PIL.Image.Image image mode=RGB size=512x512 at 0x268F541E9E0>, <PIL.Image.Image image mode=RGB size=512x512 at 0x268F541D2D0>, <PIL.Image.Image image mode=RGB size=512x512 at 0x268F541EEC0>, <PIL.Image.Image image mode=RGB size=512x512 at 0x268F541DFF0>]\n"
          ]
        },
        {
          "name": "stderr",
          "output_type": "stream",
          "text": [
            "ERROR:    Exception in ASGI application\n",
            "Traceback (most recent call last):\n",
            "  File \"c:\\Users\\users_uyemc1z\\git\\ip-adapters\\venv\\lib\\site-packages\\uvicorn\\protocols\\http\\h11_impl.py\", line 408, in run_asgi\n",
            "    result = await app(  # type: ignore[func-returns-value]\n",
            "  File \"c:\\Users\\users_uyemc1z\\git\\ip-adapters\\venv\\lib\\site-packages\\uvicorn\\middleware\\proxy_headers.py\", line 84, in __call__\n",
            "    return await self.app(scope, receive, send)\n",
            "  File \"c:\\Users\\users_uyemc1z\\git\\ip-adapters\\venv\\lib\\site-packages\\fastapi\\applications.py\", line 1054, in __call__\n",
            "    await super().__call__(scope, receive, send)\n",
            "  File \"c:\\Users\\users_uyemc1z\\git\\ip-adapters\\venv\\lib\\site-packages\\starlette\\applications.py\", line 123, in __call__\n",
            "    await self.middleware_stack(scope, receive, send)\n",
            "  File \"c:\\Users\\users_uyemc1z\\git\\ip-adapters\\venv\\lib\\site-packages\\starlette\\middleware\\errors.py\", line 186, in __call__\n",
            "    raise exc\n",
            "  File \"c:\\Users\\users_uyemc1z\\git\\ip-adapters\\venv\\lib\\site-packages\\starlette\\middleware\\errors.py\", line 164, in __call__\n",
            "    await self.app(scope, receive, _send)\n",
            "  File \"c:\\Users\\users_uyemc1z\\git\\ip-adapters\\venv\\lib\\site-packages\\starlette\\middleware\\cors.py\", line 83, in __call__\n",
            "    await self.app(scope, receive, send)\n",
            "  File \"c:\\Users\\users_uyemc1z\\git\\ip-adapters\\venv\\lib\\site-packages\\starlette\\middleware\\exceptions.py\", line 62, in __call__\n",
            "    await wrap_app_handling_exceptions(self.app, conn)(scope, receive, send)\n",
            "  File \"c:\\Users\\users_uyemc1z\\git\\ip-adapters\\venv\\lib\\site-packages\\starlette\\_exception_handler.py\", line 64, in wrapped_app\n",
            "    raise exc\n",
            "  File \"c:\\Users\\users_uyemc1z\\git\\ip-adapters\\venv\\lib\\site-packages\\starlette\\_exception_handler.py\", line 53, in wrapped_app\n",
            "    await app(scope, receive, sender)\n",
            "  File \"c:\\Users\\users_uyemc1z\\git\\ip-adapters\\venv\\lib\\site-packages\\starlette\\routing.py\", line 762, in __call__\n",
            "    await self.middleware_stack(scope, receive, send)\n",
            "  File \"c:\\Users\\users_uyemc1z\\git\\ip-adapters\\venv\\lib\\site-packages\\starlette\\routing.py\", line 782, in app\n",
            "    await route.handle(scope, receive, send)\n",
            "  File \"c:\\Users\\users_uyemc1z\\git\\ip-adapters\\venv\\lib\\site-packages\\starlette\\routing.py\", line 297, in handle\n",
            "    await self.app(scope, receive, send)\n",
            "  File \"c:\\Users\\users_uyemc1z\\git\\ip-adapters\\venv\\lib\\site-packages\\starlette\\routing.py\", line 77, in app\n",
            "    await wrap_app_handling_exceptions(app, request)(scope, receive, send)\n",
            "  File \"c:\\Users\\users_uyemc1z\\git\\ip-adapters\\venv\\lib\\site-packages\\starlette\\_exception_handler.py\", line 64, in wrapped_app\n",
            "    raise exc\n",
            "  File \"c:\\Users\\users_uyemc1z\\git\\ip-adapters\\venv\\lib\\site-packages\\starlette\\_exception_handler.py\", line 53, in wrapped_app\n",
            "    await app(scope, receive, sender)\n",
            "  File \"c:\\Users\\users_uyemc1z\\git\\ip-adapters\\venv\\lib\\site-packages\\starlette\\routing.py\", line 75, in app\n",
            "    await response(scope, receive, send)\n",
            "  File \"c:\\Users\\users_uyemc1z\\git\\ip-adapters\\venv\\lib\\site-packages\\starlette\\responses.py\", line 346, in __call__\n",
            "    await send(\n",
            "  File \"c:\\Users\\users_uyemc1z\\git\\ip-adapters\\venv\\lib\\site-packages\\starlette\\_exception_handler.py\", line 50, in sender\n",
            "    await send(message)\n",
            "  File \"c:\\Users\\users_uyemc1z\\git\\ip-adapters\\venv\\lib\\site-packages\\starlette\\_exception_handler.py\", line 50, in sender\n",
            "    await send(message)\n",
            "  File \"c:\\Users\\users_uyemc1z\\git\\ip-adapters\\venv\\lib\\site-packages\\starlette\\middleware\\errors.py\", line 161, in _send\n",
            "    await send(message)\n",
            "  File \"c:\\Users\\users_uyemc1z\\git\\ip-adapters\\venv\\lib\\site-packages\\uvicorn\\protocols\\http\\h11_impl.py\", line 512, in send\n",
            "    output = self.conn.send(event=h11.EndOfMessage())\n",
            "  File \"c:\\Users\\users_uyemc1z\\git\\ip-adapters\\venv\\lib\\site-packages\\h11\\_connection.py\", line 512, in send\n",
            "    data_list = self.send_with_data_passthrough(event)\n",
            "  File \"c:\\Users\\users_uyemc1z\\git\\ip-adapters\\venv\\lib\\site-packages\\h11\\_connection.py\", line 545, in send_with_data_passthrough\n",
            "    writer(event, data_list.append)\n",
            "  File \"c:\\Users\\users_uyemc1z\\git\\ip-adapters\\venv\\lib\\site-packages\\h11\\_writers.py\", line 67, in __call__\n",
            "    self.send_eom(event.headers, write)\n",
            "  File \"c:\\Users\\users_uyemc1z\\git\\ip-adapters\\venv\\lib\\site-packages\\h11\\_writers.py\", line 96, in send_eom\n",
            "    raise LocalProtocolError(\"Too little data for declared Content-Length\")\n",
            "h11._util.LocalProtocolError: Too little data for declared Content-Length\n"
          ]
        },
        {
          "name": "stdout",
          "output_type": "stream",
          "text": [
            "negative image\n"
          ]
        },
        {
          "data": {
            "application/vnd.jupyter.widget-view+json": {
              "model_id": "d0e98dd7f685432999fefa7224dd81a5",
              "version_major": 2,
              "version_minor": 0
            },
            "text/plain": [
              "  0%|          | 0/25 [00:00<?, ?it/s]"
            ]
          },
          "metadata": {},
          "output_type": "display_data"
        },
        {
          "name": "stdout",
          "output_type": "stream",
          "text": [
            "[<PIL.Image.Image image mode=RGB size=512x512 at 0x268F5429B40>, <PIL.Image.Image image mode=RGB size=512x512 at 0x268F5428580>, <PIL.Image.Image image mode=RGB size=512x512 at 0x268F542B940>, <PIL.Image.Image image mode=RGB size=512x512 at 0x268F54285B0>]\n",
            "negative image\n"
          ]
        },
        {
          "data": {
            "application/vnd.jupyter.widget-view+json": {
              "model_id": "4f6b31f9c6b9467aa8eb0b1be2d33d6f",
              "version_major": 2,
              "version_minor": 0
            },
            "text/plain": [
              "  0%|          | 0/25 [00:00<?, ?it/s]"
            ]
          },
          "metadata": {},
          "output_type": "display_data"
        },
        {
          "name": "stdout",
          "output_type": "stream",
          "text": [
            "[<PIL.Image.Image image mode=RGB size=512x512 at 0x268F531F550>, <PIL.Image.Image image mode=RGB size=512x512 at 0x268F531DA20>, <PIL.Image.Image image mode=RGB size=512x512 at 0x268F531CF10>, <PIL.Image.Image image mode=RGB size=512x512 at 0x268F531CBE0>]\n",
            "negative image\n"
          ]
        },
        {
          "data": {
            "application/vnd.jupyter.widget-view+json": {
              "model_id": "14ffde7c2a334ac8b594840e743c41a2",
              "version_major": 2,
              "version_minor": 0
            },
            "text/plain": [
              "  0%|          | 0/25 [00:00<?, ?it/s]"
            ]
          },
          "metadata": {},
          "output_type": "display_data"
        },
        {
          "name": "stdout",
          "output_type": "stream",
          "text": [
            "[<PIL.Image.Image image mode=RGB size=512x512 at 0x268F554B220>, <PIL.Image.Image image mode=RGB size=512x512 at 0x268F554B040>, <PIL.Image.Image image mode=RGB size=512x512 at 0x268F554BBE0>, <PIL.Image.Image image mode=RGB size=512x512 at 0x268F554BB50>]\n",
            "negative image\n"
          ]
        },
        {
          "data": {
            "application/vnd.jupyter.widget-view+json": {
              "model_id": "e4ef0e547813433b8cd5db249d6415e4",
              "version_major": 2,
              "version_minor": 0
            },
            "text/plain": [
              "  0%|          | 0/25 [00:00<?, ?it/s]"
            ]
          },
          "metadata": {},
          "output_type": "display_data"
        },
        {
          "name": "stdout",
          "output_type": "stream",
          "text": [
            "[<PIL.Image.Image image mode=RGB size=512x512 at 0x268F52ACB50>, <PIL.Image.Image image mode=RGB size=512x512 at 0x268F52AE9E0>, <PIL.Image.Image image mode=RGB size=512x512 at 0x268F52AFA90>, <PIL.Image.Image image mode=RGB size=512x512 at 0x268F52AC070>]\n",
            "positive image\n"
          ]
        },
        {
          "data": {
            "application/vnd.jupyter.widget-view+json": {
              "model_id": "32a027aa049e4e5ea275afeedd25fa52",
              "version_major": 2,
              "version_minor": 0
            },
            "text/plain": [
              "  0%|          | 0/25 [00:00<?, ?it/s]"
            ]
          },
          "metadata": {},
          "output_type": "display_data"
        },
        {
          "name": "stdout",
          "output_type": "stream",
          "text": [
            "[<PIL.Image.Image image mode=RGB size=512x512 at 0x268F52ACD00>, <PIL.Image.Image image mode=RGB size=512x512 at 0x268F52AD3F0>, <PIL.Image.Image image mode=RGB size=512x512 at 0x268F52AD690>, <PIL.Image.Image image mode=RGB size=512x512 at 0x268F52AD390>]\n",
            "negative image\n"
          ]
        },
        {
          "data": {
            "application/vnd.jupyter.widget-view+json": {
              "model_id": "2434a36ae1604b4ea5e5fe6e61307762",
              "version_major": 2,
              "version_minor": 0
            },
            "text/plain": [
              "  0%|          | 0/25 [00:00<?, ?it/s]"
            ]
          },
          "metadata": {},
          "output_type": "display_data"
        },
        {
          "name": "stdout",
          "output_type": "stream",
          "text": [
            "[<PIL.Image.Image image mode=RGB size=512x512 at 0x268F528AEC0>, <PIL.Image.Image image mode=RGB size=512x512 at 0x268F528A7A0>, <PIL.Image.Image image mode=RGB size=512x512 at 0x268F528BCA0>, <PIL.Image.Image image mode=RGB size=512x512 at 0x268F528BF10>]\n",
            "negative image\n"
          ]
        },
        {
          "data": {
            "application/vnd.jupyter.widget-view+json": {
              "model_id": "62d8432a58bb4c6e8f303d1d01e7163f",
              "version_major": 2,
              "version_minor": 0
            },
            "text/plain": [
              "  0%|          | 0/25 [00:00<?, ?it/s]"
            ]
          },
          "metadata": {},
          "output_type": "display_data"
        },
        {
          "name": "stdout",
          "output_type": "stream",
          "text": [
            "[<PIL.Image.Image image mode=RGB size=512x512 at 0x26998BF5060>, <PIL.Image.Image image mode=RGB size=512x512 at 0x26998BF5570>, <PIL.Image.Image image mode=RGB size=512x512 at 0x26998BF5510>, <PIL.Image.Image image mode=RGB size=512x512 at 0x26998BF69E0>]\n",
            "negative image\n"
          ]
        },
        {
          "data": {
            "application/vnd.jupyter.widget-view+json": {
              "model_id": "b4ddadce86184e9d9d2d6df0a8743e2c",
              "version_major": 2,
              "version_minor": 0
            },
            "text/plain": [
              "  0%|          | 0/25 [00:00<?, ?it/s]"
            ]
          },
          "metadata": {},
          "output_type": "display_data"
        },
        {
          "name": "stdout",
          "output_type": "stream",
          "text": [
            "[<PIL.Image.Image image mode=RGB size=512x512 at 0x26998BF73A0>, <PIL.Image.Image image mode=RGB size=512x512 at 0x26998BF7190>, <PIL.Image.Image image mode=RGB size=512x512 at 0x26998BF7CD0>, <PIL.Image.Image image mode=RGB size=512x512 at 0x26998BF75E0>]\n",
            "negative image\n"
          ]
        },
        {
          "data": {
            "application/vnd.jupyter.widget-view+json": {
              "model_id": "16a592590604456890bf8b3fabbfb8dc",
              "version_major": 2,
              "version_minor": 0
            },
            "text/plain": [
              "  0%|          | 0/25 [00:00<?, ?it/s]"
            ]
          },
          "metadata": {},
          "output_type": "display_data"
        },
        {
          "name": "stdout",
          "output_type": "stream",
          "text": [
            "[<PIL.Image.Image image mode=RGB size=512x512 at 0x268F55AC550>, <PIL.Image.Image image mode=RGB size=512x512 at 0x268F55ADBD0>, <PIL.Image.Image image mode=RGB size=512x512 at 0x268F55AD9C0>, <PIL.Image.Image image mode=RGB size=512x512 at 0x268F55AE4A0>]\n",
            "negative image\n"
          ]
        },
        {
          "data": {
            "application/vnd.jupyter.widget-view+json": {
              "model_id": "0d4bf8c815124dcead60c90ad4e9e04b",
              "version_major": 2,
              "version_minor": 0
            },
            "text/plain": [
              "  0%|          | 0/25 [00:00<?, ?it/s]"
            ]
          },
          "metadata": {},
          "output_type": "display_data"
        },
        {
          "name": "stdout",
          "output_type": "stream",
          "text": [
            "[<PIL.Image.Image image mode=RGB size=512x512 at 0x268F55AD9C0>, <PIL.Image.Image image mode=RGB size=512x512 at 0x268F53A60B0>, <PIL.Image.Image image mode=RGB size=512x512 at 0x268F53A6770>, <PIL.Image.Image image mode=RGB size=512x512 at 0x268F53A7A90>]\n",
            "negative image\n"
          ]
        },
        {
          "data": {
            "application/vnd.jupyter.widget-view+json": {
              "model_id": "bb138e167ba24fa0ba619215cb8dd805",
              "version_major": 2,
              "version_minor": 0
            },
            "text/plain": [
              "  0%|          | 0/25 [00:00<?, ?it/s]"
            ]
          },
          "metadata": {},
          "output_type": "display_data"
        },
        {
          "name": "stdout",
          "output_type": "stream",
          "text": [
            "[<PIL.Image.Image image mode=RGB size=512x512 at 0x268F5343220>, <PIL.Image.Image image mode=RGB size=512x512 at 0x268F5340FA0>, <PIL.Image.Image image mode=RGB size=512x512 at 0x268F5343B50>, <PIL.Image.Image image mode=RGB size=512x512 at 0x268F5340130>]\n",
            "positive image\n"
          ]
        },
        {
          "data": {
            "application/vnd.jupyter.widget-view+json": {
              "model_id": "0d64d771b65b4f28a98fa42f86c3d8a7",
              "version_major": 2,
              "version_minor": 0
            },
            "text/plain": [
              "  0%|          | 0/25 [00:00<?, ?it/s]"
            ]
          },
          "metadata": {},
          "output_type": "display_data"
        },
        {
          "name": "stdout",
          "output_type": "stream",
          "text": [
            "[<PIL.Image.Image image mode=RGB size=512x512 at 0x268F55039A0>, <PIL.Image.Image image mode=RGB size=512x512 at 0x268F5502530>, <PIL.Image.Image image mode=RGB size=512x512 at 0x268F5500EE0>, <PIL.Image.Image image mode=RGB size=512x512 at 0x268F5500040>]\n",
            "positive image\n"
          ]
        },
        {
          "data": {
            "application/vnd.jupyter.widget-view+json": {
              "model_id": "b68a225954b54984bfdbc52fe7090e9b",
              "version_major": 2,
              "version_minor": 0
            },
            "text/plain": [
              "  0%|          | 0/25 [00:00<?, ?it/s]"
            ]
          },
          "metadata": {},
          "output_type": "display_data"
        },
        {
          "name": "stdout",
          "output_type": "stream",
          "text": [
            "[<PIL.Image.Image image mode=RGB size=512x512 at 0x268F53FF490>, <PIL.Image.Image image mode=RGB size=512x512 at 0x268F53FE110>, <PIL.Image.Image image mode=RGB size=512x512 at 0x268F53FD3C0>, <PIL.Image.Image image mode=RGB size=512x512 at 0x268F53FCE20>]\n",
            "positive image\n"
          ]
        },
        {
          "data": {
            "application/vnd.jupyter.widget-view+json": {
              "model_id": "e49164d521014763909f64bd3c6c9981",
              "version_major": 2,
              "version_minor": 0
            },
            "text/plain": [
              "  0%|          | 0/25 [00:00<?, ?it/s]"
            ]
          },
          "metadata": {},
          "output_type": "display_data"
        },
        {
          "name": "stdout",
          "output_type": "stream",
          "text": [
            "[<PIL.Image.Image image mode=RGB size=512x512 at 0x268F55BBAF0>, <PIL.Image.Image image mode=RGB size=512x512 at 0x268F55B9EA0>, <PIL.Image.Image image mode=RGB size=512x512 at 0x268F55BB040>, <PIL.Image.Image image mode=RGB size=512x512 at 0x268F55BB490>]\n",
            "negative image\n"
          ]
        },
        {
          "data": {
            "application/vnd.jupyter.widget-view+json": {
              "model_id": "2e60e64f19b24fecbc04534a2f439766",
              "version_major": 2,
              "version_minor": 0
            },
            "text/plain": [
              "  0%|          | 0/25 [00:00<?, ?it/s]"
            ]
          },
          "metadata": {},
          "output_type": "display_data"
        },
        {
          "name": "stdout",
          "output_type": "stream",
          "text": [
            "[<PIL.Image.Image image mode=RGB size=512x512 at 0x268F531EFE0>, <PIL.Image.Image image mode=RGB size=512x512 at 0x268F531C2E0>, <PIL.Image.Image image mode=RGB size=512x512 at 0x268F531F4F0>, <PIL.Image.Image image mode=RGB size=512x512 at 0x268F531F130>]\n",
            "negative image\n"
          ]
        },
        {
          "data": {
            "application/vnd.jupyter.widget-view+json": {
              "model_id": "3fa16e728f0445c0b528391399a52645",
              "version_major": 2,
              "version_minor": 0
            },
            "text/plain": [
              "  0%|          | 0/25 [00:00<?, ?it/s]"
            ]
          },
          "metadata": {},
          "output_type": "display_data"
        },
        {
          "name": "stdout",
          "output_type": "stream",
          "text": [
            "[<PIL.Image.Image image mode=RGB size=512x512 at 0x26998BF69E0>, <PIL.Image.Image image mode=RGB size=512x512 at 0x26998BF5DB0>, <PIL.Image.Image image mode=RGB size=512x512 at 0x26998BF61A0>, <PIL.Image.Image image mode=RGB size=512x512 at 0x26998BF5750>]\n",
            "negative image\n"
          ]
        },
        {
          "data": {
            "application/vnd.jupyter.widget-view+json": {
              "model_id": "eb2aa418c273408cb0c6634cbd74a130",
              "version_major": 2,
              "version_minor": 0
            },
            "text/plain": [
              "  0%|          | 0/25 [00:00<?, ?it/s]"
            ]
          },
          "metadata": {},
          "output_type": "display_data"
        },
        {
          "name": "stdout",
          "output_type": "stream",
          "text": [
            "[<PIL.Image.Image image mode=RGB size=512x512 at 0x26998BF4850>, <PIL.Image.Image image mode=RGB size=512x512 at 0x26998BF7490>, <PIL.Image.Image image mode=RGB size=512x512 at 0x26998BF7A60>, <PIL.Image.Image image mode=RGB size=512x512 at 0x26998BF7A90>]\n",
            "negative image\n"
          ]
        },
        {
          "data": {
            "application/vnd.jupyter.widget-view+json": {
              "model_id": "8727136fc67e4aad93bda6a06afb4f9a",
              "version_major": 2,
              "version_minor": 0
            },
            "text/plain": [
              "  0%|          | 0/25 [00:00<?, ?it/s]"
            ]
          },
          "metadata": {},
          "output_type": "display_data"
        },
        {
          "name": "stdout",
          "output_type": "stream",
          "text": [
            "[<PIL.Image.Image image mode=RGB size=512x512 at 0x268F5302320>, <PIL.Image.Image image mode=RGB size=512x512 at 0x268F5300100>, <PIL.Image.Image image mode=RGB size=512x512 at 0x268F5302650>, <PIL.Image.Image image mode=RGB size=512x512 at 0x268F5300A60>]\n",
            "positive and negative image\n"
          ]
        },
        {
          "data": {
            "application/vnd.jupyter.widget-view+json": {
              "model_id": "a5f6edac0dbe4c5db563a1ad671c5246",
              "version_major": 2,
              "version_minor": 0
            },
            "text/plain": [
              "  0%|          | 0/25 [00:00<?, ?it/s]"
            ]
          },
          "metadata": {},
          "output_type": "display_data"
        },
        {
          "name": "stdout",
          "output_type": "stream",
          "text": [
            "[<PIL.Image.Image image mode=RGB size=512x512 at 0x26A1203E080>, <PIL.Image.Image image mode=RGB size=512x512 at 0x26A1203E530>, <PIL.Image.Image image mode=RGB size=512x512 at 0x26A1203F760>, <PIL.Image.Image image mode=RGB size=512x512 at 0x26A1203EA70>]\n",
            "positive and negative image\n"
          ]
        },
        {
          "data": {
            "application/vnd.jupyter.widget-view+json": {
              "model_id": "d1a0e8be1c76487b863a7ee07cb1808a",
              "version_major": 2,
              "version_minor": 0
            },
            "text/plain": [
              "  0%|          | 0/25 [00:00<?, ?it/s]"
            ]
          },
          "metadata": {},
          "output_type": "display_data"
        },
        {
          "name": "stdout",
          "output_type": "stream",
          "text": [
            "[<PIL.Image.Image image mode=RGB size=512x512 at 0x268F5343CA0>, <PIL.Image.Image image mode=RGB size=512x512 at 0x268F53439A0>, <PIL.Image.Image image mode=RGB size=512x512 at 0x268F5340FA0>, <PIL.Image.Image image mode=RGB size=512x512 at 0x268F5342F20>]\n",
            "positive and negative image\n"
          ]
        },
        {
          "data": {
            "application/vnd.jupyter.widget-view+json": {
              "model_id": "0989a62da74d4b11b3c1693ffb19bedd",
              "version_major": 2,
              "version_minor": 0
            },
            "text/plain": [
              "  0%|          | 0/25 [00:00<?, ?it/s]"
            ]
          },
          "metadata": {},
          "output_type": "display_data"
        },
        {
          "name": "stdout",
          "output_type": "stream",
          "text": [
            "[<PIL.Image.Image image mode=RGB size=512x512 at 0x268F55ADA80>, <PIL.Image.Image image mode=RGB size=512x512 at 0x268F55AD870>, <PIL.Image.Image image mode=RGB size=512x512 at 0x268F55AC490>, <PIL.Image.Image image mode=RGB size=512x512 at 0x268F55AE470>]\n",
            "positive and negative image\n"
          ]
        },
        {
          "data": {
            "application/vnd.jupyter.widget-view+json": {
              "model_id": "4b85aa8d4afc4905b2f91195cf2350a1",
              "version_major": 2,
              "version_minor": 0
            },
            "text/plain": [
              "  0%|          | 0/25 [00:00<?, ?it/s]"
            ]
          },
          "metadata": {},
          "output_type": "display_data"
        },
        {
          "name": "stdout",
          "output_type": "stream",
          "text": [
            "[<PIL.Image.Image image mode=RGB size=512x512 at 0x268F52AC850>, <PIL.Image.Image image mode=RGB size=512x512 at 0x268F52AEB60>, <PIL.Image.Image image mode=RGB size=512x512 at 0x268F52AFC40>, <PIL.Image.Image image mode=RGB size=512x512 at 0x268F52AE680>]\n",
            "positive and negative image\n"
          ]
        },
        {
          "data": {
            "application/vnd.jupyter.widget-view+json": {
              "model_id": "19f76ed2494b45a28164f2da1930dd66",
              "version_major": 2,
              "version_minor": 0
            },
            "text/plain": [
              "  0%|          | 0/25 [00:00<?, ?it/s]"
            ]
          },
          "metadata": {},
          "output_type": "display_data"
        },
        {
          "name": "stdout",
          "output_type": "stream",
          "text": [
            "[<PIL.Image.Image image mode=RGB size=512x512 at 0x268F5567880>, <PIL.Image.Image image mode=RGB size=512x512 at 0x268F55673A0>, <PIL.Image.Image image mode=RGB size=512x512 at 0x268F5566230>, <PIL.Image.Image image mode=RGB size=512x512 at 0x268F5565E70>]\n",
            "positive image\n"
          ]
        },
        {
          "data": {
            "application/vnd.jupyter.widget-view+json": {
              "model_id": "287fed8b68aa4e98b60d73f146fa05ee",
              "version_major": 2,
              "version_minor": 0
            },
            "text/plain": [
              "  0%|          | 0/25 [00:00<?, ?it/s]"
            ]
          },
          "metadata": {},
          "output_type": "display_data"
        },
        {
          "name": "stdout",
          "output_type": "stream",
          "text": [
            "[<PIL.Image.Image image mode=RGB size=512x512 at 0x268F55A5D80>, <PIL.Image.Image image mode=RGB size=512x512 at 0x268F55A4370>, <PIL.Image.Image image mode=RGB size=512x512 at 0x268F55A4D60>, <PIL.Image.Image image mode=RGB size=512x512 at 0x268F55A68C0>]\n",
            "positive and negative image\n"
          ]
        },
        {
          "data": {
            "application/vnd.jupyter.widget-view+json": {
              "model_id": "ae8486f8c356487f95e4d900822636b0",
              "version_major": 2,
              "version_minor": 0
            },
            "text/plain": [
              "  0%|          | 0/25 [00:00<?, ?it/s]"
            ]
          },
          "metadata": {},
          "output_type": "display_data"
        },
        {
          "name": "stdout",
          "output_type": "stream",
          "text": [
            "[<PIL.Image.Image image mode=RGB size=512x512 at 0x26998BF6B60>, <PIL.Image.Image image mode=RGB size=512x512 at 0x26998BF5450>, <PIL.Image.Image image mode=RGB size=512x512 at 0x26998BF6A40>, <PIL.Image.Image image mode=RGB size=512x512 at 0x26998BF6E00>]\n",
            "positive and negative image\n"
          ]
        },
        {
          "data": {
            "application/vnd.jupyter.widget-view+json": {
              "model_id": "ef93844b847c49589e5516fb05b2e27a",
              "version_major": 2,
              "version_minor": 0
            },
            "text/plain": [
              "  0%|          | 0/25 [00:00<?, ?it/s]"
            ]
          },
          "metadata": {},
          "output_type": "display_data"
        },
        {
          "name": "stdout",
          "output_type": "stream",
          "text": [
            "[<PIL.Image.Image image mode=RGB size=512x512 at 0x26998BF4D90>, <PIL.Image.Image image mode=RGB size=512x512 at 0x26998BF6050>, <PIL.Image.Image image mode=RGB size=512x512 at 0x26998BF4DF0>, <PIL.Image.Image image mode=RGB size=512x512 at 0x26998BF5780>]\n",
            "positive and negative image\n"
          ]
        },
        {
          "data": {
            "application/vnd.jupyter.widget-view+json": {
              "model_id": "e0f53e5b93ee49569021786b30d7fe1e",
              "version_major": 2,
              "version_minor": 0
            },
            "text/plain": [
              "  0%|          | 0/25 [00:00<?, ?it/s]"
            ]
          },
          "metadata": {},
          "output_type": "display_data"
        },
        {
          "name": "stdout",
          "output_type": "stream",
          "text": [
            "[<PIL.Image.Image image mode=RGB size=512x512 at 0x26A1203E6E0>, <PIL.Image.Image image mode=RGB size=512x512 at 0x26A1203CF40>, <PIL.Image.Image image mode=RGB size=512x512 at 0x26A1203EC80>, <PIL.Image.Image image mode=RGB size=512x512 at 0x26A1203F8E0>]\n",
            "positive and negative image\n"
          ]
        },
        {
          "data": {
            "application/vnd.jupyter.widget-view+json": {
              "model_id": "4aa2c0c115ca49f18676042462f3c921",
              "version_major": 2,
              "version_minor": 0
            },
            "text/plain": [
              "  0%|          | 0/25 [00:00<?, ?it/s]"
            ]
          },
          "metadata": {},
          "output_type": "display_data"
        },
        {
          "name": "stdout",
          "output_type": "stream",
          "text": [
            "[<PIL.Image.Image image mode=RGB size=512x512 at 0x26A398CD3F0>, <PIL.Image.Image image mode=RGB size=512x512 at 0x26A398CD120>, <PIL.Image.Image image mode=RGB size=512x512 at 0x26A398CD240>, <PIL.Image.Image image mode=RGB size=512x512 at 0x26A398CD540>]\n",
            "positive and negative image\n"
          ]
        },
        {
          "data": {
            "application/vnd.jupyter.widget-view+json": {
              "model_id": "3efec774f0064a8f9b66976341dc287f",
              "version_major": 2,
              "version_minor": 0
            },
            "text/plain": [
              "  0%|          | 0/25 [00:00<?, ?it/s]"
            ]
          },
          "metadata": {},
          "output_type": "display_data"
        },
        {
          "name": "stdout",
          "output_type": "stream",
          "text": [
            "[<PIL.Image.Image image mode=RGB size=512x512 at 0x26A398CD3F0>, <PIL.Image.Image image mode=RGB size=512x512 at 0x26A398CD120>, <PIL.Image.Image image mode=RGB size=512x512 at 0x26A398CDA80>, <PIL.Image.Image image mode=RGB size=512x512 at 0x26A398CDF00>]\n",
            "positive and negative image\n"
          ]
        },
        {
          "data": {
            "application/vnd.jupyter.widget-view+json": {
              "model_id": "d8928dac511c4a05bb16fbef3547d78d",
              "version_major": 2,
              "version_minor": 0
            },
            "text/plain": [
              "  0%|          | 0/25 [00:00<?, ?it/s]"
            ]
          },
          "metadata": {},
          "output_type": "display_data"
        },
        {
          "name": "stdout",
          "output_type": "stream",
          "text": [
            "[<PIL.Image.Image image mode=RGB size=512x512 at 0x26A398CEF50>, <PIL.Image.Image image mode=RGB size=512x512 at 0x26A398CC1C0>, <PIL.Image.Image image mode=RGB size=512x512 at 0x26A398CC3D0>, <PIL.Image.Image image mode=RGB size=512x512 at 0x26A398CC0D0>]\n",
            "positive image\n"
          ]
        },
        {
          "data": {
            "application/vnd.jupyter.widget-view+json": {
              "model_id": "4a4a97a514a549b5abd50fa68fb2588b",
              "version_major": 2,
              "version_minor": 0
            },
            "text/plain": [
              "  0%|          | 0/25 [00:00<?, ?it/s]"
            ]
          },
          "metadata": {},
          "output_type": "display_data"
        },
        {
          "name": "stdout",
          "output_type": "stream",
          "text": [
            "[<PIL.Image.Image image mode=RGB size=512x512 at 0x26A398CF4C0>, <PIL.Image.Image image mode=RGB size=512x512 at 0x26A398CF0D0>, <PIL.Image.Image image mode=RGB size=512x512 at 0x26A398CF490>, <PIL.Image.Image image mode=RGB size=512x512 at 0x26A398CF250>]\n",
            "positive and negative image\n"
          ]
        },
        {
          "data": {
            "application/vnd.jupyter.widget-view+json": {
              "model_id": "98960e5c23504137bdbae401367ae198",
              "version_major": 2,
              "version_minor": 0
            },
            "text/plain": [
              "  0%|          | 0/25 [00:00<?, ?it/s]"
            ]
          },
          "metadata": {},
          "output_type": "display_data"
        },
        {
          "name": "stdout",
          "output_type": "stream",
          "text": [
            "[<PIL.Image.Image image mode=RGB size=512x512 at 0x268F52C11E0>, <PIL.Image.Image image mode=RGB size=512x512 at 0x268F52C1390>, <PIL.Image.Image image mode=RGB size=512x512 at 0x268F52C08E0>, <PIL.Image.Image image mode=RGB size=512x512 at 0x268F52C0280>]\n",
            "positive and negative image\n"
          ]
        },
        {
          "data": {
            "application/vnd.jupyter.widget-view+json": {
              "model_id": "217998d5e68e4c09932df2e88a823e96",
              "version_major": 2,
              "version_minor": 0
            },
            "text/plain": [
              "  0%|          | 0/25 [00:00<?, ?it/s]"
            ]
          },
          "metadata": {},
          "output_type": "display_data"
        },
        {
          "name": "stdout",
          "output_type": "stream",
          "text": [
            "[<PIL.Image.Image image mode=RGB size=512x512 at 0x268F55BB7C0>, <PIL.Image.Image image mode=RGB size=512x512 at 0x268F55BB970>, <PIL.Image.Image image mode=RGB size=512x512 at 0x268F55BBA60>, <PIL.Image.Image image mode=RGB size=512x512 at 0x268F55B8F70>]\n",
            "positive and negative image\n"
          ]
        },
        {
          "data": {
            "application/vnd.jupyter.widget-view+json": {
              "model_id": "f8f7bb1cab0b48f184f713eec4440a4e",
              "version_major": 2,
              "version_minor": 0
            },
            "text/plain": [
              "  0%|          | 0/25 [00:00<?, ?it/s]"
            ]
          },
          "metadata": {},
          "output_type": "display_data"
        },
        {
          "name": "stdout",
          "output_type": "stream",
          "text": [
            "[<PIL.Image.Image image mode=RGB size=512x512 at 0x268F541CC10>, <PIL.Image.Image image mode=RGB size=512x512 at 0x268F541C8B0>, <PIL.Image.Image image mode=RGB size=512x512 at 0x268F541E320>, <PIL.Image.Image image mode=RGB size=512x512 at 0x268F541EAA0>]\n",
            "positive and negative image\n"
          ]
        },
        {
          "data": {
            "application/vnd.jupyter.widget-view+json": {
              "model_id": "4485e880fe504b1ab69b9ecaba663d80",
              "version_major": 2,
              "version_minor": 0
            },
            "text/plain": [
              "  0%|          | 0/25 [00:00<?, ?it/s]"
            ]
          },
          "metadata": {},
          "output_type": "display_data"
        },
        {
          "name": "stdout",
          "output_type": "stream",
          "text": [
            "[<PIL.Image.Image image mode=RGB size=512x512 at 0x268F53010F0>, <PIL.Image.Image image mode=RGB size=512x512 at 0x268F53024D0>, <PIL.Image.Image image mode=RGB size=512x512 at 0x268F5303970>, <PIL.Image.Image image mode=RGB size=512x512 at 0x268F53018A0>]\n",
            "positive and negative image\n"
          ]
        },
        {
          "data": {
            "application/vnd.jupyter.widget-view+json": {
              "model_id": "8eb71042bf0f4ef99376f1ee2deb1d94",
              "version_major": 2,
              "version_minor": 0
            },
            "text/plain": [
              "  0%|          | 0/25 [00:00<?, ?it/s]"
            ]
          },
          "metadata": {},
          "output_type": "display_data"
        },
        {
          "name": "stdout",
          "output_type": "stream",
          "text": [
            "[<PIL.Image.Image image mode=RGB size=512x512 at 0x26A1203CF40>, <PIL.Image.Image image mode=RGB size=512x512 at 0x26A1203D000>, <PIL.Image.Image image mode=RGB size=512x512 at 0x26A1203DDE0>, <PIL.Image.Image image mode=RGB size=512x512 at 0x26A1203D030>]\n",
            "positive and negative image\n"
          ]
        },
        {
          "data": {
            "application/vnd.jupyter.widget-view+json": {
              "model_id": "5526eb06f1fa41a68453ee8d3b2dd0e4",
              "version_major": 2,
              "version_minor": 0
            },
            "text/plain": [
              "  0%|          | 0/25 [00:00<?, ?it/s]"
            ]
          },
          "metadata": {},
          "output_type": "display_data"
        },
        {
          "name": "stdout",
          "output_type": "stream",
          "text": [
            "[<PIL.Image.Image image mode=RGB size=512x512 at 0x26A1203E4D0>, <PIL.Image.Image image mode=RGB size=512x512 at 0x26A1203DC00>, <PIL.Image.Image image mode=RGB size=512x512 at 0x26A1203DDB0>, <PIL.Image.Image image mode=RGB size=512x512 at 0x26A1203F2E0>]\n",
            "positive and negative image\n"
          ]
        },
        {
          "data": {
            "application/vnd.jupyter.widget-view+json": {
              "model_id": "204bb7a9154a4dfe9b4cc5fc218e2b65",
              "version_major": 2,
              "version_minor": 0
            },
            "text/plain": [
              "  0%|          | 0/25 [00:00<?, ?it/s]"
            ]
          },
          "metadata": {},
          "output_type": "display_data"
        },
        {
          "name": "stdout",
          "output_type": "stream",
          "text": [
            "[<PIL.Image.Image image mode=RGB size=512x512 at 0x26A398CDAE0>, <PIL.Image.Image image mode=RGB size=512x512 at 0x26A398CEC20>, <PIL.Image.Image image mode=RGB size=512x512 at 0x26A398CED70>, <PIL.Image.Image image mode=RGB size=512x512 at 0x26A398CD9C0>]\n",
            "positive and negative image\n"
          ]
        },
        {
          "data": {
            "application/vnd.jupyter.widget-view+json": {
              "model_id": "b9ae121382e9474390bd305338f32f44",
              "version_major": 2,
              "version_minor": 0
            },
            "text/plain": [
              "  0%|          | 0/25 [00:00<?, ?it/s]"
            ]
          },
          "metadata": {},
          "output_type": "display_data"
        },
        {
          "name": "stdout",
          "output_type": "stream",
          "text": [
            "[<PIL.Image.Image image mode=RGB size=512x512 at 0x26A398CCDC0>, <PIL.Image.Image image mode=RGB size=512x512 at 0x26A398CD330>, <PIL.Image.Image image mode=RGB size=512x512 at 0x26A398CF4C0>, <PIL.Image.Image image mode=RGB size=512x512 at 0x26A398CD990>]\n",
            "positive image\n"
          ]
        },
        {
          "data": {
            "application/vnd.jupyter.widget-view+json": {
              "model_id": "362bafec03fe46648919d3fbd418be42",
              "version_major": 2,
              "version_minor": 0
            },
            "text/plain": [
              "  0%|          | 0/25 [00:00<?, ?it/s]"
            ]
          },
          "metadata": {},
          "output_type": "display_data"
        },
        {
          "name": "stdout",
          "output_type": "stream",
          "text": [
            "[<PIL.Image.Image image mode=RGB size=512x512 at 0x26A398B0C40>, <PIL.Image.Image image mode=RGB size=512x512 at 0x26A398B01C0>, <PIL.Image.Image image mode=RGB size=512x512 at 0x26A398B0A90>, <PIL.Image.Image image mode=RGB size=512x512 at 0x26A398B0C70>]\n",
            "positive image\n"
          ]
        },
        {
          "data": {
            "application/vnd.jupyter.widget-view+json": {
              "model_id": "cf5f9ce37e0e462f8b02f542603eb38b",
              "version_major": 2,
              "version_minor": 0
            },
            "text/plain": [
              "  0%|          | 0/25 [00:00<?, ?it/s]"
            ]
          },
          "metadata": {},
          "output_type": "display_data"
        },
        {
          "name": "stdout",
          "output_type": "stream",
          "text": [
            "[<PIL.Image.Image image mode=RGB size=512x512 at 0x26A398B2A70>, <PIL.Image.Image image mode=RGB size=512x512 at 0x26A398B1FF0>, <PIL.Image.Image image mode=RGB size=512x512 at 0x26A398B2350>, <PIL.Image.Image image mode=RGB size=512x512 at 0x26A398B2770>]\n",
            "positive image\n"
          ]
        },
        {
          "data": {
            "application/vnd.jupyter.widget-view+json": {
              "model_id": "541f2484a49d4962b6d064891efa1b59",
              "version_major": 2,
              "version_minor": 0
            },
            "text/plain": [
              "  0%|          | 0/25 [00:00<?, ?it/s]"
            ]
          },
          "metadata": {},
          "output_type": "display_data"
        },
        {
          "name": "stdout",
          "output_type": "stream",
          "text": [
            "[<PIL.Image.Image image mode=RGB size=512x512 at 0x26A398B39A0>, <PIL.Image.Image image mode=RGB size=512x512 at 0x26A398B3460>, <PIL.Image.Image image mode=RGB size=512x512 at 0x26A398B3760>, <PIL.Image.Image image mode=RGB size=512x512 at 0x26A398B38B0>]\n",
            "positive and negative image\n"
          ]
        },
        {
          "data": {
            "application/vnd.jupyter.widget-view+json": {
              "model_id": "854a9b1fe88c4744a720f46ecded5426",
              "version_major": 2,
              "version_minor": 0
            },
            "text/plain": [
              "  0%|          | 0/25 [00:00<?, ?it/s]"
            ]
          },
          "metadata": {},
          "output_type": "display_data"
        },
        {
          "name": "stdout",
          "output_type": "stream",
          "text": [
            "[<PIL.Image.Image image mode=RGB size=512x512 at 0x26AEA893250>, <PIL.Image.Image image mode=RGB size=512x512 at 0x26AEA892DD0>, <PIL.Image.Image image mode=RGB size=512x512 at 0x26AEA892FE0>, <PIL.Image.Image image mode=RGB size=512x512 at 0x26AEA892980>]\n",
            "positive and negative image\n"
          ]
        },
        {
          "data": {
            "application/vnd.jupyter.widget-view+json": {
              "model_id": "85514c1980c54f1db39e3188783a005f",
              "version_major": 2,
              "version_minor": 0
            },
            "text/plain": [
              "  0%|          | 0/25 [00:00<?, ?it/s]"
            ]
          },
          "metadata": {},
          "output_type": "display_data"
        },
        {
          "name": "stdout",
          "output_type": "stream",
          "text": [
            "[<PIL.Image.Image image mode=RGB size=512x512 at 0x268F55A57E0>, <PIL.Image.Image image mode=RGB size=512x512 at 0x268F55A5A50>, <PIL.Image.Image image mode=RGB size=512x512 at 0x268F55AD630>, <PIL.Image.Image image mode=RGB size=512x512 at 0x268F55ADEA0>]\n",
            "positive and negative image\n"
          ]
        },
        {
          "data": {
            "application/vnd.jupyter.widget-view+json": {
              "model_id": "8cdda75d0d294d3d8f669bce8af02a13",
              "version_major": 2,
              "version_minor": 0
            },
            "text/plain": [
              "  0%|          | 0/25 [00:00<?, ?it/s]"
            ]
          },
          "metadata": {},
          "output_type": "display_data"
        },
        {
          "name": "stdout",
          "output_type": "stream",
          "text": [
            "[<PIL.Image.Image image mode=RGB size=512x512 at 0x268F52C28C0>, <PIL.Image.Image image mode=RGB size=512x512 at 0x268F52C1D20>, <PIL.Image.Image image mode=RGB size=512x512 at 0x268F52C1ED0>, <PIL.Image.Image image mode=RGB size=512x512 at 0x268F52C32E0>]\n",
            "Keyboard interruption in main thread... closing server.\n"
          ]
        }
      ],
      "source": [
        "# Run Negative IP adapter demo\n",
        "share_public = True # whether creates a public link\n",
        "\n",
        "import torch\n",
        "from diffusers import StableDiffusionPipeline, StableDiffusionImg2ImgPipeline, StableDiffusionInpaintPipelineLegacy, DDIMScheduler, AutoencoderKL\n",
        "from PIL import Image\n",
        "\n",
        "from ip_adapter import IPAdapterPlus, IPAdapter\n",
        "base_model_path = \"SG161222/Realistic_Vision_V4.0_noVAE\"\n",
        "vae_model_path = \"stabilityai/sd-vae-ft-mse\"\n",
        "image_encoder_path = \"models/image_encoder\"\n",
        "ip_ckpt = \"models/ip-adapter-plus_sd15.bin\"\n",
        "device = \"cuda\"\n",
        "noise_scheduler = DDIMScheduler(\n",
        "    num_train_timesteps=1000,\n",
        "    beta_start=0.00085,\n",
        "    beta_end=0.012,\n",
        "    beta_schedule=\"scaled_linear\",\n",
        "    clip_sample=False,\n",
        "    set_alpha_to_one=False,\n",
        "    steps_offset=1,\n",
        ")\n",
        "vae = AutoencoderKL.from_pretrained(vae_model_path).to(dtype=torch.float16)\n",
        "pipe = StableDiffusionPipeline.from_pretrained(\n",
        "    base_model_path,\n",
        "    torch_dtype=torch.float16,\n",
        "    scheduler=noise_scheduler,\n",
        "    vae=vae,\n",
        "    feature_extractor=None,\n",
        "    safety_checker=None\n",
        ")\n",
        "\n",
        "\n",
        "\n",
        "\n",
        "import random\n",
        "ip_adapters_list = ['IP Adapter', 'IP Adapter Plus']\n",
        "def generate(ip_adapter, image,\n",
        "             neg_image,\n",
        "             scale,\n",
        "             scale_start,\n",
        "             scale_stop,\n",
        "             neg_scale,\n",
        "             scale_neg_start,\n",
        "             scale_neg_stop,\n",
        "             prompt,\n",
        "             negative_prompt,\n",
        "             num_samples,\n",
        "             steps,\n",
        "             seed):\n",
        "    if image is None and neg_image is None:\n",
        "      scale =0\n",
        "      neg_scale = 0\n",
        "      image = Image.open(\"assets/images/statue.png\")\n",
        "\n",
        "    if seed == -1:\n",
        "      seed = random.randint(0, 1e12)\n",
        "\n",
        "    if ip_adapter == 'IP Adapter':\n",
        "      # load ip-adapter\n",
        "      ip_ckpt = \"models/ip-adapter_sd15.bin\"\n",
        "      ip_model = IPAdapter(pipe, image_encoder_path, ip_ckpt, device)\n",
        "    elif ip_adapter == 'IP Adapter Plus':\n",
        "      # load ip-adapter\n",
        "      ip_ckpt = \"models/ip-adapter-plus_sd15.bin\"\n",
        "      ip_model = IPAdapterPlus(pipe, image_encoder_path, ip_ckpt, device, num_tokens=16)\n",
        "    else:\n",
        "      raise ValueError('IP adapter %s is undefined.'%ip_adapter)\n",
        "\n",
        "    images = ip_model.generate(pil_image=image,\n",
        "                           negative_pil_image=neg_image,\n",
        "                           prompt = prompt,\n",
        "                           negative_prompt= negative_prompt,\n",
        "                           num_samples=num_samples,\n",
        "                           scale=scale,  # weight for image prompt\n",
        "                           scale_start= scale_start,\n",
        "                           scale_stop= scale_stop,\n",
        "                           scale_neg = neg_scale, # weight for negative image prompt\n",
        "                           scale_neg_start = scale_neg_start,\n",
        "                           scale_neg_stop = scale_neg_stop,\n",
        "                           num_inference_steps=steps,\n",
        "                           seed=seed)\n",
        "    print(images)\n",
        "    return images\n",
        "\n",
        "\n",
        "shortcut_js = \"\"\"\n",
        "<script>\n",
        "function shortcuts(e) {\n",
        "\n",
        "    if ((event.keyCode == 10 || event.keyCode == 13) && event.ctrlKey) {\n",
        "        document.getElementById(\"generate-button\").click();\n",
        "    }\n",
        "}\n",
        "document.addEventListener('keyup', shortcuts, false);\n",
        "</script>\n",
        "\"\"\"\n",
        "\n",
        "import gradio as gr\n",
        "with gr.Blocks(head=shortcut_js) as demo:\n",
        "  resized_image_file = gr.File(visible=False)\n",
        "\n",
        "  gr.Markdown(\"# Stable Diffuson Negative Image Prompt\")\n",
        "  with gr.Row():\n",
        "    with gr.Column():\n",
        "      with gr.Row():\n",
        "        with gr.Column():\n",
        "          prompt = gr.Textbox(label=\"Prompt\", value = \"a house\")\n",
        "          scale = gr.Slider(0, 2, value=1, label=\"Image prompt weight\")\n",
        "          scale_start = gr.Slider(0, 1, value=0, label=\"Starting step\")\n",
        "          scale_stop = gr.Slider(0, 1, value=1, label=\"Ending step\")\n",
        "          imagePrompt = gr.Image(label=\"Image Prompt\", type = \"pil\")\n",
        "        with gr.Column():\n",
        "          negativePrompt = gr.Textbox(label=\"Negative Prompt\", value = \"nsfw\")\n",
        "          negativeScale = gr.Slider(0, 2, value=1, label=\"Negative Image prompt weight\")\n",
        "          negativeScale_start = gr.Slider(0, 1, value=0, label=\"Starting step\")\n",
        "          negativeScale_stop = gr.Slider(0, 1, value=1, label=\"Ending step\")\n",
        "          negativeImagePrompt = gr.Image(label=\"Negative Image Prompt\", type = \"pil\")\n",
        "      with gr.Accordion(label=\"Advanced options\", open=False):\n",
        "        ip_adapter = gr.Dropdown(choices = ip_adapters_list, value = ip_adapters_list[0], label = \"IP Adapter\", interactive = True)\n",
        "        numImages = gr.Number(precision=0, label=\"Number of images\", value=1)\n",
        "        steps = gr.Number(precision=0, label=\"Number of steps\", value=25)\n",
        "        seed = gr.Number(precision=0, label=\"Seed\", value=-1)\n",
        "    with gr.Column():\n",
        "      btn = gr.Button(\"Generate\", elem_id=\"generate-button\")\n",
        "      imagesOut = gr.Gallery(object_fit=\"contain\", height=\"auto\", selected_index = 0, preview = True)\n",
        "\n",
        "\n",
        "  inputs = [ip_adapter, imagePrompt, negativeImagePrompt, scale, scale_start, scale_stop, negativeScale, negativeScale_start, negativeScale_stop, prompt, negativePrompt, numImages, steps, seed]\n",
        "  outputs = imagesOut\n",
        "  btn.click(generate, inputs=inputs, outputs=outputs)\n",
        "  demo.queue().launch(debug=True, share=share_public, inline=False, show_error=True)\n"
      ]
    }
  ],
  "metadata": {
    "accelerator": "GPU",
    "colab": {
      "gpuType": "T4",
      "provenance": []
    },
    "kernelspec": {
      "display_name": "Python 3",
      "name": "python3"
    },
    "language_info": {
      "codemirror_mode": {
        "name": "ipython",
        "version": 3
      },
      "file_extension": ".py",
      "mimetype": "text/x-python",
      "name": "python",
      "nbconvert_exporter": "python",
      "pygments_lexer": "ipython3",
      "version": "3.10.11"
    },
    "widgets": {
      "application/vnd.jupyter.widget-state+json": {
        "01269815ca48493b9163aa7211b10318": {
          "model_module": "@jupyter-widgets/controls",
          "model_module_version": "1.5.0",
          "model_name": "FloatProgressModel",
          "state": {
            "_dom_classes": [],
            "_model_module": "@jupyter-widgets/controls",
            "_model_module_version": "1.5.0",
            "_model_name": "FloatProgressModel",
            "_view_count": null,
            "_view_module": "@jupyter-widgets/controls",
            "_view_module_version": "1.5.0",
            "_view_name": "ProgressView",
            "bar_style": "success",
            "description": "",
            "description_tooltip": null,
            "layout": "IPY_MODEL_065cdfb4e1b54885bd17198cccc860cf",
            "max": 1059962,
            "min": 0,
            "orientation": "horizontal",
            "style": "IPY_MODEL_a239eea13cdb48b1a265ef6d3948c118",
            "value": 1059962
          }
        },
        "02546a9d407547a88f1fab051d1ad1e4": {
          "model_module": "@jupyter-widgets/controls",
          "model_module_version": "1.5.0",
          "model_name": "HBoxModel",
          "state": {
            "_dom_classes": [],
            "_model_module": "@jupyter-widgets/controls",
            "_model_module_version": "1.5.0",
            "_model_name": "HBoxModel",
            "_view_count": null,
            "_view_module": "@jupyter-widgets/controls",
            "_view_module_version": "1.5.0",
            "_view_name": "HBoxView",
            "box_style": "",
            "children": [
              "IPY_MODEL_d15e51e15adb414faefdb16b23e74c2d",
              "IPY_MODEL_b8aa72c700bb4345a92d88218ced8372",
              "IPY_MODEL_689455123bc241bebc3e48ce9384e3c6"
            ],
            "layout": "IPY_MODEL_a991d8509f7f4b0da0e068015de441f9"
          }
        },
        "041b84519d8f4aef9257357133167548": {
          "model_module": "@jupyter-widgets/controls",
          "model_module_version": "1.5.0",
          "model_name": "DescriptionStyleModel",
          "state": {
            "_model_module": "@jupyter-widgets/controls",
            "_model_module_version": "1.5.0",
            "_model_name": "DescriptionStyleModel",
            "_view_count": null,
            "_view_module": "@jupyter-widgets/base",
            "_view_module_version": "1.2.0",
            "_view_name": "StyleView",
            "description_width": ""
          }
        },
        "0609f245838a418cb9283085aac8eebe": {
          "model_module": "@jupyter-widgets/controls",
          "model_module_version": "1.5.0",
          "model_name": "HBoxModel",
          "state": {
            "_dom_classes": [],
            "_model_module": "@jupyter-widgets/controls",
            "_model_module_version": "1.5.0",
            "_model_name": "HBoxModel",
            "_view_count": null,
            "_view_module": "@jupyter-widgets/controls",
            "_view_module_version": "1.5.0",
            "_view_name": "HBoxView",
            "box_style": "",
            "children": [
              "IPY_MODEL_63efc16b0a3c4c78959e0c8c2da696c9",
              "IPY_MODEL_76e108e5f2024a66bfab6fff44a948ed",
              "IPY_MODEL_529e873acefb41068f3f4bf8068b6171"
            ],
            "layout": "IPY_MODEL_1b04067143cb4ffaa44b43e0bbd76ce7"
          }
        },
        "063b024d78fa44febe8235d1c3d9980a": {
          "model_module": "@jupyter-widgets/controls",
          "model_module_version": "1.5.0",
          "model_name": "ProgressStyleModel",
          "state": {
            "_model_module": "@jupyter-widgets/controls",
            "_model_module_version": "1.5.0",
            "_model_name": "ProgressStyleModel",
            "_view_count": null,
            "_view_module": "@jupyter-widgets/base",
            "_view_module_version": "1.2.0",
            "_view_name": "StyleView",
            "bar_color": null,
            "description_width": ""
          }
        },
        "065cdfb4e1b54885bd17198cccc860cf": {
          "model_module": "@jupyter-widgets/base",
          "model_module_version": "1.2.0",
          "model_name": "LayoutModel",
          "state": {
            "_model_module": "@jupyter-widgets/base",
            "_model_module_version": "1.2.0",
            "_model_name": "LayoutModel",
            "_view_count": null,
            "_view_module": "@jupyter-widgets/base",
            "_view_module_version": "1.2.0",
            "_view_name": "LayoutView",
            "align_content": null,
            "align_items": null,
            "align_self": null,
            "border": null,
            "bottom": null,
            "display": null,
            "flex": null,
            "flex_flow": null,
            "grid_area": null,
            "grid_auto_columns": null,
            "grid_auto_flow": null,
            "grid_auto_rows": null,
            "grid_column": null,
            "grid_gap": null,
            "grid_row": null,
            "grid_template_areas": null,
            "grid_template_columns": null,
            "grid_template_rows": null,
            "height": null,
            "justify_content": null,
            "justify_items": null,
            "left": null,
            "margin": null,
            "max_height": null,
            "max_width": null,
            "min_height": null,
            "min_width": null,
            "object_fit": null,
            "object_position": null,
            "order": null,
            "overflow": null,
            "overflow_x": null,
            "overflow_y": null,
            "padding": null,
            "right": null,
            "top": null,
            "visibility": null,
            "width": null
          }
        },
        "08465e2db37c413ab87a583344d4cb28": {
          "model_module": "@jupyter-widgets/controls",
          "model_module_version": "1.5.0",
          "model_name": "DescriptionStyleModel",
          "state": {
            "_model_module": "@jupyter-widgets/controls",
            "_model_module_version": "1.5.0",
            "_model_name": "DescriptionStyleModel",
            "_view_count": null,
            "_view_module": "@jupyter-widgets/base",
            "_view_module_version": "1.2.0",
            "_view_name": "StyleView",
            "description_width": ""
          }
        },
        "08fa9b845db54eefa8400ba2d4e54a5e": {
          "model_module": "@jupyter-widgets/base",
          "model_module_version": "1.2.0",
          "model_name": "LayoutModel",
          "state": {
            "_model_module": "@jupyter-widgets/base",
            "_model_module_version": "1.2.0",
            "_model_name": "LayoutModel",
            "_view_count": null,
            "_view_module": "@jupyter-widgets/base",
            "_view_module_version": "1.2.0",
            "_view_name": "LayoutView",
            "align_content": null,
            "align_items": null,
            "align_self": null,
            "border": null,
            "bottom": null,
            "display": null,
            "flex": null,
            "flex_flow": null,
            "grid_area": null,
            "grid_auto_columns": null,
            "grid_auto_flow": null,
            "grid_auto_rows": null,
            "grid_column": null,
            "grid_gap": null,
            "grid_row": null,
            "grid_template_areas": null,
            "grid_template_columns": null,
            "grid_template_rows": null,
            "height": null,
            "justify_content": null,
            "justify_items": null,
            "left": null,
            "margin": null,
            "max_height": null,
            "max_width": null,
            "min_height": null,
            "min_width": null,
            "object_fit": null,
            "object_position": null,
            "order": null,
            "overflow": null,
            "overflow_x": null,
            "overflow_y": null,
            "padding": null,
            "right": null,
            "top": null,
            "visibility": null,
            "width": null
          }
        },
        "09864ebc049d4dec8c819d33654375fe": {
          "model_module": "@jupyter-widgets/controls",
          "model_module_version": "1.5.0",
          "model_name": "DescriptionStyleModel",
          "state": {
            "_model_module": "@jupyter-widgets/controls",
            "_model_module_version": "1.5.0",
            "_model_name": "DescriptionStyleModel",
            "_view_count": null,
            "_view_module": "@jupyter-widgets/base",
            "_view_module_version": "1.2.0",
            "_view_name": "StyleView",
            "description_width": ""
          }
        },
        "0989ae47c43841509c6079adc4889c47": {
          "model_module": "@jupyter-widgets/controls",
          "model_module_version": "1.5.0",
          "model_name": "HTMLModel",
          "state": {
            "_dom_classes": [],
            "_model_module": "@jupyter-widgets/controls",
            "_model_module_version": "1.5.0",
            "_model_name": "HTMLModel",
            "_view_count": null,
            "_view_module": "@jupyter-widgets/controls",
            "_view_module_version": "1.5.0",
            "_view_name": "HTMLView",
            "description": "",
            "description_tooltip": null,
            "layout": "IPY_MODEL_c06f8e3591e74fb488b53c7d2a52a483",
            "placeholder": "​",
            "style": "IPY_MODEL_27d24e2226ab48689e45a4424700d9d8",
            "value": " 525k/525k [00:00&lt;00:00, 2.57MB/s]"
          }
        },
        "0b50e3b984914370933dbaec3a177ad2": {
          "model_module": "@jupyter-widgets/controls",
          "model_module_version": "1.5.0",
          "model_name": "HBoxModel",
          "state": {
            "_dom_classes": [],
            "_model_module": "@jupyter-widgets/controls",
            "_model_module_version": "1.5.0",
            "_model_name": "HBoxModel",
            "_view_count": null,
            "_view_module": "@jupyter-widgets/controls",
            "_view_module_version": "1.5.0",
            "_view_name": "HBoxView",
            "box_style": "",
            "children": [
              "IPY_MODEL_7b32f086392b461abfb1dbeb9afe7173",
              "IPY_MODEL_ddaaf40f76ec48e2924286fc6dc0e64b",
              "IPY_MODEL_96806e0fe7424adf817d23b45a3eb6f1"
            ],
            "layout": "IPY_MODEL_bcdcb4ec7dde45b38bcc4db3d187165e"
          }
        },
        "0c141a9da8fa494986942246790d71e6": {
          "model_module": "@jupyter-widgets/controls",
          "model_module_version": "1.5.0",
          "model_name": "HTMLModel",
          "state": {
            "_dom_classes": [],
            "_model_module": "@jupyter-widgets/controls",
            "_model_module_version": "1.5.0",
            "_model_name": "HTMLModel",
            "_view_count": null,
            "_view_module": "@jupyter-widgets/controls",
            "_view_module_version": "1.5.0",
            "_view_name": "HTMLView",
            "description": "",
            "description_tooltip": null,
            "layout": "IPY_MODEL_7b116eb091ba47359c590a108314eca6",
            "placeholder": "​",
            "style": "IPY_MODEL_6bfd3429d5184273a550033b120ab3d6",
            "value": " 0/0 [00:00&lt;?, ?it/s]"
          }
        },
        "0d5abe669ca34e6ba62a5d3574e6d98d": {
          "model_module": "@jupyter-widgets/controls",
          "model_module_version": "1.5.0",
          "model_name": "FloatProgressModel",
          "state": {
            "_dom_classes": [],
            "_model_module": "@jupyter-widgets/controls",
            "_model_module_version": "1.5.0",
            "_model_name": "FloatProgressModel",
            "_view_count": null,
            "_view_module": "@jupyter-widgets/controls",
            "_view_module_version": "1.5.0",
            "_view_name": "ProgressView",
            "bar_style": "success",
            "description": "",
            "description_tooltip": null,
            "layout": "IPY_MODEL_9f6572d23c9e41ce8eaa1633623352cc",
            "max": 5,
            "min": 0,
            "orientation": "horizontal",
            "style": "IPY_MODEL_d56ff824b64e4d5d97f53a42e79fb5f1",
            "value": 5
          }
        },
        "0f0d4439fd1848efb830b09754e8f7b8": {
          "model_module": "@jupyter-widgets/controls",
          "model_module_version": "1.5.0",
          "model_name": "DescriptionStyleModel",
          "state": {
            "_model_module": "@jupyter-widgets/controls",
            "_model_module_version": "1.5.0",
            "_model_name": "DescriptionStyleModel",
            "_view_count": null,
            "_view_module": "@jupyter-widgets/base",
            "_view_module_version": "1.2.0",
            "_view_name": "StyleView",
            "description_width": ""
          }
        },
        "0f48f929c6b4470aad4a53339c5c3c35": {
          "model_module": "@jupyter-widgets/controls",
          "model_module_version": "1.5.0",
          "model_name": "HTMLModel",
          "state": {
            "_dom_classes": [],
            "_model_module": "@jupyter-widgets/controls",
            "_model_module_version": "1.5.0",
            "_model_name": "HTMLModel",
            "_view_count": null,
            "_view_module": "@jupyter-widgets/controls",
            "_view_module_version": "1.5.0",
            "_view_name": "HTMLView",
            "description": "",
            "description_tooltip": null,
            "layout": "IPY_MODEL_b006a09273354938893352027c9c69a5",
            "placeholder": "​",
            "style": "IPY_MODEL_0f0d4439fd1848efb830b09754e8f7b8",
            "value": " 737/737 [00:00&lt;00:00, 7.93kB/s]"
          }
        },
        "0f80aec5713f4572bc42c4798d212881": {
          "model_module": "@jupyter-widgets/controls",
          "model_module_version": "1.5.0",
          "model_name": "HTMLModel",
          "state": {
            "_dom_classes": [],
            "_model_module": "@jupyter-widgets/controls",
            "_model_module_version": "1.5.0",
            "_model_name": "HTMLModel",
            "_view_count": null,
            "_view_module": "@jupyter-widgets/controls",
            "_view_module_version": "1.5.0",
            "_view_name": "HTMLView",
            "description": "",
            "description_tooltip": null,
            "layout": "IPY_MODEL_3be44790f7654aed801102d70945e0c7",
            "placeholder": "​",
            "style": "IPY_MODEL_56d2ce27d3fc45e389ef97af2e096925",
            "value": "100%"
          }
        },
        "14d13a309a0f417ea4fee1668e2d9c00": {
          "model_module": "@jupyter-widgets/base",
          "model_module_version": "1.2.0",
          "model_name": "LayoutModel",
          "state": {
            "_model_module": "@jupyter-widgets/base",
            "_model_module_version": "1.2.0",
            "_model_name": "LayoutModel",
            "_view_count": null,
            "_view_module": "@jupyter-widgets/base",
            "_view_module_version": "1.2.0",
            "_view_name": "LayoutView",
            "align_content": null,
            "align_items": null,
            "align_self": null,
            "border": null,
            "bottom": null,
            "display": null,
            "flex": null,
            "flex_flow": null,
            "grid_area": null,
            "grid_auto_columns": null,
            "grid_auto_flow": null,
            "grid_auto_rows": null,
            "grid_column": null,
            "grid_gap": null,
            "grid_row": null,
            "grid_template_areas": null,
            "grid_template_columns": null,
            "grid_template_rows": null,
            "height": null,
            "justify_content": null,
            "justify_items": null,
            "left": null,
            "margin": null,
            "max_height": null,
            "max_width": null,
            "min_height": null,
            "min_width": null,
            "object_fit": null,
            "object_position": null,
            "order": null,
            "overflow": null,
            "overflow_x": null,
            "overflow_y": null,
            "padding": null,
            "right": null,
            "top": null,
            "visibility": null,
            "width": null
          }
        },
        "17e126ff993f4f62a96dee5b6a944a40": {
          "model_module": "@jupyter-widgets/controls",
          "model_module_version": "1.5.0",
          "model_name": "HTMLModel",
          "state": {
            "_dom_classes": [],
            "_model_module": "@jupyter-widgets/controls",
            "_model_module_version": "1.5.0",
            "_model_name": "HTMLModel",
            "_view_count": null,
            "_view_module": "@jupyter-widgets/controls",
            "_view_module_version": "1.5.0",
            "_view_name": "HTMLView",
            "description": "",
            "description_tooltip": null,
            "layout": "IPY_MODEL_2eec2b21a8474f779eed4704b8ef935b",
            "placeholder": "​",
            "style": "IPY_MODEL_c9f3b71f7e7a48e5ae01c4bc1b9690d4",
            "value": "tokenizer/vocab.json: 100%"
          }
        },
        "180acd9eb4714019aef4ac7737764f57": {
          "model_module": "@jupyter-widgets/base",
          "model_module_version": "1.2.0",
          "model_name": "LayoutModel",
          "state": {
            "_model_module": "@jupyter-widgets/base",
            "_model_module_version": "1.2.0",
            "_model_name": "LayoutModel",
            "_view_count": null,
            "_view_module": "@jupyter-widgets/base",
            "_view_module_version": "1.2.0",
            "_view_name": "LayoutView",
            "align_content": null,
            "align_items": null,
            "align_self": null,
            "border": null,
            "bottom": null,
            "display": null,
            "flex": null,
            "flex_flow": null,
            "grid_area": null,
            "grid_auto_columns": null,
            "grid_auto_flow": null,
            "grid_auto_rows": null,
            "grid_column": null,
            "grid_gap": null,
            "grid_row": null,
            "grid_template_areas": null,
            "grid_template_columns": null,
            "grid_template_rows": null,
            "height": null,
            "justify_content": null,
            "justify_items": null,
            "left": null,
            "margin": null,
            "max_height": null,
            "max_width": null,
            "min_height": null,
            "min_width": null,
            "object_fit": null,
            "object_position": null,
            "order": null,
            "overflow": null,
            "overflow_x": null,
            "overflow_y": null,
            "padding": null,
            "right": null,
            "top": null,
            "visibility": null,
            "width": null
          }
        },
        "18b3f32138e343c48df108a5455df12f": {
          "model_module": "@jupyter-widgets/base",
          "model_module_version": "1.2.0",
          "model_name": "LayoutModel",
          "state": {
            "_model_module": "@jupyter-widgets/base",
            "_model_module_version": "1.2.0",
            "_model_name": "LayoutModel",
            "_view_count": null,
            "_view_module": "@jupyter-widgets/base",
            "_view_module_version": "1.2.0",
            "_view_name": "LayoutView",
            "align_content": null,
            "align_items": null,
            "align_self": null,
            "border": null,
            "bottom": null,
            "display": null,
            "flex": null,
            "flex_flow": null,
            "grid_area": null,
            "grid_auto_columns": null,
            "grid_auto_flow": null,
            "grid_auto_rows": null,
            "grid_column": null,
            "grid_gap": null,
            "grid_row": null,
            "grid_template_areas": null,
            "grid_template_columns": null,
            "grid_template_rows": null,
            "height": null,
            "justify_content": null,
            "justify_items": null,
            "left": null,
            "margin": null,
            "max_height": null,
            "max_width": null,
            "min_height": null,
            "min_width": null,
            "object_fit": null,
            "object_position": null,
            "order": null,
            "overflow": null,
            "overflow_x": null,
            "overflow_y": null,
            "padding": null,
            "right": null,
            "top": null,
            "visibility": null,
            "width": null
          }
        },
        "1a8afc7540af4204bb308d8a1598e882": {
          "model_module": "@jupyter-widgets/base",
          "model_module_version": "1.2.0",
          "model_name": "LayoutModel",
          "state": {
            "_model_module": "@jupyter-widgets/base",
            "_model_module_version": "1.2.0",
            "_model_name": "LayoutModel",
            "_view_count": null,
            "_view_module": "@jupyter-widgets/base",
            "_view_module_version": "1.2.0",
            "_view_name": "LayoutView",
            "align_content": null,
            "align_items": null,
            "align_self": null,
            "border": null,
            "bottom": null,
            "display": null,
            "flex": null,
            "flex_flow": null,
            "grid_area": null,
            "grid_auto_columns": null,
            "grid_auto_flow": null,
            "grid_auto_rows": null,
            "grid_column": null,
            "grid_gap": null,
            "grid_row": null,
            "grid_template_areas": null,
            "grid_template_columns": null,
            "grid_template_rows": null,
            "height": null,
            "justify_content": null,
            "justify_items": null,
            "left": null,
            "margin": null,
            "max_height": null,
            "max_width": null,
            "min_height": null,
            "min_width": null,
            "object_fit": null,
            "object_position": null,
            "order": null,
            "overflow": null,
            "overflow_x": null,
            "overflow_y": null,
            "padding": null,
            "right": null,
            "top": null,
            "visibility": null,
            "width": null
          }
        },
        "1b04067143cb4ffaa44b43e0bbd76ce7": {
          "model_module": "@jupyter-widgets/base",
          "model_module_version": "1.2.0",
          "model_name": "LayoutModel",
          "state": {
            "_model_module": "@jupyter-widgets/base",
            "_model_module_version": "1.2.0",
            "_model_name": "LayoutModel",
            "_view_count": null,
            "_view_module": "@jupyter-widgets/base",
            "_view_module_version": "1.2.0",
            "_view_name": "LayoutView",
            "align_content": null,
            "align_items": null,
            "align_self": null,
            "border": null,
            "bottom": null,
            "display": null,
            "flex": null,
            "flex_flow": null,
            "grid_area": null,
            "grid_auto_columns": null,
            "grid_auto_flow": null,
            "grid_auto_rows": null,
            "grid_column": null,
            "grid_gap": null,
            "grid_row": null,
            "grid_template_areas": null,
            "grid_template_columns": null,
            "grid_template_rows": null,
            "height": null,
            "justify_content": null,
            "justify_items": null,
            "left": null,
            "margin": null,
            "max_height": null,
            "max_width": null,
            "min_height": null,
            "min_width": null,
            "object_fit": null,
            "object_position": null,
            "order": null,
            "overflow": null,
            "overflow_x": null,
            "overflow_y": null,
            "padding": null,
            "right": null,
            "top": null,
            "visibility": null,
            "width": null
          }
        },
        "1b1ca8e4181e497da208960844bea0b7": {
          "model_module": "@jupyter-widgets/base",
          "model_module_version": "1.2.0",
          "model_name": "LayoutModel",
          "state": {
            "_model_module": "@jupyter-widgets/base",
            "_model_module_version": "1.2.0",
            "_model_name": "LayoutModel",
            "_view_count": null,
            "_view_module": "@jupyter-widgets/base",
            "_view_module_version": "1.2.0",
            "_view_name": "LayoutView",
            "align_content": null,
            "align_items": null,
            "align_self": null,
            "border": null,
            "bottom": null,
            "display": null,
            "flex": null,
            "flex_flow": null,
            "grid_area": null,
            "grid_auto_columns": null,
            "grid_auto_flow": null,
            "grid_auto_rows": null,
            "grid_column": null,
            "grid_gap": null,
            "grid_row": null,
            "grid_template_areas": null,
            "grid_template_columns": null,
            "grid_template_rows": null,
            "height": null,
            "justify_content": null,
            "justify_items": null,
            "left": null,
            "margin": null,
            "max_height": null,
            "max_width": null,
            "min_height": null,
            "min_width": null,
            "object_fit": null,
            "object_position": null,
            "order": null,
            "overflow": null,
            "overflow_x": null,
            "overflow_y": null,
            "padding": null,
            "right": null,
            "top": null,
            "visibility": null,
            "width": null
          }
        },
        "1e910d8730434de4b3dad763dcf7f9c4": {
          "model_module": "@jupyter-widgets/base",
          "model_module_version": "1.2.0",
          "model_name": "LayoutModel",
          "state": {
            "_model_module": "@jupyter-widgets/base",
            "_model_module_version": "1.2.0",
            "_model_name": "LayoutModel",
            "_view_count": null,
            "_view_module": "@jupyter-widgets/base",
            "_view_module_version": "1.2.0",
            "_view_name": "LayoutView",
            "align_content": null,
            "align_items": null,
            "align_self": null,
            "border": null,
            "bottom": null,
            "display": null,
            "flex": null,
            "flex_flow": null,
            "grid_area": null,
            "grid_auto_columns": null,
            "grid_auto_flow": null,
            "grid_auto_rows": null,
            "grid_column": null,
            "grid_gap": null,
            "grid_row": null,
            "grid_template_areas": null,
            "grid_template_columns": null,
            "grid_template_rows": null,
            "height": null,
            "justify_content": null,
            "justify_items": null,
            "left": null,
            "margin": null,
            "max_height": null,
            "max_width": null,
            "min_height": null,
            "min_width": null,
            "object_fit": null,
            "object_position": null,
            "order": null,
            "overflow": null,
            "overflow_x": null,
            "overflow_y": null,
            "padding": null,
            "right": null,
            "top": null,
            "visibility": null,
            "width": null
          }
        },
        "22deb87494be483584bf164acb35644d": {
          "model_module": "@jupyter-widgets/base",
          "model_module_version": "1.2.0",
          "model_name": "LayoutModel",
          "state": {
            "_model_module": "@jupyter-widgets/base",
            "_model_module_version": "1.2.0",
            "_model_name": "LayoutModel",
            "_view_count": null,
            "_view_module": "@jupyter-widgets/base",
            "_view_module_version": "1.2.0",
            "_view_name": "LayoutView",
            "align_content": null,
            "align_items": null,
            "align_self": null,
            "border": null,
            "bottom": null,
            "display": null,
            "flex": null,
            "flex_flow": null,
            "grid_area": null,
            "grid_auto_columns": null,
            "grid_auto_flow": null,
            "grid_auto_rows": null,
            "grid_column": null,
            "grid_gap": null,
            "grid_row": null,
            "grid_template_areas": null,
            "grid_template_columns": null,
            "grid_template_rows": null,
            "height": null,
            "justify_content": null,
            "justify_items": null,
            "left": null,
            "margin": null,
            "max_height": null,
            "max_width": null,
            "min_height": null,
            "min_width": null,
            "object_fit": null,
            "object_position": null,
            "order": null,
            "overflow": null,
            "overflow_x": null,
            "overflow_y": null,
            "padding": null,
            "right": null,
            "top": null,
            "visibility": null,
            "width": null
          }
        },
        "27d24e2226ab48689e45a4424700d9d8": {
          "model_module": "@jupyter-widgets/controls",
          "model_module_version": "1.5.0",
          "model_name": "DescriptionStyleModel",
          "state": {
            "_model_module": "@jupyter-widgets/controls",
            "_model_module_version": "1.5.0",
            "_model_name": "DescriptionStyleModel",
            "_view_count": null,
            "_view_module": "@jupyter-widgets/base",
            "_view_module_version": "1.2.0",
            "_view_name": "StyleView",
            "description_width": ""
          }
        },
        "29cfb7b4169241c3a42b36023f2e22e1": {
          "model_module": "@jupyter-widgets/controls",
          "model_module_version": "1.5.0",
          "model_name": "HTMLModel",
          "state": {
            "_dom_classes": [],
            "_model_module": "@jupyter-widgets/controls",
            "_model_module_version": "1.5.0",
            "_model_name": "HTMLModel",
            "_view_count": null,
            "_view_module": "@jupyter-widgets/controls",
            "_view_module_version": "1.5.0",
            "_view_name": "HTMLView",
            "description": "",
            "description_tooltip": null,
            "layout": "IPY_MODEL_5f4b7d4f8a3a438db14523c2f24ce2b6",
            "placeholder": "​",
            "style": "IPY_MODEL_bac78dd903364b4b97861f33552fb22b",
            "value": "100%"
          }
        },
        "2b6cd195101d4bf8aef15eaa36b4bac7": {
          "model_module": "@jupyter-widgets/base",
          "model_module_version": "1.2.0",
          "model_name": "LayoutModel",
          "state": {
            "_model_module": "@jupyter-widgets/base",
            "_model_module_version": "1.2.0",
            "_model_name": "LayoutModel",
            "_view_count": null,
            "_view_module": "@jupyter-widgets/base",
            "_view_module_version": "1.2.0",
            "_view_name": "LayoutView",
            "align_content": null,
            "align_items": null,
            "align_self": null,
            "border": null,
            "bottom": null,
            "display": null,
            "flex": null,
            "flex_flow": null,
            "grid_area": null,
            "grid_auto_columns": null,
            "grid_auto_flow": null,
            "grid_auto_rows": null,
            "grid_column": null,
            "grid_gap": null,
            "grid_row": null,
            "grid_template_areas": null,
            "grid_template_columns": null,
            "grid_template_rows": null,
            "height": null,
            "justify_content": null,
            "justify_items": null,
            "left": null,
            "margin": null,
            "max_height": null,
            "max_width": null,
            "min_height": null,
            "min_width": null,
            "object_fit": null,
            "object_position": null,
            "order": null,
            "overflow": null,
            "overflow_x": null,
            "overflow_y": null,
            "padding": null,
            "right": null,
            "top": null,
            "visibility": null,
            "width": null
          }
        },
        "2ce5adcbf44a4215beaca1c77ebb98b9": {
          "model_module": "@jupyter-widgets/controls",
          "model_module_version": "1.5.0",
          "model_name": "HBoxModel",
          "state": {
            "_dom_classes": [],
            "_model_module": "@jupyter-widgets/controls",
            "_model_module_version": "1.5.0",
            "_model_name": "HBoxModel",
            "_view_count": null,
            "_view_module": "@jupyter-widgets/controls",
            "_view_module_version": "1.5.0",
            "_view_name": "HBoxView",
            "box_style": "",
            "children": [
              "IPY_MODEL_2ead8518955f46d6bc1ec3c24cb28e1c",
              "IPY_MODEL_6a7041d4d14a43a9b8befaeb482e8373",
              "IPY_MODEL_3cccf12bbb55469f992fda4d3d51baf9"
            ],
            "layout": "IPY_MODEL_e386fa1a33af4c13a9558d1da6cdacc2"
          }
        },
        "2ead8518955f46d6bc1ec3c24cb28e1c": {
          "model_module": "@jupyter-widgets/controls",
          "model_module_version": "1.5.0",
          "model_name": "HTMLModel",
          "state": {
            "_dom_classes": [],
            "_model_module": "@jupyter-widgets/controls",
            "_model_module_version": "1.5.0",
            "_model_name": "HTMLModel",
            "_view_count": null,
            "_view_module": "@jupyter-widgets/controls",
            "_view_module_version": "1.5.0",
            "_view_name": "HTMLView",
            "description": "",
            "description_tooltip": null,
            "layout": "IPY_MODEL_82e2a033a74441af955b4eee6df5bc33",
            "placeholder": "​",
            "style": "IPY_MODEL_ea885ad227224fd68d8473d2574faaa2",
            "value": "text_encoder/config.json: 100%"
          }
        },
        "2eec2b21a8474f779eed4704b8ef935b": {
          "model_module": "@jupyter-widgets/base",
          "model_module_version": "1.2.0",
          "model_name": "LayoutModel",
          "state": {
            "_model_module": "@jupyter-widgets/base",
            "_model_module_version": "1.2.0",
            "_model_name": "LayoutModel",
            "_view_count": null,
            "_view_module": "@jupyter-widgets/base",
            "_view_module_version": "1.2.0",
            "_view_name": "LayoutView",
            "align_content": null,
            "align_items": null,
            "align_self": null,
            "border": null,
            "bottom": null,
            "display": null,
            "flex": null,
            "flex_flow": null,
            "grid_area": null,
            "grid_auto_columns": null,
            "grid_auto_flow": null,
            "grid_auto_rows": null,
            "grid_column": null,
            "grid_gap": null,
            "grid_row": null,
            "grid_template_areas": null,
            "grid_template_columns": null,
            "grid_template_rows": null,
            "height": null,
            "justify_content": null,
            "justify_items": null,
            "left": null,
            "margin": null,
            "max_height": null,
            "max_width": null,
            "min_height": null,
            "min_width": null,
            "object_fit": null,
            "object_position": null,
            "order": null,
            "overflow": null,
            "overflow_x": null,
            "overflow_y": null,
            "padding": null,
            "right": null,
            "top": null,
            "visibility": null,
            "width": null
          }
        },
        "2faa9ba78f00461fb62af13c80eda1b9": {
          "model_module": "@jupyter-widgets/controls",
          "model_module_version": "1.5.0",
          "model_name": "DescriptionStyleModel",
          "state": {
            "_model_module": "@jupyter-widgets/controls",
            "_model_module_version": "1.5.0",
            "_model_name": "DescriptionStyleModel",
            "_view_count": null,
            "_view_module": "@jupyter-widgets/base",
            "_view_module_version": "1.2.0",
            "_view_name": "StyleView",
            "description_width": ""
          }
        },
        "2fba8ccf24a2477482897ae9fa9d7ebc": {
          "model_module": "@jupyter-widgets/controls",
          "model_module_version": "1.5.0",
          "model_name": "HTMLModel",
          "state": {
            "_dom_classes": [],
            "_model_module": "@jupyter-widgets/controls",
            "_model_module_version": "1.5.0",
            "_model_name": "HTMLModel",
            "_view_count": null,
            "_view_module": "@jupyter-widgets/controls",
            "_view_module_version": "1.5.0",
            "_view_name": "HTMLView",
            "description": "",
            "description_tooltip": null,
            "layout": "IPY_MODEL_b8e6ddf0343a4b9cb9ee33495cc61426",
            "placeholder": "​",
            "style": "IPY_MODEL_08465e2db37c413ab87a583344d4cb28",
            "value": "Loading pipeline components...: 100%"
          }
        },
        "2fc72f11d31742b79a64ddd2ae62ae10": {
          "model_module": "@jupyter-widgets/base",
          "model_module_version": "1.2.0",
          "model_name": "LayoutModel",
          "state": {
            "_model_module": "@jupyter-widgets/base",
            "_model_module_version": "1.2.0",
            "_model_name": "LayoutModel",
            "_view_count": null,
            "_view_module": "@jupyter-widgets/base",
            "_view_module_version": "1.2.0",
            "_view_name": "LayoutView",
            "align_content": null,
            "align_items": null,
            "align_self": null,
            "border": null,
            "bottom": null,
            "display": null,
            "flex": null,
            "flex_flow": null,
            "grid_area": null,
            "grid_auto_columns": null,
            "grid_auto_flow": null,
            "grid_auto_rows": null,
            "grid_column": null,
            "grid_gap": null,
            "grid_row": null,
            "grid_template_areas": null,
            "grid_template_columns": null,
            "grid_template_rows": null,
            "height": null,
            "justify_content": null,
            "justify_items": null,
            "left": null,
            "margin": null,
            "max_height": null,
            "max_width": null,
            "min_height": null,
            "min_width": null,
            "object_fit": null,
            "object_position": null,
            "order": null,
            "overflow": null,
            "overflow_x": null,
            "overflow_y": null,
            "padding": null,
            "right": null,
            "top": null,
            "visibility": null,
            "width": null
          }
        },
        "3091135f6c38435ab06145a1475e8fc7": {
          "model_module": "@jupyter-widgets/controls",
          "model_module_version": "1.5.0",
          "model_name": "HTMLModel",
          "state": {
            "_dom_classes": [],
            "_model_module": "@jupyter-widgets/controls",
            "_model_module_version": "1.5.0",
            "_model_name": "HTMLModel",
            "_view_count": null,
            "_view_module": "@jupyter-widgets/controls",
            "_view_module_version": "1.5.0",
            "_view_name": "HTMLView",
            "description": "",
            "description_tooltip": null,
            "layout": "IPY_MODEL_32f62a029a2d44988c0df4bc38f46c26",
            "placeholder": "​",
            "style": "IPY_MODEL_d55e5e8873b640f0895863f2960cc4d0",
            "value": "model.safetensors: 100%"
          }
        },
        "315e36bb14534470901f009e6a7c9172": {
          "model_module": "@jupyter-widgets/controls",
          "model_module_version": "1.5.0",
          "model_name": "HBoxModel",
          "state": {
            "_dom_classes": [],
            "_model_module": "@jupyter-widgets/controls",
            "_model_module_version": "1.5.0",
            "_model_name": "HBoxModel",
            "_view_count": null,
            "_view_module": "@jupyter-widgets/controls",
            "_view_module_version": "1.5.0",
            "_view_name": "HBoxView",
            "box_style": "",
            "children": [
              "IPY_MODEL_29cfb7b4169241c3a42b36023f2e22e1",
              "IPY_MODEL_d8681e2eb1d24113a6417195abd2f453",
              "IPY_MODEL_846ec4b714eb4e7483dc572be359b205"
            ],
            "layout": "IPY_MODEL_cbb02f8e0a13445ead70937797e81ddd"
          }
        },
        "32f62a029a2d44988c0df4bc38f46c26": {
          "model_module": "@jupyter-widgets/base",
          "model_module_version": "1.2.0",
          "model_name": "LayoutModel",
          "state": {
            "_model_module": "@jupyter-widgets/base",
            "_model_module_version": "1.2.0",
            "_model_name": "LayoutModel",
            "_view_count": null,
            "_view_module": "@jupyter-widgets/base",
            "_view_module_version": "1.2.0",
            "_view_name": "LayoutView",
            "align_content": null,
            "align_items": null,
            "align_self": null,
            "border": null,
            "bottom": null,
            "display": null,
            "flex": null,
            "flex_flow": null,
            "grid_area": null,
            "grid_auto_columns": null,
            "grid_auto_flow": null,
            "grid_auto_rows": null,
            "grid_column": null,
            "grid_gap": null,
            "grid_row": null,
            "grid_template_areas": null,
            "grid_template_columns": null,
            "grid_template_rows": null,
            "height": null,
            "justify_content": null,
            "justify_items": null,
            "left": null,
            "margin": null,
            "max_height": null,
            "max_width": null,
            "min_height": null,
            "min_width": null,
            "object_fit": null,
            "object_position": null,
            "order": null,
            "overflow": null,
            "overflow_x": null,
            "overflow_y": null,
            "padding": null,
            "right": null,
            "top": null,
            "visibility": null,
            "width": null
          }
        },
        "358238c56d5046fbb3dfbba194ba175a": {
          "model_module": "@jupyter-widgets/controls",
          "model_module_version": "1.5.0",
          "model_name": "DescriptionStyleModel",
          "state": {
            "_model_module": "@jupyter-widgets/controls",
            "_model_module_version": "1.5.0",
            "_model_name": "DescriptionStyleModel",
            "_view_count": null,
            "_view_module": "@jupyter-widgets/base",
            "_view_module_version": "1.2.0",
            "_view_name": "StyleView",
            "description_width": ""
          }
        },
        "362d5eeac61f4855aa2a77405196955f": {
          "model_module": "@jupyter-widgets/base",
          "model_module_version": "1.2.0",
          "model_name": "LayoutModel",
          "state": {
            "_model_module": "@jupyter-widgets/base",
            "_model_module_version": "1.2.0",
            "_model_name": "LayoutModel",
            "_view_count": null,
            "_view_module": "@jupyter-widgets/base",
            "_view_module_version": "1.2.0",
            "_view_name": "LayoutView",
            "align_content": null,
            "align_items": null,
            "align_self": null,
            "border": null,
            "bottom": null,
            "display": null,
            "flex": null,
            "flex_flow": null,
            "grid_area": null,
            "grid_auto_columns": null,
            "grid_auto_flow": null,
            "grid_auto_rows": null,
            "grid_column": null,
            "grid_gap": null,
            "grid_row": null,
            "grid_template_areas": null,
            "grid_template_columns": null,
            "grid_template_rows": null,
            "height": null,
            "justify_content": null,
            "justify_items": null,
            "left": null,
            "margin": null,
            "max_height": null,
            "max_width": null,
            "min_height": null,
            "min_width": null,
            "object_fit": null,
            "object_position": null,
            "order": null,
            "overflow": null,
            "overflow_x": null,
            "overflow_y": null,
            "padding": null,
            "right": null,
            "top": null,
            "visibility": null,
            "width": null
          }
        },
        "37c171a263cd451c865b9c13e8cecde5": {
          "model_module": "@jupyter-widgets/controls",
          "model_module_version": "1.5.0",
          "model_name": "HTMLModel",
          "state": {
            "_dom_classes": [],
            "_model_module": "@jupyter-widgets/controls",
            "_model_module_version": "1.5.0",
            "_model_name": "HTMLModel",
            "_view_count": null,
            "_view_module": "@jupyter-widgets/controls",
            "_view_module_version": "1.5.0",
            "_view_name": "HTMLView",
            "description": "",
            "description_tooltip": null,
            "layout": "IPY_MODEL_4428599141be4b2ea3e79158d63bc387",
            "placeholder": "​",
            "style": "IPY_MODEL_f1238eb212e049f3be2c76305c626331",
            "value": "tokenizer/special_tokens_map.json: 100%"
          }
        },
        "38e54069dbe649a9a49541b1ca9d98b5": {
          "model_module": "@jupyter-widgets/controls",
          "model_module_version": "1.5.0",
          "model_name": "FloatProgressModel",
          "state": {
            "_dom_classes": [],
            "_model_module": "@jupyter-widgets/controls",
            "_model_module_version": "1.5.0",
            "_model_name": "FloatProgressModel",
            "_view_count": null,
            "_view_module": "@jupyter-widgets/controls",
            "_view_module_version": "1.5.0",
            "_view_name": "ProgressView",
            "bar_style": "success",
            "description": "",
            "description_tooltip": null,
            "layout": "IPY_MODEL_1b1ca8e4181e497da208960844bea0b7",
            "max": 472,
            "min": 0,
            "orientation": "horizontal",
            "style": "IPY_MODEL_57340893622d4d3db1985acc6fef1194",
            "value": 472
          }
        },
        "3ad77624cf4240949180c36cd0723ca1": {
          "model_module": "@jupyter-widgets/controls",
          "model_module_version": "1.5.0",
          "model_name": "DescriptionStyleModel",
          "state": {
            "_model_module": "@jupyter-widgets/controls",
            "_model_module_version": "1.5.0",
            "_model_name": "DescriptionStyleModel",
            "_view_count": null,
            "_view_module": "@jupyter-widgets/base",
            "_view_module_version": "1.2.0",
            "_view_name": "StyleView",
            "description_width": ""
          }
        },
        "3b8f77e9fc484d15ac473f59af19f43c": {
          "model_module": "@jupyter-widgets/controls",
          "model_module_version": "1.5.0",
          "model_name": "DescriptionStyleModel",
          "state": {
            "_model_module": "@jupyter-widgets/controls",
            "_model_module_version": "1.5.0",
            "_model_name": "DescriptionStyleModel",
            "_view_count": null,
            "_view_module": "@jupyter-widgets/base",
            "_view_module_version": "1.2.0",
            "_view_name": "StyleView",
            "description_width": ""
          }
        },
        "3be44790f7654aed801102d70945e0c7": {
          "model_module": "@jupyter-widgets/base",
          "model_module_version": "1.2.0",
          "model_name": "LayoutModel",
          "state": {
            "_model_module": "@jupyter-widgets/base",
            "_model_module_version": "1.2.0",
            "_model_name": "LayoutModel",
            "_view_count": null,
            "_view_module": "@jupyter-widgets/base",
            "_view_module_version": "1.2.0",
            "_view_name": "LayoutView",
            "align_content": null,
            "align_items": null,
            "align_self": null,
            "border": null,
            "bottom": null,
            "display": null,
            "flex": null,
            "flex_flow": null,
            "grid_area": null,
            "grid_auto_columns": null,
            "grid_auto_flow": null,
            "grid_auto_rows": null,
            "grid_column": null,
            "grid_gap": null,
            "grid_row": null,
            "grid_template_areas": null,
            "grid_template_columns": null,
            "grid_template_rows": null,
            "height": null,
            "justify_content": null,
            "justify_items": null,
            "left": null,
            "margin": null,
            "max_height": null,
            "max_width": null,
            "min_height": null,
            "min_width": null,
            "object_fit": null,
            "object_position": null,
            "order": null,
            "overflow": null,
            "overflow_x": null,
            "overflow_y": null,
            "padding": null,
            "right": null,
            "top": null,
            "visibility": null,
            "width": null
          }
        },
        "3c287dd2b21b455e989c9696773cb7fa": {
          "model_module": "@jupyter-widgets/base",
          "model_module_version": "1.2.0",
          "model_name": "LayoutModel",
          "state": {
            "_model_module": "@jupyter-widgets/base",
            "_model_module_version": "1.2.0",
            "_model_name": "LayoutModel",
            "_view_count": null,
            "_view_module": "@jupyter-widgets/base",
            "_view_module_version": "1.2.0",
            "_view_name": "LayoutView",
            "align_content": null,
            "align_items": null,
            "align_self": null,
            "border": null,
            "bottom": null,
            "display": null,
            "flex": null,
            "flex_flow": null,
            "grid_area": null,
            "grid_auto_columns": null,
            "grid_auto_flow": null,
            "grid_auto_rows": null,
            "grid_column": null,
            "grid_gap": null,
            "grid_row": null,
            "grid_template_areas": null,
            "grid_template_columns": null,
            "grid_template_rows": null,
            "height": null,
            "justify_content": null,
            "justify_items": null,
            "left": null,
            "margin": null,
            "max_height": null,
            "max_width": null,
            "min_height": null,
            "min_width": null,
            "object_fit": null,
            "object_position": null,
            "order": null,
            "overflow": null,
            "overflow_x": null,
            "overflow_y": null,
            "padding": null,
            "right": null,
            "top": null,
            "visibility": null,
            "width": null
          }
        },
        "3cccf12bbb55469f992fda4d3d51baf9": {
          "model_module": "@jupyter-widgets/controls",
          "model_module_version": "1.5.0",
          "model_name": "HTMLModel",
          "state": {
            "_dom_classes": [],
            "_model_module": "@jupyter-widgets/controls",
            "_model_module_version": "1.5.0",
            "_model_name": "HTMLModel",
            "_view_count": null,
            "_view_module": "@jupyter-widgets/controls",
            "_view_module_version": "1.5.0",
            "_view_name": "HTMLView",
            "description": "",
            "description_tooltip": null,
            "layout": "IPY_MODEL_c48de290a58547aeb6bf2be2e4d8b083",
            "placeholder": "​",
            "style": "IPY_MODEL_676629231e184af3803278397ab1bd17",
            "value": " 612/612 [00:00&lt;00:00, 6.30kB/s]"
          }
        },
        "41ff173b4440400e83152c188be69121": {
          "model_module": "@jupyter-widgets/base",
          "model_module_version": "1.2.0",
          "model_name": "LayoutModel",
          "state": {
            "_model_module": "@jupyter-widgets/base",
            "_model_module_version": "1.2.0",
            "_model_name": "LayoutModel",
            "_view_count": null,
            "_view_module": "@jupyter-widgets/base",
            "_view_module_version": "1.2.0",
            "_view_name": "LayoutView",
            "align_content": null,
            "align_items": null,
            "align_self": null,
            "border": null,
            "bottom": null,
            "display": null,
            "flex": null,
            "flex_flow": null,
            "grid_area": null,
            "grid_auto_columns": null,
            "grid_auto_flow": null,
            "grid_auto_rows": null,
            "grid_column": null,
            "grid_gap": null,
            "grid_row": null,
            "grid_template_areas": null,
            "grid_template_columns": null,
            "grid_template_rows": null,
            "height": null,
            "justify_content": null,
            "justify_items": null,
            "left": null,
            "margin": null,
            "max_height": null,
            "max_width": null,
            "min_height": null,
            "min_width": null,
            "object_fit": null,
            "object_position": null,
            "order": null,
            "overflow": null,
            "overflow_x": null,
            "overflow_y": null,
            "padding": null,
            "right": null,
            "top": null,
            "visibility": null,
            "width": null
          }
        },
        "422d8388971b4cbe9ad778f0e4e798e2": {
          "model_module": "@jupyter-widgets/controls",
          "model_module_version": "1.5.0",
          "model_name": "HTMLModel",
          "state": {
            "_dom_classes": [],
            "_model_module": "@jupyter-widgets/controls",
            "_model_module_version": "1.5.0",
            "_model_name": "HTMLModel",
            "_view_count": null,
            "_view_module": "@jupyter-widgets/controls",
            "_view_module_version": "1.5.0",
            "_view_name": "HTMLView",
            "description": "",
            "description_tooltip": null,
            "layout": "IPY_MODEL_a6221fff23e846a4aa5df8023aabcf0a",
            "placeholder": "​",
            "style": "IPY_MODEL_d659d15b50e940ce876893c5c755d730",
            "value": " 5/5 [00:28&lt;00:00,  5.66s/it]"
          }
        },
        "42da2fab949441db969932874aa4e0bf": {
          "model_module": "@jupyter-widgets/controls",
          "model_module_version": "1.5.0",
          "model_name": "DescriptionStyleModel",
          "state": {
            "_model_module": "@jupyter-widgets/controls",
            "_model_module_version": "1.5.0",
            "_model_name": "DescriptionStyleModel",
            "_view_count": null,
            "_view_module": "@jupyter-widgets/base",
            "_view_module_version": "1.2.0",
            "_view_name": "StyleView",
            "description_width": ""
          }
        },
        "4428599141be4b2ea3e79158d63bc387": {
          "model_module": "@jupyter-widgets/base",
          "model_module_version": "1.2.0",
          "model_name": "LayoutModel",
          "state": {
            "_model_module": "@jupyter-widgets/base",
            "_model_module_version": "1.2.0",
            "_model_name": "LayoutModel",
            "_view_count": null,
            "_view_module": "@jupyter-widgets/base",
            "_view_module_version": "1.2.0",
            "_view_name": "LayoutView",
            "align_content": null,
            "align_items": null,
            "align_self": null,
            "border": null,
            "bottom": null,
            "display": null,
            "flex": null,
            "flex_flow": null,
            "grid_area": null,
            "grid_auto_columns": null,
            "grid_auto_flow": null,
            "grid_auto_rows": null,
            "grid_column": null,
            "grid_gap": null,
            "grid_row": null,
            "grid_template_areas": null,
            "grid_template_columns": null,
            "grid_template_rows": null,
            "height": null,
            "justify_content": null,
            "justify_items": null,
            "left": null,
            "margin": null,
            "max_height": null,
            "max_width": null,
            "min_height": null,
            "min_width": null,
            "object_fit": null,
            "object_position": null,
            "order": null,
            "overflow": null,
            "overflow_x": null,
            "overflow_y": null,
            "padding": null,
            "right": null,
            "top": null,
            "visibility": null,
            "width": null
          }
        },
        "44f9c56ad8714ead83949953942b8ed3": {
          "model_module": "@jupyter-widgets/controls",
          "model_module_version": "1.5.0",
          "model_name": "HBoxModel",
          "state": {
            "_dom_classes": [],
            "_model_module": "@jupyter-widgets/controls",
            "_model_module_version": "1.5.0",
            "_model_name": "HBoxModel",
            "_view_count": null,
            "_view_module": "@jupyter-widgets/controls",
            "_view_module_version": "1.5.0",
            "_view_name": "HBoxView",
            "box_style": "",
            "children": [
              "IPY_MODEL_60aea3dee244427bab5dcbc87108b733",
              "IPY_MODEL_4d85a2bc32444b059686cfc7d496a8f8",
              "IPY_MODEL_0989ae47c43841509c6079adc4889c47"
            ],
            "layout": "IPY_MODEL_c4c3a14b283f49808f0758c8f5c0a13e"
          }
        },
        "47841ad0821148418dcb3a115d449600": {
          "model_module": "@jupyter-widgets/base",
          "model_module_version": "1.2.0",
          "model_name": "LayoutModel",
          "state": {
            "_model_module": "@jupyter-widgets/base",
            "_model_module_version": "1.2.0",
            "_model_name": "LayoutModel",
            "_view_count": null,
            "_view_module": "@jupyter-widgets/base",
            "_view_module_version": "1.2.0",
            "_view_name": "LayoutView",
            "align_content": null,
            "align_items": null,
            "align_self": null,
            "border": null,
            "bottom": null,
            "display": null,
            "flex": null,
            "flex_flow": null,
            "grid_area": null,
            "grid_auto_columns": null,
            "grid_auto_flow": null,
            "grid_auto_rows": null,
            "grid_column": null,
            "grid_gap": null,
            "grid_row": null,
            "grid_template_areas": null,
            "grid_template_columns": null,
            "grid_template_rows": null,
            "height": null,
            "justify_content": null,
            "justify_items": null,
            "left": null,
            "margin": null,
            "max_height": null,
            "max_width": null,
            "min_height": null,
            "min_width": null,
            "object_fit": null,
            "object_position": null,
            "order": null,
            "overflow": null,
            "overflow_x": null,
            "overflow_y": null,
            "padding": null,
            "right": null,
            "top": null,
            "visibility": null,
            "width": null
          }
        },
        "4a4fb5a0c87146f5be009065e72d69d2": {
          "model_module": "@jupyter-widgets/controls",
          "model_module_version": "1.5.0",
          "model_name": "ProgressStyleModel",
          "state": {
            "_model_module": "@jupyter-widgets/controls",
            "_model_module_version": "1.5.0",
            "_model_name": "ProgressStyleModel",
            "_view_count": null,
            "_view_module": "@jupyter-widgets/base",
            "_view_module_version": "1.2.0",
            "_view_name": "StyleView",
            "bar_color": null,
            "description_width": ""
          }
        },
        "4ab53fa030ff4d619b9698865718e49b": {
          "model_module": "@jupyter-widgets/controls",
          "model_module_version": "1.5.0",
          "model_name": "ProgressStyleModel",
          "state": {
            "_model_module": "@jupyter-widgets/controls",
            "_model_module_version": "1.5.0",
            "_model_name": "ProgressStyleModel",
            "_view_count": null,
            "_view_module": "@jupyter-widgets/base",
            "_view_module_version": "1.2.0",
            "_view_name": "StyleView",
            "bar_color": null,
            "description_width": ""
          }
        },
        "4bd709e410594e6591837a7e3cf30f31": {
          "model_module": "@jupyter-widgets/controls",
          "model_module_version": "1.5.0",
          "model_name": "HBoxModel",
          "state": {
            "_dom_classes": [],
            "_model_module": "@jupyter-widgets/controls",
            "_model_module_version": "1.5.0",
            "_model_name": "HBoxModel",
            "_view_count": null,
            "_view_module": "@jupyter-widgets/controls",
            "_view_module_version": "1.5.0",
            "_view_name": "HBoxView",
            "box_style": "",
            "children": [
              "IPY_MODEL_17e126ff993f4f62a96dee5b6a944a40",
              "IPY_MODEL_01269815ca48493b9163aa7211b10318",
              "IPY_MODEL_5cc01c9fd4494e7eace2b7af5b9017dd"
            ],
            "layout": "IPY_MODEL_575200bb9bee431ca0d3adfd850f045f"
          }
        },
        "4caff1771944455380a254123a5c6558": {
          "model_module": "@jupyter-widgets/controls",
          "model_module_version": "1.5.0",
          "model_name": "HBoxModel",
          "state": {
            "_dom_classes": [],
            "_model_module": "@jupyter-widgets/controls",
            "_model_module_version": "1.5.0",
            "_model_name": "HBoxModel",
            "_view_count": null,
            "_view_module": "@jupyter-widgets/controls",
            "_view_module_version": "1.5.0",
            "_view_name": "HBoxView",
            "box_style": "",
            "children": [
              "IPY_MODEL_0f80aec5713f4572bc42c4798d212881",
              "IPY_MODEL_c8a9539434f24361863b644c2880b60f",
              "IPY_MODEL_d5ad24b6eb104d898deec0e1f309af8e"
            ],
            "layout": "IPY_MODEL_a8cb16781556461ca2e6dabbe8c26896"
          }
        },
        "4d85a2bc32444b059686cfc7d496a8f8": {
          "model_module": "@jupyter-widgets/controls",
          "model_module_version": "1.5.0",
          "model_name": "FloatProgressModel",
          "state": {
            "_dom_classes": [],
            "_model_module": "@jupyter-widgets/controls",
            "_model_module_version": "1.5.0",
            "_model_name": "FloatProgressModel",
            "_view_count": null,
            "_view_module": "@jupyter-widgets/controls",
            "_view_module_version": "1.5.0",
            "_view_name": "ProgressView",
            "bar_style": "success",
            "description": "",
            "description_tooltip": null,
            "layout": "IPY_MODEL_22deb87494be483584bf164acb35644d",
            "max": 524619,
            "min": 0,
            "orientation": "horizontal",
            "style": "IPY_MODEL_4a4fb5a0c87146f5be009065e72d69d2",
            "value": 524619
          }
        },
        "4eef2003c7d045eda2e9f33c1102d75d": {
          "model_module": "@jupyter-widgets/controls",
          "model_module_version": "1.5.0",
          "model_name": "ProgressStyleModel",
          "state": {
            "_model_module": "@jupyter-widgets/controls",
            "_model_module_version": "1.5.0",
            "_model_name": "ProgressStyleModel",
            "_view_count": null,
            "_view_module": "@jupyter-widgets/base",
            "_view_module_version": "1.2.0",
            "_view_name": "StyleView",
            "bar_color": null,
            "description_width": ""
          }
        },
        "4f88e7cb315b45c2a22361472f36e26b": {
          "model_module": "@jupyter-widgets/base",
          "model_module_version": "1.2.0",
          "model_name": "LayoutModel",
          "state": {
            "_model_module": "@jupyter-widgets/base",
            "_model_module_version": "1.2.0",
            "_model_name": "LayoutModel",
            "_view_count": null,
            "_view_module": "@jupyter-widgets/base",
            "_view_module_version": "1.2.0",
            "_view_name": "LayoutView",
            "align_content": null,
            "align_items": null,
            "align_self": null,
            "border": null,
            "bottom": null,
            "display": null,
            "flex": null,
            "flex_flow": null,
            "grid_area": null,
            "grid_auto_columns": null,
            "grid_auto_flow": null,
            "grid_auto_rows": null,
            "grid_column": null,
            "grid_gap": null,
            "grid_row": null,
            "grid_template_areas": null,
            "grid_template_columns": null,
            "grid_template_rows": null,
            "height": null,
            "justify_content": null,
            "justify_items": null,
            "left": null,
            "margin": null,
            "max_height": null,
            "max_width": null,
            "min_height": null,
            "min_width": null,
            "object_fit": null,
            "object_position": null,
            "order": null,
            "overflow": null,
            "overflow_x": null,
            "overflow_y": null,
            "padding": null,
            "right": null,
            "top": null,
            "visibility": null,
            "width": null
          }
        },
        "529e873acefb41068f3f4bf8068b6171": {
          "model_module": "@jupyter-widgets/controls",
          "model_module_version": "1.5.0",
          "model_name": "HTMLModel",
          "state": {
            "_dom_classes": [],
            "_model_module": "@jupyter-widgets/controls",
            "_model_module_version": "1.5.0",
            "_model_name": "HTMLModel",
            "_view_count": null,
            "_view_module": "@jupyter-widgets/controls",
            "_view_module_version": "1.5.0",
            "_view_name": "HTMLView",
            "description": "",
            "description_tooltip": null,
            "layout": "IPY_MODEL_9fb8131b41dd44ee911beb5a5a4ecd8f",
            "placeholder": "​",
            "style": "IPY_MODEL_9ae6b0a270224bc29b545b15aa604e7b",
            "value": " 9/9 [00:58&lt;00:00,  7.46s/it]"
          }
        },
        "52d95cb5d43644c9a124d8aacbb8af52": {
          "model_module": "@jupyter-widgets/base",
          "model_module_version": "1.2.0",
          "model_name": "LayoutModel",
          "state": {
            "_model_module": "@jupyter-widgets/base",
            "_model_module_version": "1.2.0",
            "_model_name": "LayoutModel",
            "_view_count": null,
            "_view_module": "@jupyter-widgets/base",
            "_view_module_version": "1.2.0",
            "_view_name": "LayoutView",
            "align_content": null,
            "align_items": null,
            "align_self": null,
            "border": null,
            "bottom": null,
            "display": null,
            "flex": null,
            "flex_flow": null,
            "grid_area": null,
            "grid_auto_columns": null,
            "grid_auto_flow": null,
            "grid_auto_rows": null,
            "grid_column": null,
            "grid_gap": null,
            "grid_row": null,
            "grid_template_areas": null,
            "grid_template_columns": null,
            "grid_template_rows": null,
            "height": null,
            "justify_content": null,
            "justify_items": null,
            "left": null,
            "margin": null,
            "max_height": null,
            "max_width": null,
            "min_height": null,
            "min_width": null,
            "object_fit": null,
            "object_position": null,
            "order": null,
            "overflow": null,
            "overflow_x": null,
            "overflow_y": null,
            "padding": null,
            "right": null,
            "top": null,
            "visibility": null,
            "width": null
          }
        },
        "56d2ce27d3fc45e389ef97af2e096925": {
          "model_module": "@jupyter-widgets/controls",
          "model_module_version": "1.5.0",
          "model_name": "DescriptionStyleModel",
          "state": {
            "_model_module": "@jupyter-widgets/controls",
            "_model_module_version": "1.5.0",
            "_model_name": "DescriptionStyleModel",
            "_view_count": null,
            "_view_module": "@jupyter-widgets/base",
            "_view_module_version": "1.2.0",
            "_view_name": "StyleView",
            "description_width": ""
          }
        },
        "57340893622d4d3db1985acc6fef1194": {
          "model_module": "@jupyter-widgets/controls",
          "model_module_version": "1.5.0",
          "model_name": "ProgressStyleModel",
          "state": {
            "_model_module": "@jupyter-widgets/controls",
            "_model_module_version": "1.5.0",
            "_model_name": "ProgressStyleModel",
            "_view_count": null,
            "_view_module": "@jupyter-widgets/base",
            "_view_module_version": "1.2.0",
            "_view_name": "StyleView",
            "bar_color": null,
            "description_width": ""
          }
        },
        "574b5e3a2a69449d8fac3906d5b48410": {
          "model_module": "@jupyter-widgets/controls",
          "model_module_version": "1.5.0",
          "model_name": "DescriptionStyleModel",
          "state": {
            "_model_module": "@jupyter-widgets/controls",
            "_model_module_version": "1.5.0",
            "_model_name": "DescriptionStyleModel",
            "_view_count": null,
            "_view_module": "@jupyter-widgets/base",
            "_view_module_version": "1.2.0",
            "_view_name": "StyleView",
            "description_width": ""
          }
        },
        "575200bb9bee431ca0d3adfd850f045f": {
          "model_module": "@jupyter-widgets/base",
          "model_module_version": "1.2.0",
          "model_name": "LayoutModel",
          "state": {
            "_model_module": "@jupyter-widgets/base",
            "_model_module_version": "1.2.0",
            "_model_name": "LayoutModel",
            "_view_count": null,
            "_view_module": "@jupyter-widgets/base",
            "_view_module_version": "1.2.0",
            "_view_name": "LayoutView",
            "align_content": null,
            "align_items": null,
            "align_self": null,
            "border": null,
            "bottom": null,
            "display": null,
            "flex": null,
            "flex_flow": null,
            "grid_area": null,
            "grid_auto_columns": null,
            "grid_auto_flow": null,
            "grid_auto_rows": null,
            "grid_column": null,
            "grid_gap": null,
            "grid_row": null,
            "grid_template_areas": null,
            "grid_template_columns": null,
            "grid_template_rows": null,
            "height": null,
            "justify_content": null,
            "justify_items": null,
            "left": null,
            "margin": null,
            "max_height": null,
            "max_width": null,
            "min_height": null,
            "min_width": null,
            "object_fit": null,
            "object_position": null,
            "order": null,
            "overflow": null,
            "overflow_x": null,
            "overflow_y": null,
            "padding": null,
            "right": null,
            "top": null,
            "visibility": null,
            "width": null
          }
        },
        "5890fa32deef47dd95a6557a7e08e0a2": {
          "model_module": "@jupyter-widgets/base",
          "model_module_version": "1.2.0",
          "model_name": "LayoutModel",
          "state": {
            "_model_module": "@jupyter-widgets/base",
            "_model_module_version": "1.2.0",
            "_model_name": "LayoutModel",
            "_view_count": null,
            "_view_module": "@jupyter-widgets/base",
            "_view_module_version": "1.2.0",
            "_view_name": "LayoutView",
            "align_content": null,
            "align_items": null,
            "align_self": null,
            "border": null,
            "bottom": null,
            "display": null,
            "flex": null,
            "flex_flow": null,
            "grid_area": null,
            "grid_auto_columns": null,
            "grid_auto_flow": null,
            "grid_auto_rows": null,
            "grid_column": null,
            "grid_gap": null,
            "grid_row": null,
            "grid_template_areas": null,
            "grid_template_columns": null,
            "grid_template_rows": null,
            "height": null,
            "justify_content": null,
            "justify_items": null,
            "left": null,
            "margin": null,
            "max_height": null,
            "max_width": null,
            "min_height": null,
            "min_width": null,
            "object_fit": null,
            "object_position": null,
            "order": null,
            "overflow": null,
            "overflow_x": null,
            "overflow_y": null,
            "padding": null,
            "right": null,
            "top": null,
            "visibility": null,
            "width": null
          }
        },
        "5bab233a2a0648b6a0bf8240e817e9d6": {
          "model_module": "@jupyter-widgets/controls",
          "model_module_version": "1.5.0",
          "model_name": "HTMLModel",
          "state": {
            "_dom_classes": [],
            "_model_module": "@jupyter-widgets/controls",
            "_model_module_version": "1.5.0",
            "_model_name": "HTMLModel",
            "_view_count": null,
            "_view_module": "@jupyter-widgets/controls",
            "_view_module_version": "1.5.0",
            "_view_name": "HTMLView",
            "description": "",
            "description_tooltip": null,
            "layout": "IPY_MODEL_3c287dd2b21b455e989c9696773cb7fa",
            "placeholder": "​",
            "style": "IPY_MODEL_9450e92d36074f9f964b5a42d4c03d4c",
            "value": " 547/547 [00:00&lt;00:00, 32.2kB/s]"
          }
        },
        "5cc01c9fd4494e7eace2b7af5b9017dd": {
          "model_module": "@jupyter-widgets/controls",
          "model_module_version": "1.5.0",
          "model_name": "HTMLModel",
          "state": {
            "_dom_classes": [],
            "_model_module": "@jupyter-widgets/controls",
            "_model_module_version": "1.5.0",
            "_model_name": "HTMLModel",
            "_view_count": null,
            "_view_module": "@jupyter-widgets/controls",
            "_view_module_version": "1.5.0",
            "_view_name": "HTMLView",
            "description": "",
            "description_tooltip": null,
            "layout": "IPY_MODEL_98e91b6e308a47cdaedd083b2d8d5f54",
            "placeholder": "​",
            "style": "IPY_MODEL_a0374725dad34790914f3235b51dad56",
            "value": " 1.06M/1.06M [00:00&lt;00:00, 9.20MB/s]"
          }
        },
        "5f4b7d4f8a3a438db14523c2f24ce2b6": {
          "model_module": "@jupyter-widgets/base",
          "model_module_version": "1.2.0",
          "model_name": "LayoutModel",
          "state": {
            "_model_module": "@jupyter-widgets/base",
            "_model_module_version": "1.2.0",
            "_model_name": "LayoutModel",
            "_view_count": null,
            "_view_module": "@jupyter-widgets/base",
            "_view_module_version": "1.2.0",
            "_view_name": "LayoutView",
            "align_content": null,
            "align_items": null,
            "align_self": null,
            "border": null,
            "bottom": null,
            "display": null,
            "flex": null,
            "flex_flow": null,
            "grid_area": null,
            "grid_auto_columns": null,
            "grid_auto_flow": null,
            "grid_auto_rows": null,
            "grid_column": null,
            "grid_gap": null,
            "grid_row": null,
            "grid_template_areas": null,
            "grid_template_columns": null,
            "grid_template_rows": null,
            "height": null,
            "justify_content": null,
            "justify_items": null,
            "left": null,
            "margin": null,
            "max_height": null,
            "max_width": null,
            "min_height": null,
            "min_width": null,
            "object_fit": null,
            "object_position": null,
            "order": null,
            "overflow": null,
            "overflow_x": null,
            "overflow_y": null,
            "padding": null,
            "right": null,
            "top": null,
            "visibility": null,
            "width": null
          }
        },
        "5fdf1461ce004b339b873cb09d216a6e": {
          "model_module": "@jupyter-widgets/base",
          "model_module_version": "1.2.0",
          "model_name": "LayoutModel",
          "state": {
            "_model_module": "@jupyter-widgets/base",
            "_model_module_version": "1.2.0",
            "_model_name": "LayoutModel",
            "_view_count": null,
            "_view_module": "@jupyter-widgets/base",
            "_view_module_version": "1.2.0",
            "_view_name": "LayoutView",
            "align_content": null,
            "align_items": null,
            "align_self": null,
            "border": null,
            "bottom": null,
            "display": null,
            "flex": null,
            "flex_flow": null,
            "grid_area": null,
            "grid_auto_columns": null,
            "grid_auto_flow": null,
            "grid_auto_rows": null,
            "grid_column": null,
            "grid_gap": null,
            "grid_row": null,
            "grid_template_areas": null,
            "grid_template_columns": null,
            "grid_template_rows": null,
            "height": null,
            "justify_content": null,
            "justify_items": null,
            "left": null,
            "margin": null,
            "max_height": null,
            "max_width": null,
            "min_height": null,
            "min_width": null,
            "object_fit": null,
            "object_position": null,
            "order": null,
            "overflow": null,
            "overflow_x": null,
            "overflow_y": null,
            "padding": null,
            "right": null,
            "top": null,
            "visibility": null,
            "width": null
          }
        },
        "60aea3dee244427bab5dcbc87108b733": {
          "model_module": "@jupyter-widgets/controls",
          "model_module_version": "1.5.0",
          "model_name": "HTMLModel",
          "state": {
            "_dom_classes": [],
            "_model_module": "@jupyter-widgets/controls",
            "_model_module_version": "1.5.0",
            "_model_name": "HTMLModel",
            "_view_count": null,
            "_view_module": "@jupyter-widgets/controls",
            "_view_module_version": "1.5.0",
            "_view_name": "HTMLView",
            "description": "",
            "description_tooltip": null,
            "layout": "IPY_MODEL_2fc72f11d31742b79a64ddd2ae62ae10",
            "placeholder": "​",
            "style": "IPY_MODEL_358238c56d5046fbb3dfbba194ba175a",
            "value": "tokenizer/merges.txt: 100%"
          }
        },
        "6219ef12aa1f4a088124b3db2728b863": {
          "model_module": "@jupyter-widgets/controls",
          "model_module_version": "1.5.0",
          "model_name": "HBoxModel",
          "state": {
            "_dom_classes": [],
            "_model_module": "@jupyter-widgets/controls",
            "_model_module_version": "1.5.0",
            "_model_name": "HBoxModel",
            "_view_count": null,
            "_view_module": "@jupyter-widgets/controls",
            "_view_module_version": "1.5.0",
            "_view_name": "HBoxView",
            "box_style": "",
            "children": [
              "IPY_MODEL_ddbdfbbb73bc4687885ccd47073191f8",
              "IPY_MODEL_d1d5d269f8fa4002b4878b1d4f71e11c",
              "IPY_MODEL_0c141a9da8fa494986942246790d71e6"
            ],
            "layout": "IPY_MODEL_a8b6b10507244e848c717c5d5c55c820"
          }
        },
        "623b31678ddf46b4bd50082eddb0f0d4": {
          "model_module": "@jupyter-widgets/controls",
          "model_module_version": "1.5.0",
          "model_name": "ProgressStyleModel",
          "state": {
            "_model_module": "@jupyter-widgets/controls",
            "_model_module_version": "1.5.0",
            "_model_name": "ProgressStyleModel",
            "_view_count": null,
            "_view_module": "@jupyter-widgets/base",
            "_view_module_version": "1.2.0",
            "_view_name": "StyleView",
            "bar_color": null,
            "description_width": ""
          }
        },
        "6309bad3f5ee45958a55d08b0cb1af75": {
          "model_module": "@jupyter-widgets/controls",
          "model_module_version": "1.5.0",
          "model_name": "HBoxModel",
          "state": {
            "_dom_classes": [],
            "_model_module": "@jupyter-widgets/controls",
            "_model_module_version": "1.5.0",
            "_model_name": "HBoxModel",
            "_view_count": null,
            "_view_module": "@jupyter-widgets/controls",
            "_view_module_version": "1.5.0",
            "_view_name": "HBoxView",
            "box_style": "",
            "children": [
              "IPY_MODEL_3091135f6c38435ab06145a1475e8fc7",
              "IPY_MODEL_7a07dd0751994095b90394ae4dd4fdd4",
              "IPY_MODEL_f7d25a8f497d44ab81e2980029a2d498"
            ],
            "layout": "IPY_MODEL_963e680ae8fd4d7293f53bd20b64c13f"
          }
        },
        "6329a2ee79674508952e20bdd3a2e812": {
          "model_module": "@jupyter-widgets/controls",
          "model_module_version": "1.5.0",
          "model_name": "FloatProgressModel",
          "state": {
            "_dom_classes": [],
            "_model_module": "@jupyter-widgets/controls",
            "_model_module_version": "1.5.0",
            "_model_name": "FloatProgressModel",
            "_view_count": null,
            "_view_module": "@jupyter-widgets/controls",
            "_view_module_version": "1.5.0",
            "_view_name": "ProgressView",
            "bar_style": "success",
            "description": "",
            "description_tooltip": null,
            "layout": "IPY_MODEL_bec75b2467204221886d67da6312c1d7",
            "max": 737,
            "min": 0,
            "orientation": "horizontal",
            "style": "IPY_MODEL_a713d06996384b78a4ce30b98766d77e",
            "value": 737
          }
        },
        "63efc16b0a3c4c78959e0c8c2da696c9": {
          "model_module": "@jupyter-widgets/controls",
          "model_module_version": "1.5.0",
          "model_name": "HTMLModel",
          "state": {
            "_dom_classes": [],
            "_model_module": "@jupyter-widgets/controls",
            "_model_module_version": "1.5.0",
            "_model_name": "HTMLModel",
            "_view_count": null,
            "_view_module": "@jupyter-widgets/controls",
            "_view_module_version": "1.5.0",
            "_view_name": "HTMLView",
            "description": "",
            "description_tooltip": null,
            "layout": "IPY_MODEL_e2aec6218cdb4a1384ca571b9d9622c4",
            "placeholder": "​",
            "style": "IPY_MODEL_96b1591a943d41f1b1325c41a5bdb7c6",
            "value": "Fetching 9 files: 100%"
          }
        },
        "676629231e184af3803278397ab1bd17": {
          "model_module": "@jupyter-widgets/controls",
          "model_module_version": "1.5.0",
          "model_name": "DescriptionStyleModel",
          "state": {
            "_model_module": "@jupyter-widgets/controls",
            "_model_module_version": "1.5.0",
            "_model_name": "DescriptionStyleModel",
            "_view_count": null,
            "_view_module": "@jupyter-widgets/base",
            "_view_module_version": "1.2.0",
            "_view_name": "StyleView",
            "description_width": ""
          }
        },
        "689455123bc241bebc3e48ce9384e3c6": {
          "model_module": "@jupyter-widgets/controls",
          "model_module_version": "1.5.0",
          "model_name": "HTMLModel",
          "state": {
            "_dom_classes": [],
            "_model_module": "@jupyter-widgets/controls",
            "_model_module_version": "1.5.0",
            "_model_name": "HTMLModel",
            "_view_count": null,
            "_view_module": "@jupyter-widgets/controls",
            "_view_module_version": "1.5.0",
            "_view_name": "HTMLView",
            "description": "",
            "description_tooltip": null,
            "layout": "IPY_MODEL_52d95cb5d43644c9a124d8aacbb8af52",
            "placeholder": "​",
            "style": "IPY_MODEL_041b84519d8f4aef9257357133167548",
            "value": " 3.44G/3.44G [00:57&lt;00:00, 64.0MB/s]"
          }
        },
        "69f739ec416b440f969e65cabbe3b5ef": {
          "model_module": "@jupyter-widgets/controls",
          "model_module_version": "1.5.0",
          "model_name": "DescriptionStyleModel",
          "state": {
            "_model_module": "@jupyter-widgets/controls",
            "_model_module_version": "1.5.0",
            "_model_name": "DescriptionStyleModel",
            "_view_count": null,
            "_view_module": "@jupyter-widgets/base",
            "_view_module_version": "1.2.0",
            "_view_name": "StyleView",
            "description_width": ""
          }
        },
        "6a7041d4d14a43a9b8befaeb482e8373": {
          "model_module": "@jupyter-widgets/controls",
          "model_module_version": "1.5.0",
          "model_name": "FloatProgressModel",
          "state": {
            "_dom_classes": [],
            "_model_module": "@jupyter-widgets/controls",
            "_model_module_version": "1.5.0",
            "_model_name": "FloatProgressModel",
            "_view_count": null,
            "_view_module": "@jupyter-widgets/controls",
            "_view_module_version": "1.5.0",
            "_view_name": "ProgressView",
            "bar_style": "success",
            "description": "",
            "description_tooltip": null,
            "layout": "IPY_MODEL_70aec9356538499e809db88e366b5de6",
            "max": 612,
            "min": 0,
            "orientation": "horizontal",
            "style": "IPY_MODEL_f361558c1561413ca07746c5a2598c82",
            "value": 612
          }
        },
        "6ae3242e0c6a4daf8590592d3b2b6d8c": {
          "model_module": "@jupyter-widgets/controls",
          "model_module_version": "1.5.0",
          "model_name": "ProgressStyleModel",
          "state": {
            "_model_module": "@jupyter-widgets/controls",
            "_model_module_version": "1.5.0",
            "_model_name": "ProgressStyleModel",
            "_view_count": null,
            "_view_module": "@jupyter-widgets/base",
            "_view_module_version": "1.2.0",
            "_view_name": "StyleView",
            "bar_color": null,
            "description_width": ""
          }
        },
        "6b4a283d0307426b81ebf20268d507a0": {
          "model_module": "@jupyter-widgets/controls",
          "model_module_version": "1.5.0",
          "model_name": "HTMLModel",
          "state": {
            "_dom_classes": [],
            "_model_module": "@jupyter-widgets/controls",
            "_model_module_version": "1.5.0",
            "_model_name": "HTMLModel",
            "_view_count": null,
            "_view_module": "@jupyter-widgets/controls",
            "_view_module_version": "1.5.0",
            "_view_name": "HTMLView",
            "description": "",
            "description_tooltip": null,
            "layout": "IPY_MODEL_825b3ae6d9514b3693e2f77ce5e5e2f7",
            "placeholder": "​",
            "style": "IPY_MODEL_9fa4428d749942818d3b9eadf1720a03",
            "value": " 609/609 [00:00&lt;00:00, 42.2kB/s]"
          }
        },
        "6bfd3429d5184273a550033b120ab3d6": {
          "model_module": "@jupyter-widgets/controls",
          "model_module_version": "1.5.0",
          "model_name": "DescriptionStyleModel",
          "state": {
            "_model_module": "@jupyter-widgets/controls",
            "_model_module_version": "1.5.0",
            "_model_name": "DescriptionStyleModel",
            "_view_count": null,
            "_view_module": "@jupyter-widgets/base",
            "_view_module_version": "1.2.0",
            "_view_name": "StyleView",
            "description_width": ""
          }
        },
        "6cb7a1d768c64429b49c9c40705bcb9d": {
          "model_module": "@jupyter-widgets/base",
          "model_module_version": "1.2.0",
          "model_name": "LayoutModel",
          "state": {
            "_model_module": "@jupyter-widgets/base",
            "_model_module_version": "1.2.0",
            "_model_name": "LayoutModel",
            "_view_count": null,
            "_view_module": "@jupyter-widgets/base",
            "_view_module_version": "1.2.0",
            "_view_name": "LayoutView",
            "align_content": null,
            "align_items": null,
            "align_self": null,
            "border": null,
            "bottom": null,
            "display": null,
            "flex": null,
            "flex_flow": null,
            "grid_area": null,
            "grid_auto_columns": null,
            "grid_auto_flow": null,
            "grid_auto_rows": null,
            "grid_column": null,
            "grid_gap": null,
            "grid_row": null,
            "grid_template_areas": null,
            "grid_template_columns": null,
            "grid_template_rows": null,
            "height": null,
            "justify_content": null,
            "justify_items": null,
            "left": null,
            "margin": null,
            "max_height": null,
            "max_width": null,
            "min_height": null,
            "min_width": null,
            "object_fit": null,
            "object_position": null,
            "order": null,
            "overflow": null,
            "overflow_x": null,
            "overflow_y": null,
            "padding": null,
            "right": null,
            "top": null,
            "visibility": null,
            "width": null
          }
        },
        "6e199b5e069b4b0aaea36cfbb3e6639e": {
          "model_module": "@jupyter-widgets/base",
          "model_module_version": "1.2.0",
          "model_name": "LayoutModel",
          "state": {
            "_model_module": "@jupyter-widgets/base",
            "_model_module_version": "1.2.0",
            "_model_name": "LayoutModel",
            "_view_count": null,
            "_view_module": "@jupyter-widgets/base",
            "_view_module_version": "1.2.0",
            "_view_name": "LayoutView",
            "align_content": null,
            "align_items": null,
            "align_self": null,
            "border": null,
            "bottom": null,
            "display": null,
            "flex": null,
            "flex_flow": null,
            "grid_area": null,
            "grid_auto_columns": null,
            "grid_auto_flow": null,
            "grid_auto_rows": null,
            "grid_column": null,
            "grid_gap": null,
            "grid_row": null,
            "grid_template_areas": null,
            "grid_template_columns": null,
            "grid_template_rows": null,
            "height": null,
            "justify_content": null,
            "justify_items": null,
            "left": null,
            "margin": null,
            "max_height": null,
            "max_width": null,
            "min_height": null,
            "min_width": null,
            "object_fit": null,
            "object_position": null,
            "order": null,
            "overflow": null,
            "overflow_x": null,
            "overflow_y": null,
            "padding": null,
            "right": null,
            "top": null,
            "visibility": null,
            "width": "20px"
          }
        },
        "6e5d03c7b3694c55b0739b9fac5b84d1": {
          "model_module": "@jupyter-widgets/base",
          "model_module_version": "1.2.0",
          "model_name": "LayoutModel",
          "state": {
            "_model_module": "@jupyter-widgets/base",
            "_model_module_version": "1.2.0",
            "_model_name": "LayoutModel",
            "_view_count": null,
            "_view_module": "@jupyter-widgets/base",
            "_view_module_version": "1.2.0",
            "_view_name": "LayoutView",
            "align_content": null,
            "align_items": null,
            "align_self": null,
            "border": null,
            "bottom": null,
            "display": null,
            "flex": null,
            "flex_flow": null,
            "grid_area": null,
            "grid_auto_columns": null,
            "grid_auto_flow": null,
            "grid_auto_rows": null,
            "grid_column": null,
            "grid_gap": null,
            "grid_row": null,
            "grid_template_areas": null,
            "grid_template_columns": null,
            "grid_template_rows": null,
            "height": null,
            "justify_content": null,
            "justify_items": null,
            "left": null,
            "margin": null,
            "max_height": null,
            "max_width": null,
            "min_height": null,
            "min_width": null,
            "object_fit": null,
            "object_position": null,
            "order": null,
            "overflow": null,
            "overflow_x": null,
            "overflow_y": null,
            "padding": null,
            "right": null,
            "top": null,
            "visibility": null,
            "width": null
          }
        },
        "70aec9356538499e809db88e366b5de6": {
          "model_module": "@jupyter-widgets/base",
          "model_module_version": "1.2.0",
          "model_name": "LayoutModel",
          "state": {
            "_model_module": "@jupyter-widgets/base",
            "_model_module_version": "1.2.0",
            "_model_name": "LayoutModel",
            "_view_count": null,
            "_view_module": "@jupyter-widgets/base",
            "_view_module_version": "1.2.0",
            "_view_name": "LayoutView",
            "align_content": null,
            "align_items": null,
            "align_self": null,
            "border": null,
            "bottom": null,
            "display": null,
            "flex": null,
            "flex_flow": null,
            "grid_area": null,
            "grid_auto_columns": null,
            "grid_auto_flow": null,
            "grid_auto_rows": null,
            "grid_column": null,
            "grid_gap": null,
            "grid_row": null,
            "grid_template_areas": null,
            "grid_template_columns": null,
            "grid_template_rows": null,
            "height": null,
            "justify_content": null,
            "justify_items": null,
            "left": null,
            "margin": null,
            "max_height": null,
            "max_width": null,
            "min_height": null,
            "min_width": null,
            "object_fit": null,
            "object_position": null,
            "order": null,
            "overflow": null,
            "overflow_x": null,
            "overflow_y": null,
            "padding": null,
            "right": null,
            "top": null,
            "visibility": null,
            "width": null
          }
        },
        "72e85f84f9404337aaf28ae197ecbb4a": {
          "model_module": "@jupyter-widgets/base",
          "model_module_version": "1.2.0",
          "model_name": "LayoutModel",
          "state": {
            "_model_module": "@jupyter-widgets/base",
            "_model_module_version": "1.2.0",
            "_model_name": "LayoutModel",
            "_view_count": null,
            "_view_module": "@jupyter-widgets/base",
            "_view_module_version": "1.2.0",
            "_view_name": "LayoutView",
            "align_content": null,
            "align_items": null,
            "align_self": null,
            "border": null,
            "bottom": null,
            "display": null,
            "flex": null,
            "flex_flow": null,
            "grid_area": null,
            "grid_auto_columns": null,
            "grid_auto_flow": null,
            "grid_auto_rows": null,
            "grid_column": null,
            "grid_gap": null,
            "grid_row": null,
            "grid_template_areas": null,
            "grid_template_columns": null,
            "grid_template_rows": null,
            "height": null,
            "justify_content": null,
            "justify_items": null,
            "left": null,
            "margin": null,
            "max_height": null,
            "max_width": null,
            "min_height": null,
            "min_width": null,
            "object_fit": null,
            "object_position": null,
            "order": null,
            "overflow": null,
            "overflow_x": null,
            "overflow_y": null,
            "padding": null,
            "right": null,
            "top": null,
            "visibility": null,
            "width": null
          }
        },
        "76ca5bf64ddf441da0e7b2caddd68324": {
          "model_module": "@jupyter-widgets/controls",
          "model_module_version": "1.5.0",
          "model_name": "DescriptionStyleModel",
          "state": {
            "_model_module": "@jupyter-widgets/controls",
            "_model_module_version": "1.5.0",
            "_model_name": "DescriptionStyleModel",
            "_view_count": null,
            "_view_module": "@jupyter-widgets/base",
            "_view_module_version": "1.2.0",
            "_view_name": "StyleView",
            "description_width": ""
          }
        },
        "76e108e5f2024a66bfab6fff44a948ed": {
          "model_module": "@jupyter-widgets/controls",
          "model_module_version": "1.5.0",
          "model_name": "FloatProgressModel",
          "state": {
            "_dom_classes": [],
            "_model_module": "@jupyter-widgets/controls",
            "_model_module_version": "1.5.0",
            "_model_name": "FloatProgressModel",
            "_view_count": null,
            "_view_module": "@jupyter-widgets/controls",
            "_view_module_version": "1.5.0",
            "_view_name": "ProgressView",
            "bar_style": "success",
            "description": "",
            "description_tooltip": null,
            "layout": "IPY_MODEL_5890fa32deef47dd95a6557a7e08e0a2",
            "max": 9,
            "min": 0,
            "orientation": "horizontal",
            "style": "IPY_MODEL_d712115b9f624772aefb333e611e8e23",
            "value": 9
          }
        },
        "76e8adf9331d46a7b56a92f2865f875c": {
          "model_module": "@jupyter-widgets/controls",
          "model_module_version": "1.5.0",
          "model_name": "ProgressStyleModel",
          "state": {
            "_model_module": "@jupyter-widgets/controls",
            "_model_module_version": "1.5.0",
            "_model_name": "ProgressStyleModel",
            "_view_count": null,
            "_view_module": "@jupyter-widgets/base",
            "_view_module_version": "1.2.0",
            "_view_name": "StyleView",
            "bar_color": null,
            "description_width": ""
          }
        },
        "7a07dd0751994095b90394ae4dd4fdd4": {
          "model_module": "@jupyter-widgets/controls",
          "model_module_version": "1.5.0",
          "model_name": "FloatProgressModel",
          "state": {
            "_dom_classes": [],
            "_model_module": "@jupyter-widgets/controls",
            "_model_module_version": "1.5.0",
            "_model_name": "FloatProgressModel",
            "_view_count": null,
            "_view_module": "@jupyter-widgets/controls",
            "_view_module_version": "1.5.0",
            "_view_name": "ProgressView",
            "bar_style": "success",
            "description": "",
            "description_tooltip": null,
            "layout": "IPY_MODEL_9f935b02288d4b39bd51bf06001e894b",
            "max": 492265880,
            "min": 0,
            "orientation": "horizontal",
            "style": "IPY_MODEL_623b31678ddf46b4bd50082eddb0f0d4",
            "value": 492265880
          }
        },
        "7b116eb091ba47359c590a108314eca6": {
          "model_module": "@jupyter-widgets/base",
          "model_module_version": "1.2.0",
          "model_name": "LayoutModel",
          "state": {
            "_model_module": "@jupyter-widgets/base",
            "_model_module_version": "1.2.0",
            "_model_name": "LayoutModel",
            "_view_count": null,
            "_view_module": "@jupyter-widgets/base",
            "_view_module_version": "1.2.0",
            "_view_name": "LayoutView",
            "align_content": null,
            "align_items": null,
            "align_self": null,
            "border": null,
            "bottom": null,
            "display": null,
            "flex": null,
            "flex_flow": null,
            "grid_area": null,
            "grid_auto_columns": null,
            "grid_auto_flow": null,
            "grid_auto_rows": null,
            "grid_column": null,
            "grid_gap": null,
            "grid_row": null,
            "grid_template_areas": null,
            "grid_template_columns": null,
            "grid_template_rows": null,
            "height": null,
            "justify_content": null,
            "justify_items": null,
            "left": null,
            "margin": null,
            "max_height": null,
            "max_width": null,
            "min_height": null,
            "min_width": null,
            "object_fit": null,
            "object_position": null,
            "order": null,
            "overflow": null,
            "overflow_x": null,
            "overflow_y": null,
            "padding": null,
            "right": null,
            "top": null,
            "visibility": null,
            "width": null
          }
        },
        "7b32f086392b461abfb1dbeb9afe7173": {
          "model_module": "@jupyter-widgets/controls",
          "model_module_version": "1.5.0",
          "model_name": "HTMLModel",
          "state": {
            "_dom_classes": [],
            "_model_module": "@jupyter-widgets/controls",
            "_model_module_version": "1.5.0",
            "_model_name": "HTMLModel",
            "_view_count": null,
            "_view_module": "@jupyter-widgets/controls",
            "_view_module_version": "1.5.0",
            "_view_name": "HTMLView",
            "description": "",
            "description_tooltip": null,
            "layout": "IPY_MODEL_bb7a1d152fa44375a3afe518cb1e52a2",
            "placeholder": "​",
            "style": "IPY_MODEL_69f739ec416b440f969e65cabbe3b5ef",
            "value": "diffusion_pytorch_model.safetensors: 100%"
          }
        },
        "8061dbde2dcc457285b716a91ceeb3bd": {
          "model_module": "@jupyter-widgets/controls",
          "model_module_version": "1.5.0",
          "model_name": "DescriptionStyleModel",
          "state": {
            "_model_module": "@jupyter-widgets/controls",
            "_model_module_version": "1.5.0",
            "_model_name": "DescriptionStyleModel",
            "_view_count": null,
            "_view_module": "@jupyter-widgets/base",
            "_view_module_version": "1.2.0",
            "_view_name": "StyleView",
            "description_width": ""
          }
        },
        "825b3ae6d9514b3693e2f77ce5e5e2f7": {
          "model_module": "@jupyter-widgets/base",
          "model_module_version": "1.2.0",
          "model_name": "LayoutModel",
          "state": {
            "_model_module": "@jupyter-widgets/base",
            "_model_module_version": "1.2.0",
            "_model_name": "LayoutModel",
            "_view_count": null,
            "_view_module": "@jupyter-widgets/base",
            "_view_module_version": "1.2.0",
            "_view_name": "LayoutView",
            "align_content": null,
            "align_items": null,
            "align_self": null,
            "border": null,
            "bottom": null,
            "display": null,
            "flex": null,
            "flex_flow": null,
            "grid_area": null,
            "grid_auto_columns": null,
            "grid_auto_flow": null,
            "grid_auto_rows": null,
            "grid_column": null,
            "grid_gap": null,
            "grid_row": null,
            "grid_template_areas": null,
            "grid_template_columns": null,
            "grid_template_rows": null,
            "height": null,
            "justify_content": null,
            "justify_items": null,
            "left": null,
            "margin": null,
            "max_height": null,
            "max_width": null,
            "min_height": null,
            "min_width": null,
            "object_fit": null,
            "object_position": null,
            "order": null,
            "overflow": null,
            "overflow_x": null,
            "overflow_y": null,
            "padding": null,
            "right": null,
            "top": null,
            "visibility": null,
            "width": null
          }
        },
        "82e2a033a74441af955b4eee6df5bc33": {
          "model_module": "@jupyter-widgets/base",
          "model_module_version": "1.2.0",
          "model_name": "LayoutModel",
          "state": {
            "_model_module": "@jupyter-widgets/base",
            "_model_module_version": "1.2.0",
            "_model_name": "LayoutModel",
            "_view_count": null,
            "_view_module": "@jupyter-widgets/base",
            "_view_module_version": "1.2.0",
            "_view_name": "LayoutView",
            "align_content": null,
            "align_items": null,
            "align_self": null,
            "border": null,
            "bottom": null,
            "display": null,
            "flex": null,
            "flex_flow": null,
            "grid_area": null,
            "grid_auto_columns": null,
            "grid_auto_flow": null,
            "grid_auto_rows": null,
            "grid_column": null,
            "grid_gap": null,
            "grid_row": null,
            "grid_template_areas": null,
            "grid_template_columns": null,
            "grid_template_rows": null,
            "height": null,
            "justify_content": null,
            "justify_items": null,
            "left": null,
            "margin": null,
            "max_height": null,
            "max_width": null,
            "min_height": null,
            "min_width": null,
            "object_fit": null,
            "object_position": null,
            "order": null,
            "overflow": null,
            "overflow_x": null,
            "overflow_y": null,
            "padding": null,
            "right": null,
            "top": null,
            "visibility": null,
            "width": null
          }
        },
        "846ec4b714eb4e7483dc572be359b205": {
          "model_module": "@jupyter-widgets/controls",
          "model_module_version": "1.5.0",
          "model_name": "HTMLModel",
          "state": {
            "_dom_classes": [],
            "_model_module": "@jupyter-widgets/controls",
            "_model_module_version": "1.5.0",
            "_model_name": "HTMLModel",
            "_view_count": null,
            "_view_module": "@jupyter-widgets/controls",
            "_view_module_version": "1.5.0",
            "_view_name": "HTMLView",
            "description": "",
            "description_tooltip": null,
            "layout": "IPY_MODEL_931ffe3d1eb14725a69e3c54bf12b96b",
            "placeholder": "​",
            "style": "IPY_MODEL_76ca5bf64ddf441da0e7b2caddd68324",
            "value": " 25/25 [00:04&lt;00:00,  6.26it/s]"
          }
        },
        "8714be4216ae4be5ac2aa64284bc199c": {
          "model_module": "@jupyter-widgets/controls",
          "model_module_version": "1.5.0",
          "model_name": "HBoxModel",
          "state": {
            "_dom_classes": [],
            "_model_module": "@jupyter-widgets/controls",
            "_model_module_version": "1.5.0",
            "_model_name": "HBoxModel",
            "_view_count": null,
            "_view_module": "@jupyter-widgets/controls",
            "_view_module_version": "1.5.0",
            "_view_name": "HBoxView",
            "box_style": "",
            "children": [
              "IPY_MODEL_b43d25eecfe4425595f7faf4405c17b6",
              "IPY_MODEL_8e2dd3ae24794b898554ee75120739e8",
              "IPY_MODEL_6b4a283d0307426b81ebf20268d507a0"
            ],
            "layout": "IPY_MODEL_72e85f84f9404337aaf28ae197ecbb4a"
          }
        },
        "8d0bec8528194eeebec23ab56a4ff167": {
          "model_module": "@jupyter-widgets/controls",
          "model_module_version": "1.5.0",
          "model_name": "DescriptionStyleModel",
          "state": {
            "_model_module": "@jupyter-widgets/controls",
            "_model_module_version": "1.5.0",
            "_model_name": "DescriptionStyleModel",
            "_view_count": null,
            "_view_module": "@jupyter-widgets/base",
            "_view_module_version": "1.2.0",
            "_view_name": "StyleView",
            "description_width": ""
          }
        },
        "8e2dd3ae24794b898554ee75120739e8": {
          "model_module": "@jupyter-widgets/controls",
          "model_module_version": "1.5.0",
          "model_name": "FloatProgressModel",
          "state": {
            "_dom_classes": [],
            "_model_module": "@jupyter-widgets/controls",
            "_model_module_version": "1.5.0",
            "_model_name": "FloatProgressModel",
            "_view_count": null,
            "_view_module": "@jupyter-widgets/controls",
            "_view_module_version": "1.5.0",
            "_view_name": "ProgressView",
            "bar_style": "success",
            "description": "",
            "description_tooltip": null,
            "layout": "IPY_MODEL_bff8698146f847019a2b73b1b09e6984",
            "max": 609,
            "min": 0,
            "orientation": "horizontal",
            "style": "IPY_MODEL_6ae3242e0c6a4daf8590592d3b2b6d8c",
            "value": 609
          }
        },
        "8e9062b719834fe08615be929db45982": {
          "model_module": "@jupyter-widgets/controls",
          "model_module_version": "1.5.0",
          "model_name": "DescriptionStyleModel",
          "state": {
            "_model_module": "@jupyter-widgets/controls",
            "_model_module_version": "1.5.0",
            "_model_name": "DescriptionStyleModel",
            "_view_count": null,
            "_view_module": "@jupyter-widgets/base",
            "_view_module_version": "1.2.0",
            "_view_name": "StyleView",
            "description_width": ""
          }
        },
        "8f037537f6654dc2a6976e68041a137a": {
          "model_module": "@jupyter-widgets/controls",
          "model_module_version": "1.5.0",
          "model_name": "HBoxModel",
          "state": {
            "_dom_classes": [],
            "_model_module": "@jupyter-widgets/controls",
            "_model_module_version": "1.5.0",
            "_model_name": "HBoxModel",
            "_view_count": null,
            "_view_module": "@jupyter-widgets/controls",
            "_view_module_version": "1.5.0",
            "_view_name": "HBoxView",
            "box_style": "",
            "children": [
              "IPY_MODEL_b3cab574c01f4c789adc7c213664477a",
              "IPY_MODEL_a21d06d115204d5cbd7861a9f6ea1db0",
              "IPY_MODEL_5bab233a2a0648b6a0bf8240e817e9d6"
            ],
            "layout": "IPY_MODEL_f7d27624ba3b4051a78d34f08bfc49ac"
          }
        },
        "9234aab1582b4da68843c30957492eb5": {
          "model_module": "@jupyter-widgets/controls",
          "model_module_version": "1.5.0",
          "model_name": "HBoxModel",
          "state": {
            "_dom_classes": [],
            "_model_module": "@jupyter-widgets/controls",
            "_model_module_version": "1.5.0",
            "_model_name": "HBoxModel",
            "_view_count": null,
            "_view_module": "@jupyter-widgets/controls",
            "_view_module_version": "1.5.0",
            "_view_name": "HBoxView",
            "box_style": "",
            "children": [
              "IPY_MODEL_9edba8b3b0674deaac7f0647cb16ec9d",
              "IPY_MODEL_fdf61524bf7d45b987cf99c9ff9277f0",
              "IPY_MODEL_fb1a77ab806245bfaa12a5a26c1eae05"
            ],
            "layout": "IPY_MODEL_47841ad0821148418dcb3a115d449600"
          }
        },
        "931ffe3d1eb14725a69e3c54bf12b96b": {
          "model_module": "@jupyter-widgets/base",
          "model_module_version": "1.2.0",
          "model_name": "LayoutModel",
          "state": {
            "_model_module": "@jupyter-widgets/base",
            "_model_module_version": "1.2.0",
            "_model_name": "LayoutModel",
            "_view_count": null,
            "_view_module": "@jupyter-widgets/base",
            "_view_module_version": "1.2.0",
            "_view_name": "LayoutView",
            "align_content": null,
            "align_items": null,
            "align_self": null,
            "border": null,
            "bottom": null,
            "display": null,
            "flex": null,
            "flex_flow": null,
            "grid_area": null,
            "grid_auto_columns": null,
            "grid_auto_flow": null,
            "grid_auto_rows": null,
            "grid_column": null,
            "grid_gap": null,
            "grid_row": null,
            "grid_template_areas": null,
            "grid_template_columns": null,
            "grid_template_rows": null,
            "height": null,
            "justify_content": null,
            "justify_items": null,
            "left": null,
            "margin": null,
            "max_height": null,
            "max_width": null,
            "min_height": null,
            "min_width": null,
            "object_fit": null,
            "object_position": null,
            "order": null,
            "overflow": null,
            "overflow_x": null,
            "overflow_y": null,
            "padding": null,
            "right": null,
            "top": null,
            "visibility": null,
            "width": null
          }
        },
        "94185762c8a9480897cec682d832f891": {
          "model_module": "@jupyter-widgets/base",
          "model_module_version": "1.2.0",
          "model_name": "LayoutModel",
          "state": {
            "_model_module": "@jupyter-widgets/base",
            "_model_module_version": "1.2.0",
            "_model_name": "LayoutModel",
            "_view_count": null,
            "_view_module": "@jupyter-widgets/base",
            "_view_module_version": "1.2.0",
            "_view_name": "LayoutView",
            "align_content": null,
            "align_items": null,
            "align_self": null,
            "border": null,
            "bottom": null,
            "display": null,
            "flex": null,
            "flex_flow": null,
            "grid_area": null,
            "grid_auto_columns": null,
            "grid_auto_flow": null,
            "grid_auto_rows": null,
            "grid_column": null,
            "grid_gap": null,
            "grid_row": null,
            "grid_template_areas": null,
            "grid_template_columns": null,
            "grid_template_rows": null,
            "height": null,
            "justify_content": null,
            "justify_items": null,
            "left": null,
            "margin": null,
            "max_height": null,
            "max_width": null,
            "min_height": null,
            "min_width": null,
            "object_fit": null,
            "object_position": null,
            "order": null,
            "overflow": null,
            "overflow_x": null,
            "overflow_y": null,
            "padding": null,
            "right": null,
            "top": null,
            "visibility": null,
            "width": null
          }
        },
        "9450e92d36074f9f964b5a42d4c03d4c": {
          "model_module": "@jupyter-widgets/controls",
          "model_module_version": "1.5.0",
          "model_name": "DescriptionStyleModel",
          "state": {
            "_model_module": "@jupyter-widgets/controls",
            "_model_module_version": "1.5.0",
            "_model_name": "DescriptionStyleModel",
            "_view_count": null,
            "_view_module": "@jupyter-widgets/base",
            "_view_module_version": "1.2.0",
            "_view_name": "StyleView",
            "description_width": ""
          }
        },
        "963e680ae8fd4d7293f53bd20b64c13f": {
          "model_module": "@jupyter-widgets/base",
          "model_module_version": "1.2.0",
          "model_name": "LayoutModel",
          "state": {
            "_model_module": "@jupyter-widgets/base",
            "_model_module_version": "1.2.0",
            "_model_name": "LayoutModel",
            "_view_count": null,
            "_view_module": "@jupyter-widgets/base",
            "_view_module_version": "1.2.0",
            "_view_name": "LayoutView",
            "align_content": null,
            "align_items": null,
            "align_self": null,
            "border": null,
            "bottom": null,
            "display": null,
            "flex": null,
            "flex_flow": null,
            "grid_area": null,
            "grid_auto_columns": null,
            "grid_auto_flow": null,
            "grid_auto_rows": null,
            "grid_column": null,
            "grid_gap": null,
            "grid_row": null,
            "grid_template_areas": null,
            "grid_template_columns": null,
            "grid_template_rows": null,
            "height": null,
            "justify_content": null,
            "justify_items": null,
            "left": null,
            "margin": null,
            "max_height": null,
            "max_width": null,
            "min_height": null,
            "min_width": null,
            "object_fit": null,
            "object_position": null,
            "order": null,
            "overflow": null,
            "overflow_x": null,
            "overflow_y": null,
            "padding": null,
            "right": null,
            "top": null,
            "visibility": null,
            "width": null
          }
        },
        "96806e0fe7424adf817d23b45a3eb6f1": {
          "model_module": "@jupyter-widgets/controls",
          "model_module_version": "1.5.0",
          "model_name": "HTMLModel",
          "state": {
            "_dom_classes": [],
            "_model_module": "@jupyter-widgets/controls",
            "_model_module_version": "1.5.0",
            "_model_name": "HTMLModel",
            "_view_count": null,
            "_view_module": "@jupyter-widgets/controls",
            "_view_module_version": "1.5.0",
            "_view_name": "HTMLView",
            "description": "",
            "description_tooltip": null,
            "layout": "IPY_MODEL_1e910d8730434de4b3dad763dcf7f9c4",
            "placeholder": "​",
            "style": "IPY_MODEL_3b8f77e9fc484d15ac473f59af19f43c",
            "value": " 335M/335M [00:02&lt;00:00, 151MB/s]"
          }
        },
        "96b1591a943d41f1b1325c41a5bdb7c6": {
          "model_module": "@jupyter-widgets/controls",
          "model_module_version": "1.5.0",
          "model_name": "DescriptionStyleModel",
          "state": {
            "_model_module": "@jupyter-widgets/controls",
            "_model_module_version": "1.5.0",
            "_model_name": "DescriptionStyleModel",
            "_view_count": null,
            "_view_module": "@jupyter-widgets/base",
            "_view_module_version": "1.2.0",
            "_view_name": "StyleView",
            "description_width": ""
          }
        },
        "96fdf0b9604c48eeb5aa5e9d1d3e5917": {
          "model_module": "@jupyter-widgets/controls",
          "model_module_version": "1.5.0",
          "model_name": "HBoxModel",
          "state": {
            "_dom_classes": [],
            "_model_module": "@jupyter-widgets/controls",
            "_model_module_version": "1.5.0",
            "_model_name": "HBoxModel",
            "_view_count": null,
            "_view_module": "@jupyter-widgets/controls",
            "_view_module_version": "1.5.0",
            "_view_name": "HBoxView",
            "box_style": "",
            "children": [
              "IPY_MODEL_2fba8ccf24a2477482897ae9fa9d7ebc",
              "IPY_MODEL_0d5abe669ca34e6ba62a5d3574e6d98d",
              "IPY_MODEL_422d8388971b4cbe9ad778f0e4e798e2"
            ],
            "layout": "IPY_MODEL_6cb7a1d768c64429b49c9c40705bcb9d"
          }
        },
        "98e91b6e308a47cdaedd083b2d8d5f54": {
          "model_module": "@jupyter-widgets/base",
          "model_module_version": "1.2.0",
          "model_name": "LayoutModel",
          "state": {
            "_model_module": "@jupyter-widgets/base",
            "_model_module_version": "1.2.0",
            "_model_name": "LayoutModel",
            "_view_count": null,
            "_view_module": "@jupyter-widgets/base",
            "_view_module_version": "1.2.0",
            "_view_name": "LayoutView",
            "align_content": null,
            "align_items": null,
            "align_self": null,
            "border": null,
            "bottom": null,
            "display": null,
            "flex": null,
            "flex_flow": null,
            "grid_area": null,
            "grid_auto_columns": null,
            "grid_auto_flow": null,
            "grid_auto_rows": null,
            "grid_column": null,
            "grid_gap": null,
            "grid_row": null,
            "grid_template_areas": null,
            "grid_template_columns": null,
            "grid_template_rows": null,
            "height": null,
            "justify_content": null,
            "justify_items": null,
            "left": null,
            "margin": null,
            "max_height": null,
            "max_width": null,
            "min_height": null,
            "min_width": null,
            "object_fit": null,
            "object_position": null,
            "order": null,
            "overflow": null,
            "overflow_x": null,
            "overflow_y": null,
            "padding": null,
            "right": null,
            "top": null,
            "visibility": null,
            "width": null
          }
        },
        "9928f2684da64c7e810ad883dd3603e3": {
          "model_module": "@jupyter-widgets/controls",
          "model_module_version": "1.5.0",
          "model_name": "ProgressStyleModel",
          "state": {
            "_model_module": "@jupyter-widgets/controls",
            "_model_module_version": "1.5.0",
            "_model_name": "ProgressStyleModel",
            "_view_count": null,
            "_view_module": "@jupyter-widgets/base",
            "_view_module_version": "1.2.0",
            "_view_name": "StyleView",
            "bar_color": null,
            "description_width": ""
          }
        },
        "9ae6b0a270224bc29b545b15aa604e7b": {
          "model_module": "@jupyter-widgets/controls",
          "model_module_version": "1.5.0",
          "model_name": "DescriptionStyleModel",
          "state": {
            "_model_module": "@jupyter-widgets/controls",
            "_model_module_version": "1.5.0",
            "_model_name": "DescriptionStyleModel",
            "_view_count": null,
            "_view_module": "@jupyter-widgets/base",
            "_view_module_version": "1.2.0",
            "_view_name": "StyleView",
            "description_width": ""
          }
        },
        "9c513a6baa294ec89a88ad2556f94e84": {
          "model_module": "@jupyter-widgets/controls",
          "model_module_version": "1.5.0",
          "model_name": "HBoxModel",
          "state": {
            "_dom_classes": [],
            "_model_module": "@jupyter-widgets/controls",
            "_model_module_version": "1.5.0",
            "_model_name": "HBoxModel",
            "_view_count": null,
            "_view_module": "@jupyter-widgets/controls",
            "_view_module_version": "1.5.0",
            "_view_name": "HBoxView",
            "box_style": "",
            "children": [
              "IPY_MODEL_37c171a263cd451c865b9c13e8cecde5",
              "IPY_MODEL_38e54069dbe649a9a49541b1ca9d98b5",
              "IPY_MODEL_e1da3159e29e4a6f856604aad845c9b6"
            ],
            "layout": "IPY_MODEL_d6e4adb7635441928885eb75fe554a68"
          }
        },
        "9edba8b3b0674deaac7f0647cb16ec9d": {
          "model_module": "@jupyter-widgets/controls",
          "model_module_version": "1.5.0",
          "model_name": "HTMLModel",
          "state": {
            "_dom_classes": [],
            "_model_module": "@jupyter-widgets/controls",
            "_model_module_version": "1.5.0",
            "_model_name": "HTMLModel",
            "_view_count": null,
            "_view_module": "@jupyter-widgets/controls",
            "_view_module_version": "1.5.0",
            "_view_name": "HTMLView",
            "description": "",
            "description_tooltip": null,
            "layout": "IPY_MODEL_6e5d03c7b3694c55b0739b9fac5b84d1",
            "placeholder": "​",
            "style": "IPY_MODEL_574b5e3a2a69449d8fac3906d5b48410",
            "value": "unet/config.json: 100%"
          }
        },
        "9f6572d23c9e41ce8eaa1633623352cc": {
          "model_module": "@jupyter-widgets/base",
          "model_module_version": "1.2.0",
          "model_name": "LayoutModel",
          "state": {
            "_model_module": "@jupyter-widgets/base",
            "_model_module_version": "1.2.0",
            "_model_name": "LayoutModel",
            "_view_count": null,
            "_view_module": "@jupyter-widgets/base",
            "_view_module_version": "1.2.0",
            "_view_name": "LayoutView",
            "align_content": null,
            "align_items": null,
            "align_self": null,
            "border": null,
            "bottom": null,
            "display": null,
            "flex": null,
            "flex_flow": null,
            "grid_area": null,
            "grid_auto_columns": null,
            "grid_auto_flow": null,
            "grid_auto_rows": null,
            "grid_column": null,
            "grid_gap": null,
            "grid_row": null,
            "grid_template_areas": null,
            "grid_template_columns": null,
            "grid_template_rows": null,
            "height": null,
            "justify_content": null,
            "justify_items": null,
            "left": null,
            "margin": null,
            "max_height": null,
            "max_width": null,
            "min_height": null,
            "min_width": null,
            "object_fit": null,
            "object_position": null,
            "order": null,
            "overflow": null,
            "overflow_x": null,
            "overflow_y": null,
            "padding": null,
            "right": null,
            "top": null,
            "visibility": null,
            "width": null
          }
        },
        "9f935b02288d4b39bd51bf06001e894b": {
          "model_module": "@jupyter-widgets/base",
          "model_module_version": "1.2.0",
          "model_name": "LayoutModel",
          "state": {
            "_model_module": "@jupyter-widgets/base",
            "_model_module_version": "1.2.0",
            "_model_name": "LayoutModel",
            "_view_count": null,
            "_view_module": "@jupyter-widgets/base",
            "_view_module_version": "1.2.0",
            "_view_name": "LayoutView",
            "align_content": null,
            "align_items": null,
            "align_self": null,
            "border": null,
            "bottom": null,
            "display": null,
            "flex": null,
            "flex_flow": null,
            "grid_area": null,
            "grid_auto_columns": null,
            "grid_auto_flow": null,
            "grid_auto_rows": null,
            "grid_column": null,
            "grid_gap": null,
            "grid_row": null,
            "grid_template_areas": null,
            "grid_template_columns": null,
            "grid_template_rows": null,
            "height": null,
            "justify_content": null,
            "justify_items": null,
            "left": null,
            "margin": null,
            "max_height": null,
            "max_width": null,
            "min_height": null,
            "min_width": null,
            "object_fit": null,
            "object_position": null,
            "order": null,
            "overflow": null,
            "overflow_x": null,
            "overflow_y": null,
            "padding": null,
            "right": null,
            "top": null,
            "visibility": null,
            "width": null
          }
        },
        "9fa4428d749942818d3b9eadf1720a03": {
          "model_module": "@jupyter-widgets/controls",
          "model_module_version": "1.5.0",
          "model_name": "DescriptionStyleModel",
          "state": {
            "_model_module": "@jupyter-widgets/controls",
            "_model_module_version": "1.5.0",
            "_model_name": "DescriptionStyleModel",
            "_view_count": null,
            "_view_module": "@jupyter-widgets/base",
            "_view_module_version": "1.2.0",
            "_view_name": "StyleView",
            "description_width": ""
          }
        },
        "9fb8131b41dd44ee911beb5a5a4ecd8f": {
          "model_module": "@jupyter-widgets/base",
          "model_module_version": "1.2.0",
          "model_name": "LayoutModel",
          "state": {
            "_model_module": "@jupyter-widgets/base",
            "_model_module_version": "1.2.0",
            "_model_name": "LayoutModel",
            "_view_count": null,
            "_view_module": "@jupyter-widgets/base",
            "_view_module_version": "1.2.0",
            "_view_name": "LayoutView",
            "align_content": null,
            "align_items": null,
            "align_self": null,
            "border": null,
            "bottom": null,
            "display": null,
            "flex": null,
            "flex_flow": null,
            "grid_area": null,
            "grid_auto_columns": null,
            "grid_auto_flow": null,
            "grid_auto_rows": null,
            "grid_column": null,
            "grid_gap": null,
            "grid_row": null,
            "grid_template_areas": null,
            "grid_template_columns": null,
            "grid_template_rows": null,
            "height": null,
            "justify_content": null,
            "justify_items": null,
            "left": null,
            "margin": null,
            "max_height": null,
            "max_width": null,
            "min_height": null,
            "min_width": null,
            "object_fit": null,
            "object_position": null,
            "order": null,
            "overflow": null,
            "overflow_x": null,
            "overflow_y": null,
            "padding": null,
            "right": null,
            "top": null,
            "visibility": null,
            "width": null
          }
        },
        "a0374725dad34790914f3235b51dad56": {
          "model_module": "@jupyter-widgets/controls",
          "model_module_version": "1.5.0",
          "model_name": "DescriptionStyleModel",
          "state": {
            "_model_module": "@jupyter-widgets/controls",
            "_model_module_version": "1.5.0",
            "_model_name": "DescriptionStyleModel",
            "_view_count": null,
            "_view_module": "@jupyter-widgets/base",
            "_view_module_version": "1.2.0",
            "_view_name": "StyleView",
            "description_width": ""
          }
        },
        "a21d06d115204d5cbd7861a9f6ea1db0": {
          "model_module": "@jupyter-widgets/controls",
          "model_module_version": "1.5.0",
          "model_name": "FloatProgressModel",
          "state": {
            "_dom_classes": [],
            "_model_module": "@jupyter-widgets/controls",
            "_model_module_version": "1.5.0",
            "_model_name": "FloatProgressModel",
            "_view_count": null,
            "_view_module": "@jupyter-widgets/controls",
            "_view_module_version": "1.5.0",
            "_view_name": "ProgressView",
            "bar_style": "success",
            "description": "",
            "description_tooltip": null,
            "layout": "IPY_MODEL_5fdf1461ce004b339b873cb09d216a6e",
            "max": 547,
            "min": 0,
            "orientation": "horizontal",
            "style": "IPY_MODEL_9928f2684da64c7e810ad883dd3603e3",
            "value": 547
          }
        },
        "a239eea13cdb48b1a265ef6d3948c118": {
          "model_module": "@jupyter-widgets/controls",
          "model_module_version": "1.5.0",
          "model_name": "ProgressStyleModel",
          "state": {
            "_model_module": "@jupyter-widgets/controls",
            "_model_module_version": "1.5.0",
            "_model_name": "ProgressStyleModel",
            "_view_count": null,
            "_view_module": "@jupyter-widgets/base",
            "_view_module_version": "1.2.0",
            "_view_name": "StyleView",
            "bar_color": null,
            "description_width": ""
          }
        },
        "a6221fff23e846a4aa5df8023aabcf0a": {
          "model_module": "@jupyter-widgets/base",
          "model_module_version": "1.2.0",
          "model_name": "LayoutModel",
          "state": {
            "_model_module": "@jupyter-widgets/base",
            "_model_module_version": "1.2.0",
            "_model_name": "LayoutModel",
            "_view_count": null,
            "_view_module": "@jupyter-widgets/base",
            "_view_module_version": "1.2.0",
            "_view_name": "LayoutView",
            "align_content": null,
            "align_items": null,
            "align_self": null,
            "border": null,
            "bottom": null,
            "display": null,
            "flex": null,
            "flex_flow": null,
            "grid_area": null,
            "grid_auto_columns": null,
            "grid_auto_flow": null,
            "grid_auto_rows": null,
            "grid_column": null,
            "grid_gap": null,
            "grid_row": null,
            "grid_template_areas": null,
            "grid_template_columns": null,
            "grid_template_rows": null,
            "height": null,
            "justify_content": null,
            "justify_items": null,
            "left": null,
            "margin": null,
            "max_height": null,
            "max_width": null,
            "min_height": null,
            "min_width": null,
            "object_fit": null,
            "object_position": null,
            "order": null,
            "overflow": null,
            "overflow_x": null,
            "overflow_y": null,
            "padding": null,
            "right": null,
            "top": null,
            "visibility": null,
            "width": null
          }
        },
        "a713d06996384b78a4ce30b98766d77e": {
          "model_module": "@jupyter-widgets/controls",
          "model_module_version": "1.5.0",
          "model_name": "ProgressStyleModel",
          "state": {
            "_model_module": "@jupyter-widgets/controls",
            "_model_module_version": "1.5.0",
            "_model_name": "ProgressStyleModel",
            "_view_count": null,
            "_view_module": "@jupyter-widgets/base",
            "_view_module_version": "1.2.0",
            "_view_name": "StyleView",
            "bar_color": null,
            "description_width": ""
          }
        },
        "a8b6b10507244e848c717c5d5c55c820": {
          "model_module": "@jupyter-widgets/base",
          "model_module_version": "1.2.0",
          "model_name": "LayoutModel",
          "state": {
            "_model_module": "@jupyter-widgets/base",
            "_model_module_version": "1.2.0",
            "_model_name": "LayoutModel",
            "_view_count": null,
            "_view_module": "@jupyter-widgets/base",
            "_view_module_version": "1.2.0",
            "_view_name": "LayoutView",
            "align_content": null,
            "align_items": null,
            "align_self": null,
            "border": null,
            "bottom": null,
            "display": null,
            "flex": null,
            "flex_flow": null,
            "grid_area": null,
            "grid_auto_columns": null,
            "grid_auto_flow": null,
            "grid_auto_rows": null,
            "grid_column": null,
            "grid_gap": null,
            "grid_row": null,
            "grid_template_areas": null,
            "grid_template_columns": null,
            "grid_template_rows": null,
            "height": null,
            "justify_content": null,
            "justify_items": null,
            "left": null,
            "margin": null,
            "max_height": null,
            "max_width": null,
            "min_height": null,
            "min_width": null,
            "object_fit": null,
            "object_position": null,
            "order": null,
            "overflow": null,
            "overflow_x": null,
            "overflow_y": null,
            "padding": null,
            "right": null,
            "top": null,
            "visibility": null,
            "width": null
          }
        },
        "a8cb16781556461ca2e6dabbe8c26896": {
          "model_module": "@jupyter-widgets/base",
          "model_module_version": "1.2.0",
          "model_name": "LayoutModel",
          "state": {
            "_model_module": "@jupyter-widgets/base",
            "_model_module_version": "1.2.0",
            "_model_name": "LayoutModel",
            "_view_count": null,
            "_view_module": "@jupyter-widgets/base",
            "_view_module_version": "1.2.0",
            "_view_name": "LayoutView",
            "align_content": null,
            "align_items": null,
            "align_self": null,
            "border": null,
            "bottom": null,
            "display": null,
            "flex": null,
            "flex_flow": null,
            "grid_area": null,
            "grid_auto_columns": null,
            "grid_auto_flow": null,
            "grid_auto_rows": null,
            "grid_column": null,
            "grid_gap": null,
            "grid_row": null,
            "grid_template_areas": null,
            "grid_template_columns": null,
            "grid_template_rows": null,
            "height": null,
            "justify_content": null,
            "justify_items": null,
            "left": null,
            "margin": null,
            "max_height": null,
            "max_width": null,
            "min_height": null,
            "min_width": null,
            "object_fit": null,
            "object_position": null,
            "order": null,
            "overflow": null,
            "overflow_x": null,
            "overflow_y": null,
            "padding": null,
            "right": null,
            "top": null,
            "visibility": null,
            "width": null
          }
        },
        "a991d8509f7f4b0da0e068015de441f9": {
          "model_module": "@jupyter-widgets/base",
          "model_module_version": "1.2.0",
          "model_name": "LayoutModel",
          "state": {
            "_model_module": "@jupyter-widgets/base",
            "_model_module_version": "1.2.0",
            "_model_name": "LayoutModel",
            "_view_count": null,
            "_view_module": "@jupyter-widgets/base",
            "_view_module_version": "1.2.0",
            "_view_name": "LayoutView",
            "align_content": null,
            "align_items": null,
            "align_self": null,
            "border": null,
            "bottom": null,
            "display": null,
            "flex": null,
            "flex_flow": null,
            "grid_area": null,
            "grid_auto_columns": null,
            "grid_auto_flow": null,
            "grid_auto_rows": null,
            "grid_column": null,
            "grid_gap": null,
            "grid_row": null,
            "grid_template_areas": null,
            "grid_template_columns": null,
            "grid_template_rows": null,
            "height": null,
            "justify_content": null,
            "justify_items": null,
            "left": null,
            "margin": null,
            "max_height": null,
            "max_width": null,
            "min_height": null,
            "min_width": null,
            "object_fit": null,
            "object_position": null,
            "order": null,
            "overflow": null,
            "overflow_x": null,
            "overflow_y": null,
            "padding": null,
            "right": null,
            "top": null,
            "visibility": null,
            "width": null
          }
        },
        "a9c2feaedabd40608a0ce368491d3fb2": {
          "model_module": "@jupyter-widgets/controls",
          "model_module_version": "1.5.0",
          "model_name": "HTMLModel",
          "state": {
            "_dom_classes": [],
            "_model_module": "@jupyter-widgets/controls",
            "_model_module_version": "1.5.0",
            "_model_name": "HTMLModel",
            "_view_count": null,
            "_view_module": "@jupyter-widgets/controls",
            "_view_module_version": "1.5.0",
            "_view_name": "HTMLView",
            "description": "",
            "description_tooltip": null,
            "layout": "IPY_MODEL_41ff173b4440400e83152c188be69121",
            "placeholder": "​",
            "style": "IPY_MODEL_8d0bec8528194eeebec23ab56a4ff167",
            "value": "tokenizer/tokenizer_config.json: 100%"
          }
        },
        "ac368a91c00145499fa77cb2b29ddc0e": {
          "model_module": "@jupyter-widgets/controls",
          "model_module_version": "1.5.0",
          "model_name": "HBoxModel",
          "state": {
            "_dom_classes": [],
            "_model_module": "@jupyter-widgets/controls",
            "_model_module_version": "1.5.0",
            "_model_name": "HBoxModel",
            "_view_count": null,
            "_view_module": "@jupyter-widgets/controls",
            "_view_module_version": "1.5.0",
            "_view_name": "HBoxView",
            "box_style": "",
            "children": [
              "IPY_MODEL_a9c2feaedabd40608a0ce368491d3fb2",
              "IPY_MODEL_6329a2ee79674508952e20bdd3a2e812",
              "IPY_MODEL_0f48f929c6b4470aad4a53339c5c3c35"
            ],
            "layout": "IPY_MODEL_362d5eeac61f4855aa2a77405196955f"
          }
        },
        "b006a09273354938893352027c9c69a5": {
          "model_module": "@jupyter-widgets/base",
          "model_module_version": "1.2.0",
          "model_name": "LayoutModel",
          "state": {
            "_model_module": "@jupyter-widgets/base",
            "_model_module_version": "1.2.0",
            "_model_name": "LayoutModel",
            "_view_count": null,
            "_view_module": "@jupyter-widgets/base",
            "_view_module_version": "1.2.0",
            "_view_name": "LayoutView",
            "align_content": null,
            "align_items": null,
            "align_self": null,
            "border": null,
            "bottom": null,
            "display": null,
            "flex": null,
            "flex_flow": null,
            "grid_area": null,
            "grid_auto_columns": null,
            "grid_auto_flow": null,
            "grid_auto_rows": null,
            "grid_column": null,
            "grid_gap": null,
            "grid_row": null,
            "grid_template_areas": null,
            "grid_template_columns": null,
            "grid_template_rows": null,
            "height": null,
            "justify_content": null,
            "justify_items": null,
            "left": null,
            "margin": null,
            "max_height": null,
            "max_width": null,
            "min_height": null,
            "min_width": null,
            "object_fit": null,
            "object_position": null,
            "order": null,
            "overflow": null,
            "overflow_x": null,
            "overflow_y": null,
            "padding": null,
            "right": null,
            "top": null,
            "visibility": null,
            "width": null
          }
        },
        "b2db9078efd34b708be19f41cfad8a7f": {
          "model_module": "@jupyter-widgets/controls",
          "model_module_version": "1.5.0",
          "model_name": "ProgressStyleModel",
          "state": {
            "_model_module": "@jupyter-widgets/controls",
            "_model_module_version": "1.5.0",
            "_model_name": "ProgressStyleModel",
            "_view_count": null,
            "_view_module": "@jupyter-widgets/base",
            "_view_module_version": "1.2.0",
            "_view_name": "StyleView",
            "bar_color": null,
            "description_width": ""
          }
        },
        "b3cab574c01f4c789adc7c213664477a": {
          "model_module": "@jupyter-widgets/controls",
          "model_module_version": "1.5.0",
          "model_name": "HTMLModel",
          "state": {
            "_dom_classes": [],
            "_model_module": "@jupyter-widgets/controls",
            "_model_module_version": "1.5.0",
            "_model_name": "HTMLModel",
            "_view_count": null,
            "_view_module": "@jupyter-widgets/controls",
            "_view_module_version": "1.5.0",
            "_view_name": "HTMLView",
            "description": "",
            "description_tooltip": null,
            "layout": "IPY_MODEL_ba69686476144b49ba459fef1f70e14c",
            "placeholder": "​",
            "style": "IPY_MODEL_2faa9ba78f00461fb62af13c80eda1b9",
            "value": "config.json: 100%"
          }
        },
        "b43d25eecfe4425595f7faf4405c17b6": {
          "model_module": "@jupyter-widgets/controls",
          "model_module_version": "1.5.0",
          "model_name": "HTMLModel",
          "state": {
            "_dom_classes": [],
            "_model_module": "@jupyter-widgets/controls",
            "_model_module_version": "1.5.0",
            "_model_name": "HTMLModel",
            "_view_count": null,
            "_view_module": "@jupyter-widgets/controls",
            "_view_module_version": "1.5.0",
            "_view_name": "HTMLView",
            "description": "",
            "description_tooltip": null,
            "layout": "IPY_MODEL_14d13a309a0f417ea4fee1668e2d9c00",
            "placeholder": "​",
            "style": "IPY_MODEL_f10c44afd8464045a5c5971ce00cd380",
            "value": "model_index.json: 100%"
          }
        },
        "b8aa72c700bb4345a92d88218ced8372": {
          "model_module": "@jupyter-widgets/controls",
          "model_module_version": "1.5.0",
          "model_name": "FloatProgressModel",
          "state": {
            "_dom_classes": [],
            "_model_module": "@jupyter-widgets/controls",
            "_model_module_version": "1.5.0",
            "_model_name": "FloatProgressModel",
            "_view_count": null,
            "_view_module": "@jupyter-widgets/controls",
            "_view_module_version": "1.5.0",
            "_view_name": "ProgressView",
            "bar_style": "success",
            "description": "",
            "description_tooltip": null,
            "layout": "IPY_MODEL_94185762c8a9480897cec682d832f891",
            "max": 3438167536,
            "min": 0,
            "orientation": "horizontal",
            "style": "IPY_MODEL_76e8adf9331d46a7b56a92f2865f875c",
            "value": 3438167536
          }
        },
        "b8e6ddf0343a4b9cb9ee33495cc61426": {
          "model_module": "@jupyter-widgets/base",
          "model_module_version": "1.2.0",
          "model_name": "LayoutModel",
          "state": {
            "_model_module": "@jupyter-widgets/base",
            "_model_module_version": "1.2.0",
            "_model_name": "LayoutModel",
            "_view_count": null,
            "_view_module": "@jupyter-widgets/base",
            "_view_module_version": "1.2.0",
            "_view_name": "LayoutView",
            "align_content": null,
            "align_items": null,
            "align_self": null,
            "border": null,
            "bottom": null,
            "display": null,
            "flex": null,
            "flex_flow": null,
            "grid_area": null,
            "grid_auto_columns": null,
            "grid_auto_flow": null,
            "grid_auto_rows": null,
            "grid_column": null,
            "grid_gap": null,
            "grid_row": null,
            "grid_template_areas": null,
            "grid_template_columns": null,
            "grid_template_rows": null,
            "height": null,
            "justify_content": null,
            "justify_items": null,
            "left": null,
            "margin": null,
            "max_height": null,
            "max_width": null,
            "min_height": null,
            "min_width": null,
            "object_fit": null,
            "object_position": null,
            "order": null,
            "overflow": null,
            "overflow_x": null,
            "overflow_y": null,
            "padding": null,
            "right": null,
            "top": null,
            "visibility": null,
            "width": null
          }
        },
        "ba69686476144b49ba459fef1f70e14c": {
          "model_module": "@jupyter-widgets/base",
          "model_module_version": "1.2.0",
          "model_name": "LayoutModel",
          "state": {
            "_model_module": "@jupyter-widgets/base",
            "_model_module_version": "1.2.0",
            "_model_name": "LayoutModel",
            "_view_count": null,
            "_view_module": "@jupyter-widgets/base",
            "_view_module_version": "1.2.0",
            "_view_name": "LayoutView",
            "align_content": null,
            "align_items": null,
            "align_self": null,
            "border": null,
            "bottom": null,
            "display": null,
            "flex": null,
            "flex_flow": null,
            "grid_area": null,
            "grid_auto_columns": null,
            "grid_auto_flow": null,
            "grid_auto_rows": null,
            "grid_column": null,
            "grid_gap": null,
            "grid_row": null,
            "grid_template_areas": null,
            "grid_template_columns": null,
            "grid_template_rows": null,
            "height": null,
            "justify_content": null,
            "justify_items": null,
            "left": null,
            "margin": null,
            "max_height": null,
            "max_width": null,
            "min_height": null,
            "min_width": null,
            "object_fit": null,
            "object_position": null,
            "order": null,
            "overflow": null,
            "overflow_x": null,
            "overflow_y": null,
            "padding": null,
            "right": null,
            "top": null,
            "visibility": null,
            "width": null
          }
        },
        "bac78dd903364b4b97861f33552fb22b": {
          "model_module": "@jupyter-widgets/controls",
          "model_module_version": "1.5.0",
          "model_name": "DescriptionStyleModel",
          "state": {
            "_model_module": "@jupyter-widgets/controls",
            "_model_module_version": "1.5.0",
            "_model_name": "DescriptionStyleModel",
            "_view_count": null,
            "_view_module": "@jupyter-widgets/base",
            "_view_module_version": "1.2.0",
            "_view_name": "StyleView",
            "description_width": ""
          }
        },
        "bb7a1d152fa44375a3afe518cb1e52a2": {
          "model_module": "@jupyter-widgets/base",
          "model_module_version": "1.2.0",
          "model_name": "LayoutModel",
          "state": {
            "_model_module": "@jupyter-widgets/base",
            "_model_module_version": "1.2.0",
            "_model_name": "LayoutModel",
            "_view_count": null,
            "_view_module": "@jupyter-widgets/base",
            "_view_module_version": "1.2.0",
            "_view_name": "LayoutView",
            "align_content": null,
            "align_items": null,
            "align_self": null,
            "border": null,
            "bottom": null,
            "display": null,
            "flex": null,
            "flex_flow": null,
            "grid_area": null,
            "grid_auto_columns": null,
            "grid_auto_flow": null,
            "grid_auto_rows": null,
            "grid_column": null,
            "grid_gap": null,
            "grid_row": null,
            "grid_template_areas": null,
            "grid_template_columns": null,
            "grid_template_rows": null,
            "height": null,
            "justify_content": null,
            "justify_items": null,
            "left": null,
            "margin": null,
            "max_height": null,
            "max_width": null,
            "min_height": null,
            "min_width": null,
            "object_fit": null,
            "object_position": null,
            "order": null,
            "overflow": null,
            "overflow_x": null,
            "overflow_y": null,
            "padding": null,
            "right": null,
            "top": null,
            "visibility": null,
            "width": null
          }
        },
        "bcdcb4ec7dde45b38bcc4db3d187165e": {
          "model_module": "@jupyter-widgets/base",
          "model_module_version": "1.2.0",
          "model_name": "LayoutModel",
          "state": {
            "_model_module": "@jupyter-widgets/base",
            "_model_module_version": "1.2.0",
            "_model_name": "LayoutModel",
            "_view_count": null,
            "_view_module": "@jupyter-widgets/base",
            "_view_module_version": "1.2.0",
            "_view_name": "LayoutView",
            "align_content": null,
            "align_items": null,
            "align_self": null,
            "border": null,
            "bottom": null,
            "display": null,
            "flex": null,
            "flex_flow": null,
            "grid_area": null,
            "grid_auto_columns": null,
            "grid_auto_flow": null,
            "grid_auto_rows": null,
            "grid_column": null,
            "grid_gap": null,
            "grid_row": null,
            "grid_template_areas": null,
            "grid_template_columns": null,
            "grid_template_rows": null,
            "height": null,
            "justify_content": null,
            "justify_items": null,
            "left": null,
            "margin": null,
            "max_height": null,
            "max_width": null,
            "min_height": null,
            "min_width": null,
            "object_fit": null,
            "object_position": null,
            "order": null,
            "overflow": null,
            "overflow_x": null,
            "overflow_y": null,
            "padding": null,
            "right": null,
            "top": null,
            "visibility": null,
            "width": null
          }
        },
        "bec75b2467204221886d67da6312c1d7": {
          "model_module": "@jupyter-widgets/base",
          "model_module_version": "1.2.0",
          "model_name": "LayoutModel",
          "state": {
            "_model_module": "@jupyter-widgets/base",
            "_model_module_version": "1.2.0",
            "_model_name": "LayoutModel",
            "_view_count": null,
            "_view_module": "@jupyter-widgets/base",
            "_view_module_version": "1.2.0",
            "_view_name": "LayoutView",
            "align_content": null,
            "align_items": null,
            "align_self": null,
            "border": null,
            "bottom": null,
            "display": null,
            "flex": null,
            "flex_flow": null,
            "grid_area": null,
            "grid_auto_columns": null,
            "grid_auto_flow": null,
            "grid_auto_rows": null,
            "grid_column": null,
            "grid_gap": null,
            "grid_row": null,
            "grid_template_areas": null,
            "grid_template_columns": null,
            "grid_template_rows": null,
            "height": null,
            "justify_content": null,
            "justify_items": null,
            "left": null,
            "margin": null,
            "max_height": null,
            "max_width": null,
            "min_height": null,
            "min_width": null,
            "object_fit": null,
            "object_position": null,
            "order": null,
            "overflow": null,
            "overflow_x": null,
            "overflow_y": null,
            "padding": null,
            "right": null,
            "top": null,
            "visibility": null,
            "width": null
          }
        },
        "bff8698146f847019a2b73b1b09e6984": {
          "model_module": "@jupyter-widgets/base",
          "model_module_version": "1.2.0",
          "model_name": "LayoutModel",
          "state": {
            "_model_module": "@jupyter-widgets/base",
            "_model_module_version": "1.2.0",
            "_model_name": "LayoutModel",
            "_view_count": null,
            "_view_module": "@jupyter-widgets/base",
            "_view_module_version": "1.2.0",
            "_view_name": "LayoutView",
            "align_content": null,
            "align_items": null,
            "align_self": null,
            "border": null,
            "bottom": null,
            "display": null,
            "flex": null,
            "flex_flow": null,
            "grid_area": null,
            "grid_auto_columns": null,
            "grid_auto_flow": null,
            "grid_auto_rows": null,
            "grid_column": null,
            "grid_gap": null,
            "grid_row": null,
            "grid_template_areas": null,
            "grid_template_columns": null,
            "grid_template_rows": null,
            "height": null,
            "justify_content": null,
            "justify_items": null,
            "left": null,
            "margin": null,
            "max_height": null,
            "max_width": null,
            "min_height": null,
            "min_width": null,
            "object_fit": null,
            "object_position": null,
            "order": null,
            "overflow": null,
            "overflow_x": null,
            "overflow_y": null,
            "padding": null,
            "right": null,
            "top": null,
            "visibility": null,
            "width": null
          }
        },
        "c06f8e3591e74fb488b53c7d2a52a483": {
          "model_module": "@jupyter-widgets/base",
          "model_module_version": "1.2.0",
          "model_name": "LayoutModel",
          "state": {
            "_model_module": "@jupyter-widgets/base",
            "_model_module_version": "1.2.0",
            "_model_name": "LayoutModel",
            "_view_count": null,
            "_view_module": "@jupyter-widgets/base",
            "_view_module_version": "1.2.0",
            "_view_name": "LayoutView",
            "align_content": null,
            "align_items": null,
            "align_self": null,
            "border": null,
            "bottom": null,
            "display": null,
            "flex": null,
            "flex_flow": null,
            "grid_area": null,
            "grid_auto_columns": null,
            "grid_auto_flow": null,
            "grid_auto_rows": null,
            "grid_column": null,
            "grid_gap": null,
            "grid_row": null,
            "grid_template_areas": null,
            "grid_template_columns": null,
            "grid_template_rows": null,
            "height": null,
            "justify_content": null,
            "justify_items": null,
            "left": null,
            "margin": null,
            "max_height": null,
            "max_width": null,
            "min_height": null,
            "min_width": null,
            "object_fit": null,
            "object_position": null,
            "order": null,
            "overflow": null,
            "overflow_x": null,
            "overflow_y": null,
            "padding": null,
            "right": null,
            "top": null,
            "visibility": null,
            "width": null
          }
        },
        "c48de290a58547aeb6bf2be2e4d8b083": {
          "model_module": "@jupyter-widgets/base",
          "model_module_version": "1.2.0",
          "model_name": "LayoutModel",
          "state": {
            "_model_module": "@jupyter-widgets/base",
            "_model_module_version": "1.2.0",
            "_model_name": "LayoutModel",
            "_view_count": null,
            "_view_module": "@jupyter-widgets/base",
            "_view_module_version": "1.2.0",
            "_view_name": "LayoutView",
            "align_content": null,
            "align_items": null,
            "align_self": null,
            "border": null,
            "bottom": null,
            "display": null,
            "flex": null,
            "flex_flow": null,
            "grid_area": null,
            "grid_auto_columns": null,
            "grid_auto_flow": null,
            "grid_auto_rows": null,
            "grid_column": null,
            "grid_gap": null,
            "grid_row": null,
            "grid_template_areas": null,
            "grid_template_columns": null,
            "grid_template_rows": null,
            "height": null,
            "justify_content": null,
            "justify_items": null,
            "left": null,
            "margin": null,
            "max_height": null,
            "max_width": null,
            "min_height": null,
            "min_width": null,
            "object_fit": null,
            "object_position": null,
            "order": null,
            "overflow": null,
            "overflow_x": null,
            "overflow_y": null,
            "padding": null,
            "right": null,
            "top": null,
            "visibility": null,
            "width": null
          }
        },
        "c4c3a14b283f49808f0758c8f5c0a13e": {
          "model_module": "@jupyter-widgets/base",
          "model_module_version": "1.2.0",
          "model_name": "LayoutModel",
          "state": {
            "_model_module": "@jupyter-widgets/base",
            "_model_module_version": "1.2.0",
            "_model_name": "LayoutModel",
            "_view_count": null,
            "_view_module": "@jupyter-widgets/base",
            "_view_module_version": "1.2.0",
            "_view_name": "LayoutView",
            "align_content": null,
            "align_items": null,
            "align_self": null,
            "border": null,
            "bottom": null,
            "display": null,
            "flex": null,
            "flex_flow": null,
            "grid_area": null,
            "grid_auto_columns": null,
            "grid_auto_flow": null,
            "grid_auto_rows": null,
            "grid_column": null,
            "grid_gap": null,
            "grid_row": null,
            "grid_template_areas": null,
            "grid_template_columns": null,
            "grid_template_rows": null,
            "height": null,
            "justify_content": null,
            "justify_items": null,
            "left": null,
            "margin": null,
            "max_height": null,
            "max_width": null,
            "min_height": null,
            "min_width": null,
            "object_fit": null,
            "object_position": null,
            "order": null,
            "overflow": null,
            "overflow_x": null,
            "overflow_y": null,
            "padding": null,
            "right": null,
            "top": null,
            "visibility": null,
            "width": null
          }
        },
        "c8a9539434f24361863b644c2880b60f": {
          "model_module": "@jupyter-widgets/controls",
          "model_module_version": "1.5.0",
          "model_name": "FloatProgressModel",
          "state": {
            "_dom_classes": [],
            "_model_module": "@jupyter-widgets/controls",
            "_model_module_version": "1.5.0",
            "_model_name": "FloatProgressModel",
            "_view_count": null,
            "_view_module": "@jupyter-widgets/controls",
            "_view_module_version": "1.5.0",
            "_view_name": "ProgressView",
            "bar_style": "success",
            "description": "",
            "description_tooltip": null,
            "layout": "IPY_MODEL_e76bd0bc877e4326a2d45fdc2b91d41e",
            "max": 25,
            "min": 0,
            "orientation": "horizontal",
            "style": "IPY_MODEL_4eef2003c7d045eda2e9f33c1102d75d",
            "value": 25
          }
        },
        "c9b34f19d3b0429e8a6edbe845120bc1": {
          "model_module": "@jupyter-widgets/controls",
          "model_module_version": "1.5.0",
          "model_name": "DescriptionStyleModel",
          "state": {
            "_model_module": "@jupyter-widgets/controls",
            "_model_module_version": "1.5.0",
            "_model_name": "DescriptionStyleModel",
            "_view_count": null,
            "_view_module": "@jupyter-widgets/base",
            "_view_module_version": "1.2.0",
            "_view_name": "StyleView",
            "description_width": ""
          }
        },
        "c9bcb1c5e0e14e34b9596db65e1c197c": {
          "model_module": "@jupyter-widgets/base",
          "model_module_version": "1.2.0",
          "model_name": "LayoutModel",
          "state": {
            "_model_module": "@jupyter-widgets/base",
            "_model_module_version": "1.2.0",
            "_model_name": "LayoutModel",
            "_view_count": null,
            "_view_module": "@jupyter-widgets/base",
            "_view_module_version": "1.2.0",
            "_view_name": "LayoutView",
            "align_content": null,
            "align_items": null,
            "align_self": null,
            "border": null,
            "bottom": null,
            "display": null,
            "flex": null,
            "flex_flow": null,
            "grid_area": null,
            "grid_auto_columns": null,
            "grid_auto_flow": null,
            "grid_auto_rows": null,
            "grid_column": null,
            "grid_gap": null,
            "grid_row": null,
            "grid_template_areas": null,
            "grid_template_columns": null,
            "grid_template_rows": null,
            "height": null,
            "justify_content": null,
            "justify_items": null,
            "left": null,
            "margin": null,
            "max_height": null,
            "max_width": null,
            "min_height": null,
            "min_width": null,
            "object_fit": null,
            "object_position": null,
            "order": null,
            "overflow": null,
            "overflow_x": null,
            "overflow_y": null,
            "padding": null,
            "right": null,
            "top": null,
            "visibility": null,
            "width": null
          }
        },
        "c9f3b71f7e7a48e5ae01c4bc1b9690d4": {
          "model_module": "@jupyter-widgets/controls",
          "model_module_version": "1.5.0",
          "model_name": "DescriptionStyleModel",
          "state": {
            "_model_module": "@jupyter-widgets/controls",
            "_model_module_version": "1.5.0",
            "_model_name": "DescriptionStyleModel",
            "_view_count": null,
            "_view_module": "@jupyter-widgets/base",
            "_view_module_version": "1.2.0",
            "_view_name": "StyleView",
            "description_width": ""
          }
        },
        "cbb02f8e0a13445ead70937797e81ddd": {
          "model_module": "@jupyter-widgets/base",
          "model_module_version": "1.2.0",
          "model_name": "LayoutModel",
          "state": {
            "_model_module": "@jupyter-widgets/base",
            "_model_module_version": "1.2.0",
            "_model_name": "LayoutModel",
            "_view_count": null,
            "_view_module": "@jupyter-widgets/base",
            "_view_module_version": "1.2.0",
            "_view_name": "LayoutView",
            "align_content": null,
            "align_items": null,
            "align_self": null,
            "border": null,
            "bottom": null,
            "display": null,
            "flex": null,
            "flex_flow": null,
            "grid_area": null,
            "grid_auto_columns": null,
            "grid_auto_flow": null,
            "grid_auto_rows": null,
            "grid_column": null,
            "grid_gap": null,
            "grid_row": null,
            "grid_template_areas": null,
            "grid_template_columns": null,
            "grid_template_rows": null,
            "height": null,
            "justify_content": null,
            "justify_items": null,
            "left": null,
            "margin": null,
            "max_height": null,
            "max_width": null,
            "min_height": null,
            "min_width": null,
            "object_fit": null,
            "object_position": null,
            "order": null,
            "overflow": null,
            "overflow_x": null,
            "overflow_y": null,
            "padding": null,
            "right": null,
            "top": null,
            "visibility": null,
            "width": null
          }
        },
        "d15e51e15adb414faefdb16b23e74c2d": {
          "model_module": "@jupyter-widgets/controls",
          "model_module_version": "1.5.0",
          "model_name": "HTMLModel",
          "state": {
            "_dom_classes": [],
            "_model_module": "@jupyter-widgets/controls",
            "_model_module_version": "1.5.0",
            "_model_name": "HTMLModel",
            "_view_count": null,
            "_view_module": "@jupyter-widgets/controls",
            "_view_module_version": "1.5.0",
            "_view_name": "HTMLView",
            "description": "",
            "description_tooltip": null,
            "layout": "IPY_MODEL_08fa9b845db54eefa8400ba2d4e54a5e",
            "placeholder": "​",
            "style": "IPY_MODEL_c9b34f19d3b0429e8a6edbe845120bc1",
            "value": "diffusion_pytorch_model.safetensors: 100%"
          }
        },
        "d1d5d269f8fa4002b4878b1d4f71e11c": {
          "model_module": "@jupyter-widgets/controls",
          "model_module_version": "1.5.0",
          "model_name": "FloatProgressModel",
          "state": {
            "_dom_classes": [],
            "_model_module": "@jupyter-widgets/controls",
            "_model_module_version": "1.5.0",
            "_model_name": "FloatProgressModel",
            "_view_count": null,
            "_view_module": "@jupyter-widgets/controls",
            "_view_module_version": "1.5.0",
            "_view_name": "ProgressView",
            "bar_style": "success",
            "description": "",
            "description_tooltip": null,
            "layout": "IPY_MODEL_6e199b5e069b4b0aaea36cfbb3e6639e",
            "max": 1,
            "min": 0,
            "orientation": "horizontal",
            "style": "IPY_MODEL_4ab53fa030ff4d619b9698865718e49b",
            "value": 0
          }
        },
        "d55e5e8873b640f0895863f2960cc4d0": {
          "model_module": "@jupyter-widgets/controls",
          "model_module_version": "1.5.0",
          "model_name": "DescriptionStyleModel",
          "state": {
            "_model_module": "@jupyter-widgets/controls",
            "_model_module_version": "1.5.0",
            "_model_name": "DescriptionStyleModel",
            "_view_count": null,
            "_view_module": "@jupyter-widgets/base",
            "_view_module_version": "1.2.0",
            "_view_name": "StyleView",
            "description_width": ""
          }
        },
        "d56ff824b64e4d5d97f53a42e79fb5f1": {
          "model_module": "@jupyter-widgets/controls",
          "model_module_version": "1.5.0",
          "model_name": "ProgressStyleModel",
          "state": {
            "_model_module": "@jupyter-widgets/controls",
            "_model_module_version": "1.5.0",
            "_model_name": "ProgressStyleModel",
            "_view_count": null,
            "_view_module": "@jupyter-widgets/base",
            "_view_module_version": "1.2.0",
            "_view_name": "StyleView",
            "bar_color": null,
            "description_width": ""
          }
        },
        "d5ad24b6eb104d898deec0e1f309af8e": {
          "model_module": "@jupyter-widgets/controls",
          "model_module_version": "1.5.0",
          "model_name": "HTMLModel",
          "state": {
            "_dom_classes": [],
            "_model_module": "@jupyter-widgets/controls",
            "_model_module_version": "1.5.0",
            "_model_name": "HTMLModel",
            "_view_count": null,
            "_view_module": "@jupyter-widgets/controls",
            "_view_module_version": "1.5.0",
            "_view_name": "HTMLView",
            "description": "",
            "description_tooltip": null,
            "layout": "IPY_MODEL_180acd9eb4714019aef4ac7737764f57",
            "placeholder": "​",
            "style": "IPY_MODEL_3ad77624cf4240949180c36cd0723ca1",
            "value": " 25/25 [00:03&lt;00:00,  6.67it/s]"
          }
        },
        "d659d15b50e940ce876893c5c755d730": {
          "model_module": "@jupyter-widgets/controls",
          "model_module_version": "1.5.0",
          "model_name": "DescriptionStyleModel",
          "state": {
            "_model_module": "@jupyter-widgets/controls",
            "_model_module_version": "1.5.0",
            "_model_name": "DescriptionStyleModel",
            "_view_count": null,
            "_view_module": "@jupyter-widgets/base",
            "_view_module_version": "1.2.0",
            "_view_name": "StyleView",
            "description_width": ""
          }
        },
        "d6e4adb7635441928885eb75fe554a68": {
          "model_module": "@jupyter-widgets/base",
          "model_module_version": "1.2.0",
          "model_name": "LayoutModel",
          "state": {
            "_model_module": "@jupyter-widgets/base",
            "_model_module_version": "1.2.0",
            "_model_name": "LayoutModel",
            "_view_count": null,
            "_view_module": "@jupyter-widgets/base",
            "_view_module_version": "1.2.0",
            "_view_name": "LayoutView",
            "align_content": null,
            "align_items": null,
            "align_self": null,
            "border": null,
            "bottom": null,
            "display": null,
            "flex": null,
            "flex_flow": null,
            "grid_area": null,
            "grid_auto_columns": null,
            "grid_auto_flow": null,
            "grid_auto_rows": null,
            "grid_column": null,
            "grid_gap": null,
            "grid_row": null,
            "grid_template_areas": null,
            "grid_template_columns": null,
            "grid_template_rows": null,
            "height": null,
            "justify_content": null,
            "justify_items": null,
            "left": null,
            "margin": null,
            "max_height": null,
            "max_width": null,
            "min_height": null,
            "min_width": null,
            "object_fit": null,
            "object_position": null,
            "order": null,
            "overflow": null,
            "overflow_x": null,
            "overflow_y": null,
            "padding": null,
            "right": null,
            "top": null,
            "visibility": null,
            "width": null
          }
        },
        "d712115b9f624772aefb333e611e8e23": {
          "model_module": "@jupyter-widgets/controls",
          "model_module_version": "1.5.0",
          "model_name": "ProgressStyleModel",
          "state": {
            "_model_module": "@jupyter-widgets/controls",
            "_model_module_version": "1.5.0",
            "_model_name": "ProgressStyleModel",
            "_view_count": null,
            "_view_module": "@jupyter-widgets/base",
            "_view_module_version": "1.2.0",
            "_view_name": "StyleView",
            "bar_color": null,
            "description_width": ""
          }
        },
        "d7324dcc0afc4f19beda8856bd2dcdb7": {
          "model_module": "@jupyter-widgets/base",
          "model_module_version": "1.2.0",
          "model_name": "LayoutModel",
          "state": {
            "_model_module": "@jupyter-widgets/base",
            "_model_module_version": "1.2.0",
            "_model_name": "LayoutModel",
            "_view_count": null,
            "_view_module": "@jupyter-widgets/base",
            "_view_module_version": "1.2.0",
            "_view_name": "LayoutView",
            "align_content": null,
            "align_items": null,
            "align_self": null,
            "border": null,
            "bottom": null,
            "display": null,
            "flex": null,
            "flex_flow": null,
            "grid_area": null,
            "grid_auto_columns": null,
            "grid_auto_flow": null,
            "grid_auto_rows": null,
            "grid_column": null,
            "grid_gap": null,
            "grid_row": null,
            "grid_template_areas": null,
            "grid_template_columns": null,
            "grid_template_rows": null,
            "height": null,
            "justify_content": null,
            "justify_items": null,
            "left": null,
            "margin": null,
            "max_height": null,
            "max_width": null,
            "min_height": null,
            "min_width": null,
            "object_fit": null,
            "object_position": null,
            "order": null,
            "overflow": null,
            "overflow_x": null,
            "overflow_y": null,
            "padding": null,
            "right": null,
            "top": null,
            "visibility": null,
            "width": null
          }
        },
        "d8681e2eb1d24113a6417195abd2f453": {
          "model_module": "@jupyter-widgets/controls",
          "model_module_version": "1.5.0",
          "model_name": "FloatProgressModel",
          "state": {
            "_dom_classes": [],
            "_model_module": "@jupyter-widgets/controls",
            "_model_module_version": "1.5.0",
            "_model_name": "FloatProgressModel",
            "_view_count": null,
            "_view_module": "@jupyter-widgets/controls",
            "_view_module_version": "1.5.0",
            "_view_name": "ProgressView",
            "bar_style": "success",
            "description": "",
            "description_tooltip": null,
            "layout": "IPY_MODEL_2b6cd195101d4bf8aef15eaa36b4bac7",
            "max": 25,
            "min": 0,
            "orientation": "horizontal",
            "style": "IPY_MODEL_b2db9078efd34b708be19f41cfad8a7f",
            "value": 25
          }
        },
        "ddaaf40f76ec48e2924286fc6dc0e64b": {
          "model_module": "@jupyter-widgets/controls",
          "model_module_version": "1.5.0",
          "model_name": "FloatProgressModel",
          "state": {
            "_dom_classes": [],
            "_model_module": "@jupyter-widgets/controls",
            "_model_module_version": "1.5.0",
            "_model_name": "FloatProgressModel",
            "_view_count": null,
            "_view_module": "@jupyter-widgets/controls",
            "_view_module_version": "1.5.0",
            "_view_name": "ProgressView",
            "bar_style": "success",
            "description": "",
            "description_tooltip": null,
            "layout": "IPY_MODEL_18b3f32138e343c48df108a5455df12f",
            "max": 334643276,
            "min": 0,
            "orientation": "horizontal",
            "style": "IPY_MODEL_063b024d78fa44febe8235d1c3d9980a",
            "value": 334643276
          }
        },
        "ddbdfbbb73bc4687885ccd47073191f8": {
          "model_module": "@jupyter-widgets/controls",
          "model_module_version": "1.5.0",
          "model_name": "HTMLModel",
          "state": {
            "_dom_classes": [],
            "_model_module": "@jupyter-widgets/controls",
            "_model_module_version": "1.5.0",
            "_model_name": "HTMLModel",
            "_view_count": null,
            "_view_module": "@jupyter-widgets/controls",
            "_view_module_version": "1.5.0",
            "_view_name": "HTMLView",
            "description": "",
            "description_tooltip": null,
            "layout": "IPY_MODEL_c9bcb1c5e0e14e34b9596db65e1c197c",
            "placeholder": "​",
            "style": "IPY_MODEL_8061dbde2dcc457285b716a91ceeb3bd",
            "value": ""
          }
        },
        "e1da3159e29e4a6f856604aad845c9b6": {
          "model_module": "@jupyter-widgets/controls",
          "model_module_version": "1.5.0",
          "model_name": "HTMLModel",
          "state": {
            "_dom_classes": [],
            "_model_module": "@jupyter-widgets/controls",
            "_model_module_version": "1.5.0",
            "_model_name": "HTMLModel",
            "_view_count": null,
            "_view_module": "@jupyter-widgets/controls",
            "_view_module_version": "1.5.0",
            "_view_name": "HTMLView",
            "description": "",
            "description_tooltip": null,
            "layout": "IPY_MODEL_d7324dcc0afc4f19beda8856bd2dcdb7",
            "placeholder": "​",
            "style": "IPY_MODEL_8e9062b719834fe08615be929db45982",
            "value": " 472/472 [00:00&lt;00:00, 3.79kB/s]"
          }
        },
        "e2aec6218cdb4a1384ca571b9d9622c4": {
          "model_module": "@jupyter-widgets/base",
          "model_module_version": "1.2.0",
          "model_name": "LayoutModel",
          "state": {
            "_model_module": "@jupyter-widgets/base",
            "_model_module_version": "1.2.0",
            "_model_name": "LayoutModel",
            "_view_count": null,
            "_view_module": "@jupyter-widgets/base",
            "_view_module_version": "1.2.0",
            "_view_name": "LayoutView",
            "align_content": null,
            "align_items": null,
            "align_self": null,
            "border": null,
            "bottom": null,
            "display": null,
            "flex": null,
            "flex_flow": null,
            "grid_area": null,
            "grid_auto_columns": null,
            "grid_auto_flow": null,
            "grid_auto_rows": null,
            "grid_column": null,
            "grid_gap": null,
            "grid_row": null,
            "grid_template_areas": null,
            "grid_template_columns": null,
            "grid_template_rows": null,
            "height": null,
            "justify_content": null,
            "justify_items": null,
            "left": null,
            "margin": null,
            "max_height": null,
            "max_width": null,
            "min_height": null,
            "min_width": null,
            "object_fit": null,
            "object_position": null,
            "order": null,
            "overflow": null,
            "overflow_x": null,
            "overflow_y": null,
            "padding": null,
            "right": null,
            "top": null,
            "visibility": null,
            "width": null
          }
        },
        "e386fa1a33af4c13a9558d1da6cdacc2": {
          "model_module": "@jupyter-widgets/base",
          "model_module_version": "1.2.0",
          "model_name": "LayoutModel",
          "state": {
            "_model_module": "@jupyter-widgets/base",
            "_model_module_version": "1.2.0",
            "_model_name": "LayoutModel",
            "_view_count": null,
            "_view_module": "@jupyter-widgets/base",
            "_view_module_version": "1.2.0",
            "_view_name": "LayoutView",
            "align_content": null,
            "align_items": null,
            "align_self": null,
            "border": null,
            "bottom": null,
            "display": null,
            "flex": null,
            "flex_flow": null,
            "grid_area": null,
            "grid_auto_columns": null,
            "grid_auto_flow": null,
            "grid_auto_rows": null,
            "grid_column": null,
            "grid_gap": null,
            "grid_row": null,
            "grid_template_areas": null,
            "grid_template_columns": null,
            "grid_template_rows": null,
            "height": null,
            "justify_content": null,
            "justify_items": null,
            "left": null,
            "margin": null,
            "max_height": null,
            "max_width": null,
            "min_height": null,
            "min_width": null,
            "object_fit": null,
            "object_position": null,
            "order": null,
            "overflow": null,
            "overflow_x": null,
            "overflow_y": null,
            "padding": null,
            "right": null,
            "top": null,
            "visibility": null,
            "width": null
          }
        },
        "e5e1d383baad4e43aa72818501021d85": {
          "model_module": "@jupyter-widgets/base",
          "model_module_version": "1.2.0",
          "model_name": "LayoutModel",
          "state": {
            "_model_module": "@jupyter-widgets/base",
            "_model_module_version": "1.2.0",
            "_model_name": "LayoutModel",
            "_view_count": null,
            "_view_module": "@jupyter-widgets/base",
            "_view_module_version": "1.2.0",
            "_view_name": "LayoutView",
            "align_content": null,
            "align_items": null,
            "align_self": null,
            "border": null,
            "bottom": null,
            "display": null,
            "flex": null,
            "flex_flow": null,
            "grid_area": null,
            "grid_auto_columns": null,
            "grid_auto_flow": null,
            "grid_auto_rows": null,
            "grid_column": null,
            "grid_gap": null,
            "grid_row": null,
            "grid_template_areas": null,
            "grid_template_columns": null,
            "grid_template_rows": null,
            "height": null,
            "justify_content": null,
            "justify_items": null,
            "left": null,
            "margin": null,
            "max_height": null,
            "max_width": null,
            "min_height": null,
            "min_width": null,
            "object_fit": null,
            "object_position": null,
            "order": null,
            "overflow": null,
            "overflow_x": null,
            "overflow_y": null,
            "padding": null,
            "right": null,
            "top": null,
            "visibility": null,
            "width": null
          }
        },
        "e76bd0bc877e4326a2d45fdc2b91d41e": {
          "model_module": "@jupyter-widgets/base",
          "model_module_version": "1.2.0",
          "model_name": "LayoutModel",
          "state": {
            "_model_module": "@jupyter-widgets/base",
            "_model_module_version": "1.2.0",
            "_model_name": "LayoutModel",
            "_view_count": null,
            "_view_module": "@jupyter-widgets/base",
            "_view_module_version": "1.2.0",
            "_view_name": "LayoutView",
            "align_content": null,
            "align_items": null,
            "align_self": null,
            "border": null,
            "bottom": null,
            "display": null,
            "flex": null,
            "flex_flow": null,
            "grid_area": null,
            "grid_auto_columns": null,
            "grid_auto_flow": null,
            "grid_auto_rows": null,
            "grid_column": null,
            "grid_gap": null,
            "grid_row": null,
            "grid_template_areas": null,
            "grid_template_columns": null,
            "grid_template_rows": null,
            "height": null,
            "justify_content": null,
            "justify_items": null,
            "left": null,
            "margin": null,
            "max_height": null,
            "max_width": null,
            "min_height": null,
            "min_width": null,
            "object_fit": null,
            "object_position": null,
            "order": null,
            "overflow": null,
            "overflow_x": null,
            "overflow_y": null,
            "padding": null,
            "right": null,
            "top": null,
            "visibility": null,
            "width": null
          }
        },
        "ea885ad227224fd68d8473d2574faaa2": {
          "model_module": "@jupyter-widgets/controls",
          "model_module_version": "1.5.0",
          "model_name": "DescriptionStyleModel",
          "state": {
            "_model_module": "@jupyter-widgets/controls",
            "_model_module_version": "1.5.0",
            "_model_name": "DescriptionStyleModel",
            "_view_count": null,
            "_view_module": "@jupyter-widgets/base",
            "_view_module_version": "1.2.0",
            "_view_name": "StyleView",
            "description_width": ""
          }
        },
        "f10c44afd8464045a5c5971ce00cd380": {
          "model_module": "@jupyter-widgets/controls",
          "model_module_version": "1.5.0",
          "model_name": "DescriptionStyleModel",
          "state": {
            "_model_module": "@jupyter-widgets/controls",
            "_model_module_version": "1.5.0",
            "_model_name": "DescriptionStyleModel",
            "_view_count": null,
            "_view_module": "@jupyter-widgets/base",
            "_view_module_version": "1.2.0",
            "_view_name": "StyleView",
            "description_width": ""
          }
        },
        "f1238eb212e049f3be2c76305c626331": {
          "model_module": "@jupyter-widgets/controls",
          "model_module_version": "1.5.0",
          "model_name": "DescriptionStyleModel",
          "state": {
            "_model_module": "@jupyter-widgets/controls",
            "_model_module_version": "1.5.0",
            "_model_name": "DescriptionStyleModel",
            "_view_count": null,
            "_view_module": "@jupyter-widgets/base",
            "_view_module_version": "1.2.0",
            "_view_name": "StyleView",
            "description_width": ""
          }
        },
        "f361558c1561413ca07746c5a2598c82": {
          "model_module": "@jupyter-widgets/controls",
          "model_module_version": "1.5.0",
          "model_name": "ProgressStyleModel",
          "state": {
            "_model_module": "@jupyter-widgets/controls",
            "_model_module_version": "1.5.0",
            "_model_name": "ProgressStyleModel",
            "_view_count": null,
            "_view_module": "@jupyter-widgets/base",
            "_view_module_version": "1.2.0",
            "_view_name": "StyleView",
            "bar_color": null,
            "description_width": ""
          }
        },
        "f68c8b906cff4b72b247074068f84e66": {
          "model_module": "@jupyter-widgets/controls",
          "model_module_version": "1.5.0",
          "model_name": "ProgressStyleModel",
          "state": {
            "_model_module": "@jupyter-widgets/controls",
            "_model_module_version": "1.5.0",
            "_model_name": "ProgressStyleModel",
            "_view_count": null,
            "_view_module": "@jupyter-widgets/base",
            "_view_module_version": "1.2.0",
            "_view_name": "StyleView",
            "bar_color": null,
            "description_width": ""
          }
        },
        "f7d25a8f497d44ab81e2980029a2d498": {
          "model_module": "@jupyter-widgets/controls",
          "model_module_version": "1.5.0",
          "model_name": "HTMLModel",
          "state": {
            "_dom_classes": [],
            "_model_module": "@jupyter-widgets/controls",
            "_model_module_version": "1.5.0",
            "_model_name": "HTMLModel",
            "_view_count": null,
            "_view_module": "@jupyter-widgets/controls",
            "_view_module_version": "1.5.0",
            "_view_name": "HTMLView",
            "description": "",
            "description_tooltip": null,
            "layout": "IPY_MODEL_4f88e7cb315b45c2a22361472f36e26b",
            "placeholder": "​",
            "style": "IPY_MODEL_09864ebc049d4dec8c819d33654375fe",
            "value": " 492M/492M [00:03&lt;00:00, 161MB/s]"
          }
        },
        "f7d27624ba3b4051a78d34f08bfc49ac": {
          "model_module": "@jupyter-widgets/base",
          "model_module_version": "1.2.0",
          "model_name": "LayoutModel",
          "state": {
            "_model_module": "@jupyter-widgets/base",
            "_model_module_version": "1.2.0",
            "_model_name": "LayoutModel",
            "_view_count": null,
            "_view_module": "@jupyter-widgets/base",
            "_view_module_version": "1.2.0",
            "_view_name": "LayoutView",
            "align_content": null,
            "align_items": null,
            "align_self": null,
            "border": null,
            "bottom": null,
            "display": null,
            "flex": null,
            "flex_flow": null,
            "grid_area": null,
            "grid_auto_columns": null,
            "grid_auto_flow": null,
            "grid_auto_rows": null,
            "grid_column": null,
            "grid_gap": null,
            "grid_row": null,
            "grid_template_areas": null,
            "grid_template_columns": null,
            "grid_template_rows": null,
            "height": null,
            "justify_content": null,
            "justify_items": null,
            "left": null,
            "margin": null,
            "max_height": null,
            "max_width": null,
            "min_height": null,
            "min_width": null,
            "object_fit": null,
            "object_position": null,
            "order": null,
            "overflow": null,
            "overflow_x": null,
            "overflow_y": null,
            "padding": null,
            "right": null,
            "top": null,
            "visibility": null,
            "width": null
          }
        },
        "fb1a77ab806245bfaa12a5a26c1eae05": {
          "model_module": "@jupyter-widgets/controls",
          "model_module_version": "1.5.0",
          "model_name": "HTMLModel",
          "state": {
            "_dom_classes": [],
            "_model_module": "@jupyter-widgets/controls",
            "_model_module_version": "1.5.0",
            "_model_name": "HTMLModel",
            "_view_count": null,
            "_view_module": "@jupyter-widgets/controls",
            "_view_module_version": "1.5.0",
            "_view_name": "HTMLView",
            "description": "",
            "description_tooltip": null,
            "layout": "IPY_MODEL_1a8afc7540af4204bb308d8a1598e882",
            "placeholder": "​",
            "style": "IPY_MODEL_42da2fab949441db969932874aa4e0bf",
            "value": " 1.55k/1.55k [00:00&lt;00:00, 16.1kB/s]"
          }
        },
        "fdf61524bf7d45b987cf99c9ff9277f0": {
          "model_module": "@jupyter-widgets/controls",
          "model_module_version": "1.5.0",
          "model_name": "FloatProgressModel",
          "state": {
            "_dom_classes": [],
            "_model_module": "@jupyter-widgets/controls",
            "_model_module_version": "1.5.0",
            "_model_name": "FloatProgressModel",
            "_view_count": null,
            "_view_module": "@jupyter-widgets/controls",
            "_view_module_version": "1.5.0",
            "_view_name": "ProgressView",
            "bar_style": "success",
            "description": "",
            "description_tooltip": null,
            "layout": "IPY_MODEL_e5e1d383baad4e43aa72818501021d85",
            "max": 1547,
            "min": 0,
            "orientation": "horizontal",
            "style": "IPY_MODEL_f68c8b906cff4b72b247074068f84e66",
            "value": 1547
          }
        }
      }
    }
  },
  "nbformat": 4,
  "nbformat_minor": 0
}
